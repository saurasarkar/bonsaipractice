{
 "cells": [
  {
   "cell_type": "markdown",
   "metadata": {},
   "source": [
    "# Bonsai Data Analyst Test - Wrangling with Jupyter\n",
    "#### By Saurabh Sarkar\n",
    "\n",
    "***\n",
    "\n",
    "I will be using Jupyter notebooks and relevant Python libraries to perform Exploratory Data Analysis (or EDA) on redacted customer, order and product data. EDA involes exploring and augmenting the data in order to maximize the potential of the analysis to draw conclusions and make predictions. Before exploration, we will WRANGLE the data to ensure its quality. It is in fact common practice to re-visit wrangling throughout the EDA process as new problems are discovered. However, in this report the steps are presented in order to highglight the necessary steps required to go from discovery to exploration to providing validated and actionable insight for the Business to execute.\n",
    "\n",
    "<ul>\n",
    "<li><a href=\"#prelim\">Preliminary Analysis</a></li>\n",
    "<li><a href=\"#wrangle\">Data Wrangling</a></li>\n",
    "<li><a href=\"#eda\">Exploratory Data Analysis</a></li>\n",
    "</ul>\n",
    "\n",
    "With multiple data sources, it is useful to organize the process using Python libraries within Jupyter notebook. It is a complete tool that also includes visulization libraries. However other data analysis tools like *Data Studio*, *R Studio* and *Tableau* are more effective data exploration tools as they have powerful visualization engines providing a more immersive exploration option. The visualization factor plays an important part in justifying and conveying meaning in the insights discovered. Links to the reports from these tools are included in the conclusion section of this report.\n",
    "\n",
    "Before the analysis begin, I utilized the following question to form a *Mental Model* or a high level view of the requirements of the business decision that needs to be made:\n",
    "> What are the sales per month\n",
    "\n",
    "> Highest selling product by category\n",
    "\n",
    "> Identify customer behaviours\n",
    "\n",
    "> Are there any operational improvements"
   ]
  },
  {
   "cell_type": "markdown",
   "metadata": {},
   "source": [
    "<a id='prelim'></a>\n",
    "## Preliminary Analysis\n",
    "\n",
    "In this section we load the data and identify cleaning options on the strucutre and itegrity of the datasets. The multiple data sources will also mean opportunities to join the data using any common features that are found in this part of the analysis. "
   ]
  },
  {
   "cell_type": "markdown",
   "metadata": {},
   "source": [
    "We start by importing the necessary packages or libraries. The `pandas` and `numpy` packages below are used extensively for data analysis using Python"
   ]
  },
  {
   "cell_type": "code",
   "execution_count": 2165,
   "metadata": {},
   "outputs": [],
   "source": [
    "# Import Packages\n",
    "import pandas as pd\n",
    "import numpy as np\n",
    "# This allows us to view visualizations in Jupyter notebook\n",
    "%matplotlib inline\n"
   ]
  },
  {
   "cell_type": "markdown",
   "metadata": {},
   "source": [
    "Load csv files into a Pandas dataframe for further analysis. A `index_col=0` parameter is used to disregard the first 'index' column of the underlying csv files"
   ]
  },
  {
   "cell_type": "code",
   "execution_count": 2166,
   "metadata": {},
   "outputs": [],
   "source": [
    "# Create dataframes from csv files\n",
    "## Include index_col=0 as underlying csv data includes a index column\n",
    "## Also explicitly state conversion for 'zipcode' as a string as it is auto converted \n",
    "    ## to int and there is risk of losing leading zeroes\n",
    "custimport = pd.read_csv('./bonsai_mock_data/customer_data.csv', index_col=0, converters={'zipcode': lambda x: str(x)})\n",
    "orderimport = pd.read_csv('./bonsai_mock_data/order_data.csv', index_col=0)\n",
    "orderprodimport = pd.read_csv('./bonsai_mock_data/order_product_data.csv', index_col=0)\n",
    "prodimport = pd.read_csv('./bonsai_mock_data/product_data.csv', index_col=0)"
   ]
  },
  {
   "cell_type": "markdown",
   "metadata": {},
   "source": [
    "#### Dataset 1 - Customer Data\n",
    "Consists of customer data indentifying orders to unique customer and their the customers address. This will be a key dataset to explore the behavior of customers."
   ]
  },
  {
   "cell_type": "code",
   "execution_count": 2167,
   "metadata": {},
   "outputs": [
    {
     "data": {
      "text/html": [
       "<div>\n",
       "<style scoped>\n",
       "    .dataframe tbody tr th:only-of-type {\n",
       "        vertical-align: middle;\n",
       "    }\n",
       "\n",
       "    .dataframe tbody tr th {\n",
       "        vertical-align: top;\n",
       "    }\n",
       "\n",
       "    .dataframe thead th {\n",
       "        text-align: right;\n",
       "    }\n",
       "</style>\n",
       "<table border=\"1\" class=\"dataframe\">\n",
       "  <thead>\n",
       "    <tr style=\"text-align: right;\">\n",
       "      <th></th>\n",
       "      <th>customer_order_id</th>\n",
       "      <th>customer_unique_id</th>\n",
       "      <th>zipcode</th>\n",
       "    </tr>\n",
       "  </thead>\n",
       "  <tbody>\n",
       "    <tr>\n",
       "      <th>0</th>\n",
       "      <td>06b8999e2fba1a1fbc88172c00ba8bc7</td>\n",
       "      <td>861eff4711a542e4b93843c6dd7febb0</td>\n",
       "      <td>14409</td>\n",
       "    </tr>\n",
       "    <tr>\n",
       "      <th>1</th>\n",
       "      <td>18955e83d337fd6b2def6b18a428ac77</td>\n",
       "      <td>290c77bc529b7ac935b93aa66c333dc3</td>\n",
       "      <td>9790</td>\n",
       "    </tr>\n",
       "    <tr>\n",
       "      <th>2</th>\n",
       "      <td>4e7b3e00288586ebd08712fdd0374a03</td>\n",
       "      <td>060e732b5b29e8181a18229c7b0b2b5e</td>\n",
       "      <td>1151</td>\n",
       "    </tr>\n",
       "    <tr>\n",
       "      <th>3</th>\n",
       "      <td>b2b6027bc5c5109e529d4dc6358b12c3</td>\n",
       "      <td>259dac757896d24d7702b9acbbff3f3c</td>\n",
       "      <td>8775</td>\n",
       "    </tr>\n",
       "    <tr>\n",
       "      <th>4</th>\n",
       "      <td>4f2d8ab171c80ec8364f7c12e35b23ad</td>\n",
       "      <td>345ecd01c38d18a9036ed96c73b8d066</td>\n",
       "      <td>13056</td>\n",
       "    </tr>\n",
       "  </tbody>\n",
       "</table>\n",
       "</div>"
      ],
      "text/plain": [
       "                  customer_order_id                customer_unique_id zipcode\n",
       "0  06b8999e2fba1a1fbc88172c00ba8bc7  861eff4711a542e4b93843c6dd7febb0   14409\n",
       "1  18955e83d337fd6b2def6b18a428ac77  290c77bc529b7ac935b93aa66c333dc3    9790\n",
       "2  4e7b3e00288586ebd08712fdd0374a03  060e732b5b29e8181a18229c7b0b2b5e    1151\n",
       "3  b2b6027bc5c5109e529d4dc6358b12c3  259dac757896d24d7702b9acbbff3f3c    8775\n",
       "4  4f2d8ab171c80ec8364f7c12e35b23ad  345ecd01c38d18a9036ed96c73b8d066   13056"
      ]
     },
     "execution_count": 2167,
     "metadata": {},
     "output_type": "execute_result"
    }
   ],
   "source": [
    "# Show first 5 records\n",
    "custimport.head()"
   ]
  },
  {
   "cell_type": "code",
   "execution_count": 2168,
   "metadata": {},
   "outputs": [
    {
     "name": "stdout",
     "output_type": "stream",
     "text": [
      "<class 'pandas.core.frame.DataFrame'>\n",
      "Int64Index: 99441 entries, 0 to 99440\n",
      "Data columns (total 3 columns):\n",
      "customer_order_id     99441 non-null object\n",
      "customer_unique_id    99441 non-null object\n",
      "zipcode               99441 non-null object\n",
      "dtypes: object(3)\n",
      "memory usage: 3.0+ MB\n"
     ]
    }
   ],
   "source": [
    "# Structure of dataset\n",
    "custimport.info()"
   ]
  },
  {
   "cell_type": "markdown",
   "metadata": {},
   "source": [
    "Discrepencies in the data integrity of zipcode is fortunately visible from the first few records having 4 digits instead of 5. This is probably due to the datatype being set as an integer instead of a string. Good practice is to set zipcode as string as we do not perform any mathematical calculations with it. Also many countries like the UK and Canada is alpha numeric zip codes"
   ]
  },
  {
   "cell_type": "markdown",
   "metadata": {},
   "source": [
    "#### Dataset 2 - Order Data\n",
    "The order dataset contains details linked to each order. The fullfillment times/dates can be used to determine potential for operational improvements. Since the orders are also assgined a `customer_order_id` we can reference the `CUSTOMER` dataset and provide deeper customer analysis. "
   ]
  },
  {
   "cell_type": "code",
   "execution_count": 2169,
   "metadata": {},
   "outputs": [
    {
     "data": {
      "text/html": [
       "<div>\n",
       "<style scoped>\n",
       "    .dataframe tbody tr th:only-of-type {\n",
       "        vertical-align: middle;\n",
       "    }\n",
       "\n",
       "    .dataframe tbody tr th {\n",
       "        vertical-align: top;\n",
       "    }\n",
       "\n",
       "    .dataframe thead th {\n",
       "        text-align: right;\n",
       "    }\n",
       "</style>\n",
       "<table border=\"1\" class=\"dataframe\">\n",
       "  <thead>\n",
       "    <tr style=\"text-align: right;\">\n",
       "      <th></th>\n",
       "      <th>order_id</th>\n",
       "      <th>customer_order_id</th>\n",
       "      <th>order_status</th>\n",
       "      <th>purchased_at</th>\n",
       "      <th>approved_at</th>\n",
       "      <th>delivered_at</th>\n",
       "    </tr>\n",
       "  </thead>\n",
       "  <tbody>\n",
       "    <tr>\n",
       "      <th>0</th>\n",
       "      <td>e481f51cbdc54678b7cc49136f2d6af7</td>\n",
       "      <td>9ef432eb6251297304e76186b10a928d</td>\n",
       "      <td>delivered</td>\n",
       "      <td>2017-10-02 10:56:33</td>\n",
       "      <td>2017-10-02 11:07:15</td>\n",
       "      <td>2017-10-10 21:25:13</td>\n",
       "    </tr>\n",
       "    <tr>\n",
       "      <th>1</th>\n",
       "      <td>53cdb2fc8bc7dce0b6741e2150273451</td>\n",
       "      <td>b0830fb4747a6c6d20dea0b8c802d7ef</td>\n",
       "      <td>delivered</td>\n",
       "      <td>2018-07-24 20:41:37</td>\n",
       "      <td>2018-07-26 03:24:27</td>\n",
       "      <td>2018-08-07 15:27:45</td>\n",
       "    </tr>\n",
       "    <tr>\n",
       "      <th>2</th>\n",
       "      <td>47770eb9100c2d0c44946d9cf07ec65d</td>\n",
       "      <td>41ce2a54c0b03bf3443c3d931a367089</td>\n",
       "      <td>delivered</td>\n",
       "      <td>2018-08-08 08:38:49</td>\n",
       "      <td>2018-08-08 08:55:23</td>\n",
       "      <td>2018-08-17 18:06:29</td>\n",
       "    </tr>\n",
       "    <tr>\n",
       "      <th>3</th>\n",
       "      <td>949d5b44dbf5de918fe9c16f97b45f8a</td>\n",
       "      <td>f88197465ea7920adcdbec7375364d82</td>\n",
       "      <td>delivered</td>\n",
       "      <td>2017-11-18 19:28:06</td>\n",
       "      <td>2017-11-18 19:45:59</td>\n",
       "      <td>2017-12-02 00:28:42</td>\n",
       "    </tr>\n",
       "    <tr>\n",
       "      <th>4</th>\n",
       "      <td>ad21c59c0840e6cb83a9ceb5573f8159</td>\n",
       "      <td>8ab97904e6daea8866dbdbc4fb7aad2c</td>\n",
       "      <td>delivered</td>\n",
       "      <td>2018-02-13 21:18:39</td>\n",
       "      <td>2018-02-13 22:20:29</td>\n",
       "      <td>2018-02-16 18:17:02</td>\n",
       "    </tr>\n",
       "  </tbody>\n",
       "</table>\n",
       "</div>"
      ],
      "text/plain": [
       "                           order_id                 customer_order_id  \\\n",
       "0  e481f51cbdc54678b7cc49136f2d6af7  9ef432eb6251297304e76186b10a928d   \n",
       "1  53cdb2fc8bc7dce0b6741e2150273451  b0830fb4747a6c6d20dea0b8c802d7ef   \n",
       "2  47770eb9100c2d0c44946d9cf07ec65d  41ce2a54c0b03bf3443c3d931a367089   \n",
       "3  949d5b44dbf5de918fe9c16f97b45f8a  f88197465ea7920adcdbec7375364d82   \n",
       "4  ad21c59c0840e6cb83a9ceb5573f8159  8ab97904e6daea8866dbdbc4fb7aad2c   \n",
       "\n",
       "  order_status         purchased_at          approved_at         delivered_at  \n",
       "0    delivered  2017-10-02 10:56:33  2017-10-02 11:07:15  2017-10-10 21:25:13  \n",
       "1    delivered  2018-07-24 20:41:37  2018-07-26 03:24:27  2018-08-07 15:27:45  \n",
       "2    delivered  2018-08-08 08:38:49  2018-08-08 08:55:23  2018-08-17 18:06:29  \n",
       "3    delivered  2017-11-18 19:28:06  2017-11-18 19:45:59  2017-12-02 00:28:42  \n",
       "4    delivered  2018-02-13 21:18:39  2018-02-13 22:20:29  2018-02-16 18:17:02  "
      ]
     },
     "execution_count": 2169,
     "metadata": {},
     "output_type": "execute_result"
    }
   ],
   "source": [
    "# First 5 records\n",
    "orderimport.head()"
   ]
  },
  {
   "cell_type": "code",
   "execution_count": 2170,
   "metadata": {},
   "outputs": [
    {
     "name": "stdout",
     "output_type": "stream",
     "text": [
      "<class 'pandas.core.frame.DataFrame'>\n",
      "Int64Index: 99441 entries, 0 to 99440\n",
      "Data columns (total 6 columns):\n",
      "order_id             99441 non-null object\n",
      "customer_order_id    99441 non-null object\n",
      "order_status         99441 non-null object\n",
      "purchased_at         99441 non-null object\n",
      "approved_at          99281 non-null object\n",
      "delivered_at         96476 non-null object\n",
      "dtypes: object(6)\n",
      "memory usage: 5.3+ MB\n"
     ]
    }
   ],
   "source": [
    "# Structure of dataset\n",
    "orderimport.info()"
   ]
  },
  {
   "cell_type": "markdown",
   "metadata": {},
   "source": [
    "The structure of the dataset reveals Null values for `approved_at` and `delivered_at`. Further investigation is required to ensure that these Null values are accurately represented. A valid null value for example could be a NULL delivery date-time when product has NOT been delivered"
   ]
  },
  {
   "cell_type": "markdown",
   "metadata": {},
   "source": [
    "There are some cases of anomolies evident when looking at the breakdown of `order_status` within a subset of null delivery dates and null approved dates. For example for both subsets it is odd to find orders with a status of 'delivered'. Further investigation and wrangling will be required for this dataset"
   ]
  },
  {
   "cell_type": "code",
   "execution_count": 2171,
   "metadata": {},
   "outputs": [
    {
     "data": {
      "text/plain": [
       "shipped        1107\n",
       "canceled        619\n",
       "unavailable     609\n",
       "invoiced        314\n",
       "processing      301\n",
       "delivered         8\n",
       "created           5\n",
       "approved          2\n",
       "Name: order_status, dtype: int64"
      ]
     },
     "execution_count": 2171,
     "metadata": {},
     "output_type": "execute_result"
    }
   ],
   "source": [
    "# Here, we only look at orders that do not have a 'delivered_at' date\n",
    "orderimport[orderimport['delivered_at'].isnull()].order_status.value_counts()"
   ]
  },
  {
   "cell_type": "code",
   "execution_count": 2172,
   "metadata": {},
   "outputs": [
    {
     "data": {
      "text/plain": [
       "canceled     141\n",
       "delivered     14\n",
       "created        5\n",
       "Name: order_status, dtype: int64"
      ]
     },
     "execution_count": 2172,
     "metadata": {},
     "output_type": "execute_result"
    }
   ],
   "source": [
    "# And here we look at orders with no 'approved_at' date\n",
    "orderimport[orderimport['approved_at'].isnull()].order_status.value_counts()"
   ]
  },
  {
   "cell_type": "markdown",
   "metadata": {},
   "source": [
    "#### Dataset 3 - Order Product Data\n",
    "The order product dataset links the orders to a specific product and its respective price and shipping cost. This will be the source to capture monetary value for sales and shipping"
   ]
  },
  {
   "cell_type": "code",
   "execution_count": 2173,
   "metadata": {},
   "outputs": [
    {
     "data": {
      "text/html": [
       "<div>\n",
       "<style scoped>\n",
       "    .dataframe tbody tr th:only-of-type {\n",
       "        vertical-align: middle;\n",
       "    }\n",
       "\n",
       "    .dataframe tbody tr th {\n",
       "        vertical-align: top;\n",
       "    }\n",
       "\n",
       "    .dataframe thead th {\n",
       "        text-align: right;\n",
       "    }\n",
       "</style>\n",
       "<table border=\"1\" class=\"dataframe\">\n",
       "  <thead>\n",
       "    <tr style=\"text-align: right;\">\n",
       "      <th></th>\n",
       "      <th>order_id</th>\n",
       "      <th>num_items_in_order</th>\n",
       "      <th>product_id</th>\n",
       "      <th>price</th>\n",
       "      <th>shipping</th>\n",
       "    </tr>\n",
       "  </thead>\n",
       "  <tbody>\n",
       "    <tr>\n",
       "      <th>0</th>\n",
       "      <td>00010242fe8c5a6d1ba2dd792cb16214</td>\n",
       "      <td>1</td>\n",
       "      <td>4244733e06e7ecb4970a6e2683c13e61</td>\n",
       "      <td>58.90</td>\n",
       "      <td>13.29</td>\n",
       "    </tr>\n",
       "    <tr>\n",
       "      <th>1</th>\n",
       "      <td>00018f77f2f0320c557190d7a144bdd3</td>\n",
       "      <td>1</td>\n",
       "      <td>e5f2d52b802189ee658865ca93d83a8f</td>\n",
       "      <td>239.90</td>\n",
       "      <td>19.93</td>\n",
       "    </tr>\n",
       "    <tr>\n",
       "      <th>2</th>\n",
       "      <td>000229ec398224ef6ca0657da4fc703e</td>\n",
       "      <td>1</td>\n",
       "      <td>c777355d18b72b67abbeef9df44fd0fd</td>\n",
       "      <td>199.00</td>\n",
       "      <td>17.87</td>\n",
       "    </tr>\n",
       "    <tr>\n",
       "      <th>3</th>\n",
       "      <td>00024acbcdf0a6daa1e931b038114c75</td>\n",
       "      <td>1</td>\n",
       "      <td>7634da152a4610f1595efa32f14722fc</td>\n",
       "      <td>12.99</td>\n",
       "      <td>12.79</td>\n",
       "    </tr>\n",
       "    <tr>\n",
       "      <th>4</th>\n",
       "      <td>00042b26cf59d7ce69dfabb4e55b4fd9</td>\n",
       "      <td>1</td>\n",
       "      <td>ac6c3623068f30de03045865e4e10089</td>\n",
       "      <td>199.90</td>\n",
       "      <td>18.14</td>\n",
       "    </tr>\n",
       "  </tbody>\n",
       "</table>\n",
       "</div>"
      ],
      "text/plain": [
       "                           order_id  num_items_in_order  \\\n",
       "0  00010242fe8c5a6d1ba2dd792cb16214                   1   \n",
       "1  00018f77f2f0320c557190d7a144bdd3                   1   \n",
       "2  000229ec398224ef6ca0657da4fc703e                   1   \n",
       "3  00024acbcdf0a6daa1e931b038114c75                   1   \n",
       "4  00042b26cf59d7ce69dfabb4e55b4fd9                   1   \n",
       "\n",
       "                         product_id   price  shipping  \n",
       "0  4244733e06e7ecb4970a6e2683c13e61   58.90     13.29  \n",
       "1  e5f2d52b802189ee658865ca93d83a8f  239.90     19.93  \n",
       "2  c777355d18b72b67abbeef9df44fd0fd  199.00     17.87  \n",
       "3  7634da152a4610f1595efa32f14722fc   12.99     12.79  \n",
       "4  ac6c3623068f30de03045865e4e10089  199.90     18.14  "
      ]
     },
     "execution_count": 2173,
     "metadata": {},
     "output_type": "execute_result"
    }
   ],
   "source": [
    "# First 5 records\n",
    "orderprodimport.head()"
   ]
  },
  {
   "cell_type": "code",
   "execution_count": 2174,
   "metadata": {},
   "outputs": [
    {
     "name": "stdout",
     "output_type": "stream",
     "text": [
      "<class 'pandas.core.frame.DataFrame'>\n",
      "Int64Index: 112650 entries, 0 to 112649\n",
      "Data columns (total 5 columns):\n",
      "order_id              112650 non-null object\n",
      "num_items_in_order    112650 non-null int64\n",
      "product_id            112650 non-null object\n",
      "price                 112650 non-null float64\n",
      "shipping              112650 non-null float64\n",
      "dtypes: float64(2), int64(1), object(2)\n",
      "memory usage: 5.2+ MB\n"
     ]
    }
   ],
   "source": [
    "# Structure of dataset\n",
    "orderprodimport.info()"
   ]
  },
  {
   "cell_type": "markdown",
   "metadata": {},
   "source": [
    "No issues with the integrity of the id fields, with all ids have a consistent length of 32 characters. \n",
    "> *NOTE: This same method used below was utlized for all other ID fields in the other datasets*"
   ]
  },
  {
   "cell_type": "code",
   "execution_count": 2175,
   "metadata": {},
   "outputs": [
    {
     "data": {
      "text/plain": [
       "32    112650\n",
       "Name: order_id, dtype: int64"
      ]
     },
     "execution_count": 2175,
     "metadata": {},
     "output_type": "execute_result"
    }
   ],
   "source": [
    "orderprodimport.order_id.str.len().value_counts()"
   ]
  },
  {
   "cell_type": "code",
   "execution_count": 2176,
   "metadata": {},
   "outputs": [
    {
     "data": {
      "text/plain": [
       "32    112650\n",
       "Name: product_id, dtype: int64"
      ]
     },
     "execution_count": 2176,
     "metadata": {},
     "output_type": "execute_result"
    }
   ],
   "source": [
    "orderprodimport.product_id.str.len().value_counts()"
   ]
  },
  {
   "cell_type": "markdown",
   "metadata": {},
   "source": [
    "DUPLICATION analysis"
   ]
  },
  {
   "cell_type": "markdown",
   "metadata": {},
   "source": [
    "> Note: Duplication assessments using the methods below were also perfomed on the customer and order datasets and have not revealed repeated records. "
   ]
  },
  {
   "cell_type": "markdown",
   "metadata": {},
   "source": [
    "The Duplicate records in the `orderproductimport` dataset are evident when the `num_items_in_order` is excluded in the query. This seems to be a result of that field being used to repeat the same iteration of the order whenever the number of items are more than 1.\n",
    "\n",
    "Using the `duplicated()` function to tag duplicates and using a `keep=False` parameter to ensure the view shows all values, we can see that items in order are captured as a running total for each order. We will perform the clean up changes in the 'Wrangle' section."
   ]
  },
  {
   "cell_type": "code",
   "execution_count": 2177,
   "metadata": {},
   "outputs": [
    {
     "name": "stdout",
     "output_type": "stream",
     "text": [
      "<class 'pandas.core.frame.DataFrame'>\n",
      "Int64Index: 17313 entries, 13 to 112643\n",
      "Data columns (total 5 columns):\n",
      "order_id              17313 non-null object\n",
      "num_items_in_order    17313 non-null int64\n",
      "product_id            17313 non-null object\n",
      "price                 17313 non-null float64\n",
      "shipping              17313 non-null float64\n",
      "dtypes: float64(2), int64(1), object(2)\n",
      "memory usage: 811.5+ KB\n"
     ]
    },
    {
     "data": {
      "text/html": [
       "<div>\n",
       "<style scoped>\n",
       "    .dataframe tbody tr th:only-of-type {\n",
       "        vertical-align: middle;\n",
       "    }\n",
       "\n",
       "    .dataframe tbody tr th {\n",
       "        vertical-align: top;\n",
       "    }\n",
       "\n",
       "    .dataframe thead th {\n",
       "        text-align: right;\n",
       "    }\n",
       "</style>\n",
       "<table border=\"1\" class=\"dataframe\">\n",
       "  <thead>\n",
       "    <tr style=\"text-align: right;\">\n",
       "      <th></th>\n",
       "      <th>order_id</th>\n",
       "      <th>num_items_in_order</th>\n",
       "      <th>product_id</th>\n",
       "      <th>price</th>\n",
       "      <th>shipping</th>\n",
       "    </tr>\n",
       "  </thead>\n",
       "  <tbody>\n",
       "    <tr>\n",
       "      <th>13</th>\n",
       "      <td>0008288aa423d2a3f00fcb17cd7d8719</td>\n",
       "      <td>1</td>\n",
       "      <td>368c6c730842d78016ad823897a372db</td>\n",
       "      <td>49.90</td>\n",
       "      <td>13.37</td>\n",
       "    </tr>\n",
       "    <tr>\n",
       "      <th>14</th>\n",
       "      <td>0008288aa423d2a3f00fcb17cd7d8719</td>\n",
       "      <td>2</td>\n",
       "      <td>368c6c730842d78016ad823897a372db</td>\n",
       "      <td>49.90</td>\n",
       "      <td>13.37</td>\n",
       "    </tr>\n",
       "    <tr>\n",
       "      <th>32</th>\n",
       "      <td>00143d0f86d6fbd9f9b38ab440ac16f5</td>\n",
       "      <td>1</td>\n",
       "      <td>e95ee6822b66ac6058e2e4aff656071a</td>\n",
       "      <td>21.33</td>\n",
       "      <td>15.10</td>\n",
       "    </tr>\n",
       "    <tr>\n",
       "      <th>33</th>\n",
       "      <td>00143d0f86d6fbd9f9b38ab440ac16f5</td>\n",
       "      <td>2</td>\n",
       "      <td>e95ee6822b66ac6058e2e4aff656071a</td>\n",
       "      <td>21.33</td>\n",
       "      <td>15.10</td>\n",
       "    </tr>\n",
       "    <tr>\n",
       "      <th>34</th>\n",
       "      <td>00143d0f86d6fbd9f9b38ab440ac16f5</td>\n",
       "      <td>3</td>\n",
       "      <td>e95ee6822b66ac6058e2e4aff656071a</td>\n",
       "      <td>21.33</td>\n",
       "      <td>15.10</td>\n",
       "    </tr>\n",
       "    <tr>\n",
       "      <th>42</th>\n",
       "      <td>001ab0a7578dd66cd4b0a71f5b6e1e41</td>\n",
       "      <td>1</td>\n",
       "      <td>0b0172eb0fd18479d29c3bc122c058c2</td>\n",
       "      <td>24.89</td>\n",
       "      <td>17.63</td>\n",
       "    </tr>\n",
       "    <tr>\n",
       "      <th>43</th>\n",
       "      <td>001ab0a7578dd66cd4b0a71f5b6e1e41</td>\n",
       "      <td>2</td>\n",
       "      <td>0b0172eb0fd18479d29c3bc122c058c2</td>\n",
       "      <td>24.89</td>\n",
       "      <td>17.63</td>\n",
       "    </tr>\n",
       "    <tr>\n",
       "      <th>44</th>\n",
       "      <td>001ab0a7578dd66cd4b0a71f5b6e1e41</td>\n",
       "      <td>3</td>\n",
       "      <td>0b0172eb0fd18479d29c3bc122c058c2</td>\n",
       "      <td>24.89</td>\n",
       "      <td>17.63</td>\n",
       "    </tr>\n",
       "    <tr>\n",
       "      <th>48</th>\n",
       "      <td>001d8f0e34a38c37f7dba2a37d4eba8b</td>\n",
       "      <td>1</td>\n",
       "      <td>e67307ff0f15ade43fcb6e670be7a74c</td>\n",
       "      <td>18.99</td>\n",
       "      <td>7.78</td>\n",
       "    </tr>\n",
       "    <tr>\n",
       "      <th>49</th>\n",
       "      <td>001d8f0e34a38c37f7dba2a37d4eba8b</td>\n",
       "      <td>2</td>\n",
       "      <td>e67307ff0f15ade43fcb6e670be7a74c</td>\n",
       "      <td>18.99</td>\n",
       "      <td>7.78</td>\n",
       "    </tr>\n",
       "  </tbody>\n",
       "</table>\n",
       "</div>"
      ],
      "text/plain": [
       "                            order_id  num_items_in_order  \\\n",
       "13  0008288aa423d2a3f00fcb17cd7d8719                   1   \n",
       "14  0008288aa423d2a3f00fcb17cd7d8719                   2   \n",
       "32  00143d0f86d6fbd9f9b38ab440ac16f5                   1   \n",
       "33  00143d0f86d6fbd9f9b38ab440ac16f5                   2   \n",
       "34  00143d0f86d6fbd9f9b38ab440ac16f5                   3   \n",
       "42  001ab0a7578dd66cd4b0a71f5b6e1e41                   1   \n",
       "43  001ab0a7578dd66cd4b0a71f5b6e1e41                   2   \n",
       "44  001ab0a7578dd66cd4b0a71f5b6e1e41                   3   \n",
       "48  001d8f0e34a38c37f7dba2a37d4eba8b                   1   \n",
       "49  001d8f0e34a38c37f7dba2a37d4eba8b                   2   \n",
       "\n",
       "                          product_id  price  shipping  \n",
       "13  368c6c730842d78016ad823897a372db  49.90     13.37  \n",
       "14  368c6c730842d78016ad823897a372db  49.90     13.37  \n",
       "32  e95ee6822b66ac6058e2e4aff656071a  21.33     15.10  \n",
       "33  e95ee6822b66ac6058e2e4aff656071a  21.33     15.10  \n",
       "34  e95ee6822b66ac6058e2e4aff656071a  21.33     15.10  \n",
       "42  0b0172eb0fd18479d29c3bc122c058c2  24.89     17.63  \n",
       "43  0b0172eb0fd18479d29c3bc122c058c2  24.89     17.63  \n",
       "44  0b0172eb0fd18479d29c3bc122c058c2  24.89     17.63  \n",
       "48  e67307ff0f15ade43fcb6e670be7a74c  18.99      7.78  \n",
       "49  e67307ff0f15ade43fcb6e670be7a74c  18.99      7.78  "
      ]
     },
     "execution_count": 2177,
     "metadata": {},
     "output_type": "execute_result"
    }
   ],
   "source": [
    "# Out of 112650, there are 17313 'duplicate' records\n",
    "# .head(10) to only show 10 of those records\n",
    "orderprodimport[orderprodimport.duplicated(subset=['order_id', 'product_id', 'price' ,'shipping'], keep = False)].info()\n",
    "orderprodimport[orderprodimport.duplicated(subset=['order_id', 'product_id', 'price' ,'shipping'], keep = False)].head(10)"
   ]
  },
  {
   "cell_type": "markdown",
   "metadata": {},
   "source": [
    "#### Dataset 4 - Product Data\n",
    "The product dataset consists of more details relating to each product"
   ]
  },
  {
   "cell_type": "code",
   "execution_count": 2178,
   "metadata": {},
   "outputs": [
    {
     "data": {
      "text/html": [
       "<div>\n",
       "<style scoped>\n",
       "    .dataframe tbody tr th:only-of-type {\n",
       "        vertical-align: middle;\n",
       "    }\n",
       "\n",
       "    .dataframe tbody tr th {\n",
       "        vertical-align: top;\n",
       "    }\n",
       "\n",
       "    .dataframe thead th {\n",
       "        text-align: right;\n",
       "    }\n",
       "</style>\n",
       "<table border=\"1\" class=\"dataframe\">\n",
       "  <thead>\n",
       "    <tr style=\"text-align: right;\">\n",
       "      <th></th>\n",
       "      <th>product_id</th>\n",
       "      <th>number_of_photos</th>\n",
       "      <th>category</th>\n",
       "    </tr>\n",
       "  </thead>\n",
       "  <tbody>\n",
       "    <tr>\n",
       "      <th>0</th>\n",
       "      <td>1e9e8ef04dbcff4541ed26657ea517e5</td>\n",
       "      <td>1</td>\n",
       "      <td>perfumery</td>\n",
       "    </tr>\n",
       "    <tr>\n",
       "      <th>1</th>\n",
       "      <td>6a2fb4dd53d2cdb88e0432f1284a004c</td>\n",
       "      <td>2</td>\n",
       "      <td>perfumery</td>\n",
       "    </tr>\n",
       "    <tr>\n",
       "      <th>2</th>\n",
       "      <td>0d009643171aee696f4733340bc2fdd0</td>\n",
       "      <td>1</td>\n",
       "      <td>perfumery</td>\n",
       "    </tr>\n",
       "    <tr>\n",
       "      <th>3</th>\n",
       "      <td>b1eae565a61935e0011ee7682fef9dc9</td>\n",
       "      <td>2</td>\n",
       "      <td>perfumery</td>\n",
       "    </tr>\n",
       "    <tr>\n",
       "      <th>4</th>\n",
       "      <td>8da90b37f0fb171b4877c124f965b1f6</td>\n",
       "      <td>3</td>\n",
       "      <td>perfumery</td>\n",
       "    </tr>\n",
       "  </tbody>\n",
       "</table>\n",
       "</div>"
      ],
      "text/plain": [
       "                         product_id  number_of_photos   category\n",
       "0  1e9e8ef04dbcff4541ed26657ea517e5                 1  perfumery\n",
       "1  6a2fb4dd53d2cdb88e0432f1284a004c                 2  perfumery\n",
       "2  0d009643171aee696f4733340bc2fdd0                 1  perfumery\n",
       "3  b1eae565a61935e0011ee7682fef9dc9                 2  perfumery\n",
       "4  8da90b37f0fb171b4877c124f965b1f6                 3  perfumery"
      ]
     },
     "execution_count": 2178,
     "metadata": {},
     "output_type": "execute_result"
    }
   ],
   "source": [
    "# First 5 records\n",
    "prodimport.head()"
   ]
  },
  {
   "cell_type": "code",
   "execution_count": 2179,
   "metadata": {},
   "outputs": [
    {
     "name": "stdout",
     "output_type": "stream",
     "text": [
      "<class 'pandas.core.frame.DataFrame'>\n",
      "Int64Index: 32328 entries, 0 to 32327\n",
      "Data columns (total 3 columns):\n",
      "product_id          32328 non-null object\n",
      "number_of_photos    32328 non-null int64\n",
      "category            32328 non-null object\n",
      "dtypes: int64(1), object(2)\n",
      "memory usage: 1010.2+ KB\n"
     ]
    }
   ],
   "source": [
    "# Dataset structure\n",
    "prodimport.info()"
   ]
  },
  {
   "cell_type": "markdown",
   "metadata": {},
   "source": [
    "The breakdown for `number_of_photos` and `category` can be seen below, where the same product category has different options with different number of photos"
   ]
  },
  {
   "cell_type": "code",
   "execution_count": 2180,
   "metadata": {},
   "outputs": [
    {
     "data": {
      "text/plain": [
       "category          number_of_photos\n",
       "air_conditioning  1                    67\n",
       "                  2                    19\n",
       "                  3                     7\n",
       "                  4                    16\n",
       "                  5                    12\n",
       "                  6                     2\n",
       "                  7                     1\n",
       "art               1                    38\n",
       "                  2                    14\n",
       "                  3                     7\n",
       "                  4                     2\n",
       "                  5                     5\n",
       "                  6                     3\n",
       "                  7                     4\n",
       "                  10                    1\n",
       "audio             1                    31\n",
       "                  2                    10\n",
       "                  3                     7\n",
       "                  4                     6\n",
       "                  5                     2\n",
       "                  6                     2\n",
       "auto              1                   747\n",
       "                  2                   320\n",
       "                  3                   300\n",
       "                  4                   165\n",
       "                  5                   196\n",
       "                  6                   145\n",
       "                  7                    11\n",
       "                  8                    10\n",
       "                  9                     4\n",
       "                                     ... \n",
       "stationery        4                    90\n",
       "                  5                    55\n",
       "                  6                    26\n",
       "                  7                    20\n",
       "                  8                     8\n",
       "                  9                     7\n",
       "                  10                   12\n",
       "toys              1                   537\n",
       "                  2                   358\n",
       "                  3                   212\n",
       "                  4                   137\n",
       "                  5                    81\n",
       "                  6                    42\n",
       "                  7                    17\n",
       "                  8                    10\n",
       "                  9                     7\n",
       "                  10                    7\n",
       "                  11                    1\n",
       "                  12                    1\n",
       "                  20                    1\n",
       "watches           1                   541\n",
       "                  2                   370\n",
       "                  3                   205\n",
       "                  4                   101\n",
       "                  5                    55\n",
       "                  6                    28\n",
       "                  7                    13\n",
       "                  8                    10\n",
       "                  9                     5\n",
       "                  10                    1\n",
       "Name: product_id, Length: 357, dtype: int64"
      ]
     },
     "execution_count": 2180,
     "metadata": {},
     "output_type": "execute_result"
    }
   ],
   "source": [
    "prodimport.groupby(['category', 'number_of_photos'])['product_id'].count()"
   ]
  },
  {
   "cell_type": "code",
   "execution_count": 2181,
   "metadata": {},
   "outputs": [
    {
     "name": "stdout",
     "output_type": "stream",
     "text": [
      "number of categories: 41\n"
     ]
    },
    {
     "data": {
      "text/plain": [
       "furniture                   5991\n",
       "home                        3398\n",
       "sports                      2867\n",
       "health_beauty               2444\n",
       "auto                        1900\n",
       "computers_accessories       1639\n",
       "toys                        1411\n",
       "watches                     1329\n",
       "phones                      1250\n",
       "miscellaneous                988\n",
       "baby                         931\n",
       "perfumery                    868\n",
       "stationery                   858\n",
       "fashion_accessories          849\n",
       "garden_tools                 753\n",
       "pet_shop                     719\n",
       "construction_tools           569\n",
       "electronics                  517\n",
       "books                        370\n",
       "music                        365\n",
       "luggage_accessories          349\n",
       "games                        317\n",
       "office_furniture             309\n",
       "food_drink                   277\n",
       "fashion_shoes                173\n",
       "industrials                  142\n",
       "air_conditioning             124\n",
       "fashion_male                  95\n",
       "costruction_tools_garden      88\n",
       "art                           74\n",
       "christmas                     65\n",
       "audio                         58\n",
       "fashion_underwear_beach       53\n",
       "costruction_tools_tools       39\n",
       "computers                     30\n",
       "photography                   28\n",
       "fashion_female                27\n",
       "party_supplies                26\n",
       "fashion_sport                 19\n",
       "flowers                       14\n",
       "fashion_kids                   5\n",
       "Name: category, dtype: int64"
      ]
     },
     "execution_count": 2181,
     "metadata": {},
     "output_type": "execute_result"
    }
   ],
   "source": [
    "# 41 different 'Category'\n",
    "print(\"number of categories: {}\".format(prodimport.category.value_counts().count()))\n",
    "prodimport.category.value_counts()"
   ]
  },
  {
   "cell_type": "markdown",
   "metadata": {},
   "source": [
    "Categories for different types of fashion should be combined into a single category"
   ]
  },
  {
   "cell_type": "code",
   "execution_count": 2182,
   "metadata": {},
   "outputs": [
    {
     "data": {
      "text/plain": [
       "fashion_accessories        849\n",
       "fashion_shoes              173\n",
       "fashion_male                95\n",
       "fashion_underwear_beach     53\n",
       "fashion_female              27\n",
       "fashion_sport               19\n",
       "fashion_kids                 5\n",
       "Name: category, dtype: int64"
      ]
     },
     "execution_count": 2182,
     "metadata": {},
     "output_type": "execute_result"
    }
   ],
   "source": [
    "prodimport.query(\"category.str.contains('fashion')\", engine = 'python')['category'].value_counts()"
   ]
  },
  {
   "cell_type": "markdown",
   "metadata": {},
   "source": [
    "2 of the labels are not categorized properly and are in fact mis-spelled as well"
   ]
  },
  {
   "cell_type": "code",
   "execution_count": 2183,
   "metadata": {},
   "outputs": [
    {
     "data": {
      "text/plain": [
       "garden_tools                753\n",
       "construction_tools          569\n",
       "costruction_tools_garden     88\n",
       "costruction_tools_tools      39\n",
       "Name: category, dtype: int64"
      ]
     },
     "execution_count": 2183,
     "metadata": {},
     "output_type": "execute_result"
    }
   ],
   "source": [
    "prodimport.query(\"category.str.contains('tools')\", engine = 'python')['category'].value_counts()"
   ]
  },
  {
   "cell_type": "markdown",
   "metadata": {},
   "source": [
    "<a id='wrangle'></a>\n",
    "## Data Wrangling\n"
   ]
  },
  {
   "cell_type": "markdown",
   "metadata": {},
   "source": [
    "Data Wrangling means ensuring the quality of the data. Below are the 4 datasets and a summary of our findings so far and other steps necessary to ensure that we 'Clean' and 'Tidy' up our data sets before further analysis\n",
    "* `orderprodimport` from order_product_data.csv\n",
    "    * **Step 1**: Remove repeated records captured for each item iteration within the same order\n",
    "* `orderimport` from order_data.csv\n",
    "    * **Step 2**: Change datatype for date-time fields from 'object'/'string' to datetime. This is necessary to perform calculations on dates\n",
    "    * **Step 3**: Identify and tag anomolies in data related to the different date-time fields -- `purchased_at`, `approved_at` and `delivered_at`\n",
    "* `custimport` from customer_data.csv\n",
    "    * No duplicate records, No null values\n",
    "    * **Step 4**: Change zipcode datatype to 'String' and determine if data is valid\n",
    "* `prodimport`  from product_data.csv\n",
    "    * No duplicate records, No null values, Data types assigned correctly\n",
    "    * **Step 5**: Fix/Combine category names for tools and fashion"
   ]
  },
  {
   "cell_type": "markdown",
   "metadata": {},
   "source": [
    "#### STEP 1 - Create new dataset from `orderprodimport` by removing duplicates"
   ]
  },
  {
   "cell_type": "markdown",
   "metadata": {},
   "source": [
    "Before - Duplicated records since items are recorded iteratively. Below you can see an example, where the order_id and product_id repeat records for price and shipping for each itertion of the item"
   ]
  },
  {
   "cell_type": "code",
   "execution_count": 2184,
   "metadata": {},
   "outputs": [
    {
     "data": {
      "text/html": [
       "<div>\n",
       "<style scoped>\n",
       "    .dataframe tbody tr th:only-of-type {\n",
       "        vertical-align: middle;\n",
       "    }\n",
       "\n",
       "    .dataframe tbody tr th {\n",
       "        vertical-align: top;\n",
       "    }\n",
       "\n",
       "    .dataframe thead th {\n",
       "        text-align: right;\n",
       "    }\n",
       "</style>\n",
       "<table border=\"1\" class=\"dataframe\">\n",
       "  <thead>\n",
       "    <tr style=\"text-align: right;\">\n",
       "      <th></th>\n",
       "      <th>order_id</th>\n",
       "      <th>num_items_in_order</th>\n",
       "      <th>product_id</th>\n",
       "      <th>price</th>\n",
       "      <th>shipping</th>\n",
       "    </tr>\n",
       "  </thead>\n",
       "  <tbody>\n",
       "    <tr>\n",
       "      <th>32</th>\n",
       "      <td>00143d0f86d6fbd9f9b38ab440ac16f5</td>\n",
       "      <td>1</td>\n",
       "      <td>e95ee6822b66ac6058e2e4aff656071a</td>\n",
       "      <td>21.33</td>\n",
       "      <td>15.1</td>\n",
       "    </tr>\n",
       "    <tr>\n",
       "      <th>33</th>\n",
       "      <td>00143d0f86d6fbd9f9b38ab440ac16f5</td>\n",
       "      <td>2</td>\n",
       "      <td>e95ee6822b66ac6058e2e4aff656071a</td>\n",
       "      <td>21.33</td>\n",
       "      <td>15.1</td>\n",
       "    </tr>\n",
       "    <tr>\n",
       "      <th>34</th>\n",
       "      <td>00143d0f86d6fbd9f9b38ab440ac16f5</td>\n",
       "      <td>3</td>\n",
       "      <td>e95ee6822b66ac6058e2e4aff656071a</td>\n",
       "      <td>21.33</td>\n",
       "      <td>15.1</td>\n",
       "    </tr>\n",
       "  </tbody>\n",
       "</table>\n",
       "</div>"
      ],
      "text/plain": [
       "                            order_id  num_items_in_order  \\\n",
       "32  00143d0f86d6fbd9f9b38ab440ac16f5                   1   \n",
       "33  00143d0f86d6fbd9f9b38ab440ac16f5                   2   \n",
       "34  00143d0f86d6fbd9f9b38ab440ac16f5                   3   \n",
       "\n",
       "                          product_id  price  shipping  \n",
       "32  e95ee6822b66ac6058e2e4aff656071a  21.33      15.1  \n",
       "33  e95ee6822b66ac6058e2e4aff656071a  21.33      15.1  \n",
       "34  e95ee6822b66ac6058e2e4aff656071a  21.33      15.1  "
      ]
     },
     "execution_count": 2184,
     "metadata": {},
     "output_type": "execute_result"
    }
   ],
   "source": [
    "# And querying a specific 'order_id' results in an iterative log of three records\n",
    "orderprodimport[orderprodimport.order_id == '00143d0f86d6fbd9f9b38ab440ac16f5']"
   ]
  },
  {
   "cell_type": "markdown",
   "metadata": {},
   "source": [
    "Also note that the total number of records before anything is changed is 112650"
   ]
  },
  {
   "cell_type": "code",
   "execution_count": 2185,
   "metadata": {},
   "outputs": [
    {
     "data": {
      "text/plain": [
       "(112650, 5)"
      ]
     },
     "execution_count": 2185,
     "metadata": {},
     "output_type": "execute_result"
    }
   ],
   "source": [
    "orderprodimport.shape"
   ]
  },
  {
   "cell_type": "markdown",
   "metadata": {},
   "source": [
    "After - Create a new data set call `ORDER_PRODUCT` by removing records for earlier iterations of multiple item orders. This is done by using the `drop_duplicates()` function using the parameter `keep = last` to ensure only the highest value for number of items is kept"
   ]
  },
  {
   "cell_type": "code",
   "execution_count": 2186,
   "metadata": {},
   "outputs": [],
   "source": [
    "# Using subset of all features to identify duplicates \n",
    "    # and only keeping the last record of duplicate with highest number of items\n",
    "order_product = orderprodimport.drop_duplicates(subset=['order_id', 'product_id', 'price' ,'shipping'], keep = 'last')"
   ]
  },
  {
   "cell_type": "markdown",
   "metadata": {},
   "source": [
    "With the duplicates removed, you see that the number of records is reduced by 225 records and we also confirm that no duplicates exist"
   ]
  },
  {
   "cell_type": "code",
   "execution_count": 2187,
   "metadata": {},
   "outputs": [
    {
     "name": "stdout",
     "output_type": "stream",
     "text": [
      "<class 'pandas.core.frame.DataFrame'>\n",
      "Int64Index: 102425 entries, 0 to 112649\n",
      "Data columns (total 5 columns):\n",
      "order_id              102425 non-null object\n",
      "num_items_in_order    102425 non-null int64\n",
      "product_id            102425 non-null object\n",
      "price                 102425 non-null float64\n",
      "shipping              102425 non-null float64\n",
      "dtypes: float64(2), int64(1), object(2)\n",
      "memory usage: 4.7+ MB\n"
     ]
    }
   ],
   "source": [
    "# Records reduced from 112650 to 102425\n",
    "order_product.info()"
   ]
  },
  {
   "cell_type": "markdown",
   "metadata": {},
   "source": [
    "VALIDATION"
   ]
  },
  {
   "cell_type": "code",
   "execution_count": 2188,
   "metadata": {},
   "outputs": [
    {
     "data": {
      "text/html": [
       "<div>\n",
       "<style scoped>\n",
       "    .dataframe tbody tr th:only-of-type {\n",
       "        vertical-align: middle;\n",
       "    }\n",
       "\n",
       "    .dataframe tbody tr th {\n",
       "        vertical-align: top;\n",
       "    }\n",
       "\n",
       "    .dataframe thead th {\n",
       "        text-align: right;\n",
       "    }\n",
       "</style>\n",
       "<table border=\"1\" class=\"dataframe\">\n",
       "  <thead>\n",
       "    <tr style=\"text-align: right;\">\n",
       "      <th></th>\n",
       "      <th>order_id</th>\n",
       "      <th>num_items_in_order</th>\n",
       "      <th>product_id</th>\n",
       "      <th>price</th>\n",
       "      <th>shipping</th>\n",
       "    </tr>\n",
       "  </thead>\n",
       "  <tbody>\n",
       "  </tbody>\n",
       "</table>\n",
       "</div>"
      ],
      "text/plain": [
       "Empty DataFrame\n",
       "Columns: [order_id, num_items_in_order, product_id, price, shipping]\n",
       "Index: []"
      ]
     },
     "execution_count": 2188,
     "metadata": {},
     "output_type": "execute_result"
    }
   ],
   "source": [
    "# Repeat the duplicated() function to see if duplicates were removed\n",
    "order_product[order_product.duplicated(subset=['order_id', 'product_id', 'price' ,'shipping'], keep = False)]"
   ]
  },
  {
   "cell_type": "markdown",
   "metadata": {},
   "source": [
    "Also by revisiting the same order id, we see that there is only one record and it captures the highest iteration of `num_items_in_order`"
   ]
  },
  {
   "cell_type": "code",
   "execution_count": 2189,
   "metadata": {},
   "outputs": [
    {
     "data": {
      "text/html": [
       "<div>\n",
       "<style scoped>\n",
       "    .dataframe tbody tr th:only-of-type {\n",
       "        vertical-align: middle;\n",
       "    }\n",
       "\n",
       "    .dataframe tbody tr th {\n",
       "        vertical-align: top;\n",
       "    }\n",
       "\n",
       "    .dataframe thead th {\n",
       "        text-align: right;\n",
       "    }\n",
       "</style>\n",
       "<table border=\"1\" class=\"dataframe\">\n",
       "  <thead>\n",
       "    <tr style=\"text-align: right;\">\n",
       "      <th></th>\n",
       "      <th>order_id</th>\n",
       "      <th>num_items_in_order</th>\n",
       "      <th>product_id</th>\n",
       "      <th>price</th>\n",
       "      <th>shipping</th>\n",
       "    </tr>\n",
       "  </thead>\n",
       "  <tbody>\n",
       "    <tr>\n",
       "      <th>34</th>\n",
       "      <td>00143d0f86d6fbd9f9b38ab440ac16f5</td>\n",
       "      <td>3</td>\n",
       "      <td>e95ee6822b66ac6058e2e4aff656071a</td>\n",
       "      <td>21.33</td>\n",
       "      <td>15.1</td>\n",
       "    </tr>\n",
       "  </tbody>\n",
       "</table>\n",
       "</div>"
      ],
      "text/plain": [
       "                            order_id  num_items_in_order  \\\n",
       "34  00143d0f86d6fbd9f9b38ab440ac16f5                   3   \n",
       "\n",
       "                          product_id  price  shipping  \n",
       "34  e95ee6822b66ac6058e2e4aff656071a  21.33      15.1  "
      ]
     },
     "execution_count": 2189,
     "metadata": {},
     "output_type": "execute_result"
    }
   ],
   "source": [
    "# And only single record exists with the highest number of items in order per 'order id'\n",
    "## Repeating same query as done on dataset with duplicates\n",
    "order_product[order_product.order_id == '00143d0f86d6fbd9f9b38ab440ac16f5']"
   ]
  },
  {
   "cell_type": "markdown",
   "metadata": {},
   "source": [
    "With the refinement above, we also change the column names of `price` and `shipping` in order to accurately reflect that the value in this field is per item"
   ]
  },
  {
   "cell_type": "code",
   "execution_count": 2190,
   "metadata": {},
   "outputs": [],
   "source": [
    "# USe rename function\n",
    "order_product = order_product.rename(columns={\"price\":\"price_per_item\", \"shipping\":\"shipping_per_item\"})"
   ]
  },
  {
   "cell_type": "code",
   "execution_count": 2191,
   "metadata": {},
   "outputs": [
    {
     "name": "stdout",
     "output_type": "stream",
     "text": [
      "<class 'pandas.core.frame.DataFrame'>\n",
      "Int64Index: 102425 entries, 0 to 112649\n",
      "Data columns (total 5 columns):\n",
      "order_id              102425 non-null object\n",
      "num_items_in_order    102425 non-null int64\n",
      "product_id            102425 non-null object\n",
      "price_per_item        102425 non-null float64\n",
      "shipping_per_item     102425 non-null float64\n",
      "dtypes: float64(2), int64(1), object(2)\n",
      "memory usage: 4.7+ MB\n"
     ]
    }
   ],
   "source": [
    "# New column names\n",
    "order_product.info()"
   ]
  },
  {
   "cell_type": "markdown",
   "metadata": {},
   "source": [
    "#### STEP 2 - Change to datetime datatype of features in `orderimport` dataset\n",
    "*Note: Option exists to parse dates automatically on import, but has been buggy in the past*"
   ]
  },
  {
   "cell_type": "markdown",
   "metadata": {},
   "source": [
    "Before: Data type of type 'object' (i.e. 'string') which will not allow to perform date difference calculations"
   ]
  },
  {
   "cell_type": "code",
   "execution_count": 2192,
   "metadata": {},
   "outputs": [
    {
     "name": "stdout",
     "output_type": "stream",
     "text": [
      "<class 'pandas.core.frame.DataFrame'>\n",
      "Int64Index: 99441 entries, 0 to 99440\n",
      "Data columns (total 6 columns):\n",
      "order_id             99441 non-null object\n",
      "customer_order_id    99441 non-null object\n",
      "order_status         99441 non-null object\n",
      "purchased_at         99441 non-null object\n",
      "approved_at          99281 non-null object\n",
      "delivered_at         96476 non-null object\n",
      "dtypes: object(6)\n",
      "memory usage: 5.3+ MB\n"
     ]
    }
   ],
   "source": [
    "orderimport.info()"
   ]
  },
  {
   "cell_type": "markdown",
   "metadata": {},
   "source": [
    "After: Change date types"
   ]
  },
  {
   "cell_type": "code",
   "execution_count": 2193,
   "metadata": {},
   "outputs": [],
   "source": [
    "orderimport.purchased_at = orderimport.purchased_at.astype('datetime64[ns]')\n",
    "orderimport.approved_at = orderimport.approved_at.astype('datetime64[ns]')\n",
    "orderimport.delivered_at = orderimport.delivered_at.astype('datetime64[ns]')"
   ]
  },
  {
   "cell_type": "markdown",
   "metadata": {},
   "source": [
    "VALIDATION"
   ]
  },
  {
   "cell_type": "code",
   "execution_count": 2194,
   "metadata": {},
   "outputs": [
    {
     "name": "stdout",
     "output_type": "stream",
     "text": [
      "<class 'pandas.core.frame.DataFrame'>\n",
      "Int64Index: 99441 entries, 0 to 99440\n",
      "Data columns (total 6 columns):\n",
      "order_id             99441 non-null object\n",
      "customer_order_id    99441 non-null object\n",
      "order_status         99441 non-null object\n",
      "purchased_at         99441 non-null datetime64[ns]\n",
      "approved_at          99281 non-null datetime64[ns]\n",
      "delivered_at         96476 non-null datetime64[ns]\n",
      "dtypes: datetime64[ns](3), object(3)\n",
      "memory usage: 5.3+ MB\n"
     ]
    }
   ],
   "source": [
    "orderimport.info()"
   ]
  },
  {
   "cell_type": "markdown",
   "metadata": {},
   "source": [
    "#### STEP 3: Identify anomolies in the order dataset related to logging times for the different date timestamp fields\n"
   ]
  },
  {
   "cell_type": "markdown",
   "metadata": {},
   "source": [
    "*ANOMOLY 1*: Order status is NOT `delivered` but has a `delivered_at` value\n",
    "\n",
    "Orders that have status' as 'canceled' or 'unavilable' or 'invoiced' or 'processing' or 'created' or 'approved' are expected to have NULL value for `delivered_at`. Out of the non-delivered states, the anomoly of having a `delivered_at` date-time, is identified only for the `canceled` state. "
   ]
  },
  {
   "cell_type": "code",
   "execution_count": 2195,
   "metadata": {},
   "outputs": [
    {
     "data": {
      "text/html": [
       "<div>\n",
       "<style scoped>\n",
       "    .dataframe tbody tr th:only-of-type {\n",
       "        vertical-align: middle;\n",
       "    }\n",
       "\n",
       "    .dataframe tbody tr th {\n",
       "        vertical-align: top;\n",
       "    }\n",
       "\n",
       "    .dataframe thead th {\n",
       "        text-align: right;\n",
       "    }\n",
       "</style>\n",
       "<table border=\"1\" class=\"dataframe\">\n",
       "  <thead>\n",
       "    <tr style=\"text-align: right;\">\n",
       "      <th></th>\n",
       "      <th>order_id</th>\n",
       "      <th>customer_order_id</th>\n",
       "      <th>order_status</th>\n",
       "      <th>purchased_at</th>\n",
       "      <th>approved_at</th>\n",
       "      <th>delivered_at</th>\n",
       "    </tr>\n",
       "  </thead>\n",
       "  <tbody>\n",
       "    <tr>\n",
       "      <th>2921</th>\n",
       "      <td>1950d777989f6a877539f53795b4c3c3</td>\n",
       "      <td>1bccb206de9f0f25adc6871a1bcf77b2</td>\n",
       "      <td>canceled</td>\n",
       "      <td>2018-02-19 19:48:52</td>\n",
       "      <td>2018-02-19 20:56:05</td>\n",
       "      <td>2018-03-21 22:03:51</td>\n",
       "    </tr>\n",
       "    <tr>\n",
       "      <th>8791</th>\n",
       "      <td>dabf2b0e35b423f94618bf965fcb7514</td>\n",
       "      <td>5cdec0bb8cbdf53ffc8fdc212cd247c6</td>\n",
       "      <td>canceled</td>\n",
       "      <td>2016-10-09 00:56:52</td>\n",
       "      <td>2016-10-09 13:36:58</td>\n",
       "      <td>2016-10-16 14:36:59</td>\n",
       "    </tr>\n",
       "    <tr>\n",
       "      <th>58266</th>\n",
       "      <td>770d331c84e5b214bd9dc70a10b829d0</td>\n",
       "      <td>6c57e6119369185e575b36712766b0ef</td>\n",
       "      <td>canceled</td>\n",
       "      <td>2016-10-07 14:52:30</td>\n",
       "      <td>2016-10-07 15:07:10</td>\n",
       "      <td>2016-10-14 15:07:11</td>\n",
       "    </tr>\n",
       "    <tr>\n",
       "      <th>59332</th>\n",
       "      <td>8beb59392e21af5eb9547ae1a9938d06</td>\n",
       "      <td>bf609b5741f71697f65ce3852c5d2623</td>\n",
       "      <td>canceled</td>\n",
       "      <td>2016-10-08 20:17:50</td>\n",
       "      <td>2016-10-09 14:34:30</td>\n",
       "      <td>2016-10-19 18:47:43</td>\n",
       "    </tr>\n",
       "    <tr>\n",
       "      <th>92636</th>\n",
       "      <td>65d1e226dfaeb8cdc42f665422522d14</td>\n",
       "      <td>70fc57eeae292675927697fe03ad3ff5</td>\n",
       "      <td>canceled</td>\n",
       "      <td>2016-10-03 21:01:41</td>\n",
       "      <td>2016-10-04 10:18:57</td>\n",
       "      <td>2016-11-08 10:58:34</td>\n",
       "    </tr>\n",
       "    <tr>\n",
       "      <th>94399</th>\n",
       "      <td>2c45c33d2f9cb8ff8b1c86cc28c11c30</td>\n",
       "      <td>de4caa97afa80c8eeac2ff4c8da5b72e</td>\n",
       "      <td>canceled</td>\n",
       "      <td>2016-10-09 15:39:56</td>\n",
       "      <td>2016-10-10 10:40:49</td>\n",
       "      <td>2016-11-09 14:53:50</td>\n",
       "    </tr>\n",
       "  </tbody>\n",
       "</table>\n",
       "</div>"
      ],
      "text/plain": [
       "                               order_id                 customer_order_id  \\\n",
       "2921   1950d777989f6a877539f53795b4c3c3  1bccb206de9f0f25adc6871a1bcf77b2   \n",
       "8791   dabf2b0e35b423f94618bf965fcb7514  5cdec0bb8cbdf53ffc8fdc212cd247c6   \n",
       "58266  770d331c84e5b214bd9dc70a10b829d0  6c57e6119369185e575b36712766b0ef   \n",
       "59332  8beb59392e21af5eb9547ae1a9938d06  bf609b5741f71697f65ce3852c5d2623   \n",
       "92636  65d1e226dfaeb8cdc42f665422522d14  70fc57eeae292675927697fe03ad3ff5   \n",
       "94399  2c45c33d2f9cb8ff8b1c86cc28c11c30  de4caa97afa80c8eeac2ff4c8da5b72e   \n",
       "\n",
       "      order_status        purchased_at         approved_at        delivered_at  \n",
       "2921      canceled 2018-02-19 19:48:52 2018-02-19 20:56:05 2018-03-21 22:03:51  \n",
       "8791      canceled 2016-10-09 00:56:52 2016-10-09 13:36:58 2016-10-16 14:36:59  \n",
       "58266     canceled 2016-10-07 14:52:30 2016-10-07 15:07:10 2016-10-14 15:07:11  \n",
       "59332     canceled 2016-10-08 20:17:50 2016-10-09 14:34:30 2016-10-19 18:47:43  \n",
       "92636     canceled 2016-10-03 21:01:41 2016-10-04 10:18:57 2016-11-08 10:58:34  \n",
       "94399     canceled 2016-10-09 15:39:56 2016-10-10 10:40:49 2016-11-09 14:53:50  "
      ]
     },
     "execution_count": 2195,
     "metadata": {},
     "output_type": "execute_result"
    }
   ],
   "source": [
    "stutus_with_null_delivered = ['canceled', 'unavailable', 'invoiced', 'processing', 'created', 'approved']\n",
    "orderimport.query(\"order_status == @stutus_with_null_delivered & delivered_at.notnull()\", engine = 'python')"
   ]
  },
  {
   "cell_type": "markdown",
   "metadata": {},
   "source": [
    "The correct expecation of a NULL delevered date-time value is evident from the other 619 records (as seen below)"
   ]
  },
  {
   "cell_type": "code",
   "execution_count": 2196,
   "metadata": {},
   "outputs": [
    {
     "name": "stdout",
     "output_type": "stream",
     "text": [
      "Correctly recorded canceled status with null delivery date: 619\n",
      "\n",
      "Examples of 5 such records:\n"
     ]
    },
    {
     "data": {
      "text/html": [
       "<div>\n",
       "<style scoped>\n",
       "    .dataframe tbody tr th:only-of-type {\n",
       "        vertical-align: middle;\n",
       "    }\n",
       "\n",
       "    .dataframe tbody tr th {\n",
       "        vertical-align: top;\n",
       "    }\n",
       "\n",
       "    .dataframe thead th {\n",
       "        text-align: right;\n",
       "    }\n",
       "</style>\n",
       "<table border=\"1\" class=\"dataframe\">\n",
       "  <thead>\n",
       "    <tr style=\"text-align: right;\">\n",
       "      <th></th>\n",
       "      <th>order_id</th>\n",
       "      <th>customer_order_id</th>\n",
       "      <th>order_status</th>\n",
       "      <th>purchased_at</th>\n",
       "      <th>approved_at</th>\n",
       "      <th>delivered_at</th>\n",
       "    </tr>\n",
       "  </thead>\n",
       "  <tbody>\n",
       "    <tr>\n",
       "      <th>397</th>\n",
       "      <td>1b9ecfe83cdc259250e1a8aca174f0ad</td>\n",
       "      <td>6d6b50b66d79f80827b6d96751528d30</td>\n",
       "      <td>canceled</td>\n",
       "      <td>2018-08-04 14:29:27</td>\n",
       "      <td>2018-08-07 04:10:26</td>\n",
       "      <td>NaT</td>\n",
       "    </tr>\n",
       "    <tr>\n",
       "      <th>613</th>\n",
       "      <td>714fb133a6730ab81fa1d3c1b2007291</td>\n",
       "      <td>e3fe72696c4713d64d3c10afe71e75ed</td>\n",
       "      <td>canceled</td>\n",
       "      <td>2018-01-26 21:34:08</td>\n",
       "      <td>2018-01-26 21:58:39</td>\n",
       "      <td>NaT</td>\n",
       "    </tr>\n",
       "    <tr>\n",
       "      <th>1058</th>\n",
       "      <td>3a129877493c8189c59c60eb71d97c29</td>\n",
       "      <td>0913cdce793684e52bbfac69d87e91fd</td>\n",
       "      <td>canceled</td>\n",
       "      <td>2018-01-25 13:34:24</td>\n",
       "      <td>2018-01-25 13:50:20</td>\n",
       "      <td>NaT</td>\n",
       "    </tr>\n",
       "    <tr>\n",
       "      <th>1130</th>\n",
       "      <td>00b1cb0320190ca0daa2c88b35206009</td>\n",
       "      <td>3532ba38a3fd242259a514ac2b6ae6b6</td>\n",
       "      <td>canceled</td>\n",
       "      <td>2018-08-28 15:26:39</td>\n",
       "      <td>NaT</td>\n",
       "      <td>NaT</td>\n",
       "    </tr>\n",
       "    <tr>\n",
       "      <th>1801</th>\n",
       "      <td>ed3efbd3a87bea76c2812c66a0b32219</td>\n",
       "      <td>191984a8ba4cbb2145acb4fe35b69664</td>\n",
       "      <td>canceled</td>\n",
       "      <td>2018-09-20 13:54:16</td>\n",
       "      <td>NaT</td>\n",
       "      <td>NaT</td>\n",
       "    </tr>\n",
       "  </tbody>\n",
       "</table>\n",
       "</div>"
      ],
      "text/plain": [
       "                              order_id                 customer_order_id  \\\n",
       "397   1b9ecfe83cdc259250e1a8aca174f0ad  6d6b50b66d79f80827b6d96751528d30   \n",
       "613   714fb133a6730ab81fa1d3c1b2007291  e3fe72696c4713d64d3c10afe71e75ed   \n",
       "1058  3a129877493c8189c59c60eb71d97c29  0913cdce793684e52bbfac69d87e91fd   \n",
       "1130  00b1cb0320190ca0daa2c88b35206009  3532ba38a3fd242259a514ac2b6ae6b6   \n",
       "1801  ed3efbd3a87bea76c2812c66a0b32219  191984a8ba4cbb2145acb4fe35b69664   \n",
       "\n",
       "     order_status        purchased_at         approved_at delivered_at  \n",
       "397      canceled 2018-08-04 14:29:27 2018-08-07 04:10:26          NaT  \n",
       "613      canceled 2018-01-26 21:34:08 2018-01-26 21:58:39          NaT  \n",
       "1058     canceled 2018-01-25 13:34:24 2018-01-25 13:50:20          NaT  \n",
       "1130     canceled 2018-08-28 15:26:39                 NaT          NaT  \n",
       "1801     canceled 2018-09-20 13:54:16                 NaT          NaT  "
      ]
     },
     "execution_count": 2196,
     "metadata": {},
     "output_type": "execute_result"
    }
   ],
   "source": [
    "# null delivery dates with status as 'canceled'\n",
    "## needed to specify 'engine' when using logical statements\n",
    "canceled_and_null = orderimport.query(\"order_status == 'canceled' & delivered_at.isnull()\", engine = 'python')\n",
    "\n",
    "print(\"Correctly recorded canceled status with null delivery date: {}\".format(canceled_and_null.shape[0]))\n",
    "print(\"\\nExamples of 5 such records:\")\n",
    "canceled_and_null.head()"
   ]
  },
  {
   "cell_type": "markdown",
   "metadata": {},
   "source": [
    "*ANOMOLY 2* : Indications that issues exist with the approval system"
   ]
  },
  {
   "cell_type": "markdown",
   "metadata": {},
   "source": [
    "First example below, shows Null `approved_at` entries even though item is delivered"
   ]
  },
  {
   "cell_type": "code",
   "execution_count": 2197,
   "metadata": {},
   "outputs": [
    {
     "data": {
      "text/html": [
       "<div>\n",
       "<style scoped>\n",
       "    .dataframe tbody tr th:only-of-type {\n",
       "        vertical-align: middle;\n",
       "    }\n",
       "\n",
       "    .dataframe tbody tr th {\n",
       "        vertical-align: top;\n",
       "    }\n",
       "\n",
       "    .dataframe thead th {\n",
       "        text-align: right;\n",
       "    }\n",
       "</style>\n",
       "<table border=\"1\" class=\"dataframe\">\n",
       "  <thead>\n",
       "    <tr style=\"text-align: right;\">\n",
       "      <th></th>\n",
       "      <th>order_id</th>\n",
       "      <th>customer_order_id</th>\n",
       "      <th>order_status</th>\n",
       "      <th>purchased_at</th>\n",
       "      <th>approved_at</th>\n",
       "      <th>delivered_at</th>\n",
       "    </tr>\n",
       "  </thead>\n",
       "  <tbody>\n",
       "    <tr>\n",
       "      <th>5323</th>\n",
       "      <td>e04abd8149ef81b95221e88f6ed9ab6a</td>\n",
       "      <td>2127dc6603ac33544953ef05ec155771</td>\n",
       "      <td>delivered</td>\n",
       "      <td>2017-02-18 14:40:00</td>\n",
       "      <td>NaT</td>\n",
       "      <td>2017-03-01 13:25:33</td>\n",
       "    </tr>\n",
       "    <tr>\n",
       "      <th>16567</th>\n",
       "      <td>8a9adc69528e1001fc68dd0aaebbb54a</td>\n",
       "      <td>4c1ccc74e00993733742a3c786dc3c1f</td>\n",
       "      <td>delivered</td>\n",
       "      <td>2017-02-18 12:45:31</td>\n",
       "      <td>NaT</td>\n",
       "      <td>2017-03-02 10:05:06</td>\n",
       "    </tr>\n",
       "    <tr>\n",
       "      <th>19031</th>\n",
       "      <td>7013bcfc1c97fe719a7b5e05e61c12db</td>\n",
       "      <td>2941af76d38100e0f8740a374f1a5dc3</td>\n",
       "      <td>delivered</td>\n",
       "      <td>2017-02-18 13:29:47</td>\n",
       "      <td>NaT</td>\n",
       "      <td>2017-03-01 08:07:38</td>\n",
       "    </tr>\n",
       "    <tr>\n",
       "      <th>22663</th>\n",
       "      <td>5cf925b116421afa85ee25e99b4c34fb</td>\n",
       "      <td>29c35fc91fc13fb5073c8f30505d860d</td>\n",
       "      <td>delivered</td>\n",
       "      <td>2017-02-18 16:48:35</td>\n",
       "      <td>NaT</td>\n",
       "      <td>2017-03-09 07:28:47</td>\n",
       "    </tr>\n",
       "    <tr>\n",
       "      <th>23156</th>\n",
       "      <td>12a95a3c06dbaec84bcfb0e2da5d228a</td>\n",
       "      <td>1e101e0daffaddce8159d25a8e53f2b2</td>\n",
       "      <td>delivered</td>\n",
       "      <td>2017-02-17 13:05:55</td>\n",
       "      <td>NaT</td>\n",
       "      <td>2017-03-02 11:09:19</td>\n",
       "    </tr>\n",
       "    <tr>\n",
       "      <th>26800</th>\n",
       "      <td>c1d4211b3dae76144deccd6c74144a88</td>\n",
       "      <td>684cb238dc5b5d6366244e0e0776b450</td>\n",
       "      <td>delivered</td>\n",
       "      <td>2017-01-19 12:48:08</td>\n",
       "      <td>NaT</td>\n",
       "      <td>2017-01-30 18:16:01</td>\n",
       "    </tr>\n",
       "    <tr>\n",
       "      <th>38290</th>\n",
       "      <td>d69e5d356402adc8cf17e08b5033acfb</td>\n",
       "      <td>68d081753ad4fe22fc4d410a9eb1ca01</td>\n",
       "      <td>delivered</td>\n",
       "      <td>2017-02-19 01:28:47</td>\n",
       "      <td>NaT</td>\n",
       "      <td>2017-03-02 03:41:58</td>\n",
       "    </tr>\n",
       "    <tr>\n",
       "      <th>39334</th>\n",
       "      <td>d77031d6a3c8a52f019764e68f211c69</td>\n",
       "      <td>0bf35cac6cc7327065da879e2d90fae8</td>\n",
       "      <td>delivered</td>\n",
       "      <td>2017-02-18 11:04:19</td>\n",
       "      <td>NaT</td>\n",
       "      <td>2017-03-02 16:15:23</td>\n",
       "    </tr>\n",
       "    <tr>\n",
       "      <th>48401</th>\n",
       "      <td>7002a78c79c519ac54022d4f8a65e6e8</td>\n",
       "      <td>d5de688c321096d15508faae67a27051</td>\n",
       "      <td>delivered</td>\n",
       "      <td>2017-01-19 22:26:59</td>\n",
       "      <td>NaT</td>\n",
       "      <td>2017-02-06 14:22:19</td>\n",
       "    </tr>\n",
       "    <tr>\n",
       "      <th>61743</th>\n",
       "      <td>2eecb0d85f281280f79fa00f9cec1a95</td>\n",
       "      <td>a3d3c38e58b9d2dfb9207cab690b6310</td>\n",
       "      <td>delivered</td>\n",
       "      <td>2017-02-17 17:21:55</td>\n",
       "      <td>NaT</td>\n",
       "      <td>2017-03-03 12:16:03</td>\n",
       "    </tr>\n",
       "    <tr>\n",
       "      <th>63052</th>\n",
       "      <td>51eb2eebd5d76a24625b31c33dd41449</td>\n",
       "      <td>07a2a7e0f63fd8cb757ed77d4245623c</td>\n",
       "      <td>delivered</td>\n",
       "      <td>2017-02-18 15:52:27</td>\n",
       "      <td>NaT</td>\n",
       "      <td>2017-03-07 13:57:47</td>\n",
       "    </tr>\n",
       "    <tr>\n",
       "      <th>67697</th>\n",
       "      <td>88083e8f64d95b932164187484d90212</td>\n",
       "      <td>f67cd1a215aae2a1074638bbd35a223a</td>\n",
       "      <td>delivered</td>\n",
       "      <td>2017-02-18 22:49:19</td>\n",
       "      <td>NaT</td>\n",
       "      <td>2017-03-02 12:06:06</td>\n",
       "    </tr>\n",
       "    <tr>\n",
       "      <th>72407</th>\n",
       "      <td>3c0b8706b065f9919d0505d3b3343881</td>\n",
       "      <td>d85919cb3c0529589c6fa617f5f43281</td>\n",
       "      <td>delivered</td>\n",
       "      <td>2017-02-17 15:53:27</td>\n",
       "      <td>NaT</td>\n",
       "      <td>2017-03-03 11:47:47</td>\n",
       "    </tr>\n",
       "    <tr>\n",
       "      <th>84999</th>\n",
       "      <td>2babbb4b15e6d2dfe95e2de765c97bce</td>\n",
       "      <td>74bebaf46603f9340e3b50c6b086f992</td>\n",
       "      <td>delivered</td>\n",
       "      <td>2017-02-18 17:15:03</td>\n",
       "      <td>NaT</td>\n",
       "      <td>2017-03-03 18:43:43</td>\n",
       "    </tr>\n",
       "  </tbody>\n",
       "</table>\n",
       "</div>"
      ],
      "text/plain": [
       "                               order_id                 customer_order_id  \\\n",
       "5323   e04abd8149ef81b95221e88f6ed9ab6a  2127dc6603ac33544953ef05ec155771   \n",
       "16567  8a9adc69528e1001fc68dd0aaebbb54a  4c1ccc74e00993733742a3c786dc3c1f   \n",
       "19031  7013bcfc1c97fe719a7b5e05e61c12db  2941af76d38100e0f8740a374f1a5dc3   \n",
       "22663  5cf925b116421afa85ee25e99b4c34fb  29c35fc91fc13fb5073c8f30505d860d   \n",
       "23156  12a95a3c06dbaec84bcfb0e2da5d228a  1e101e0daffaddce8159d25a8e53f2b2   \n",
       "26800  c1d4211b3dae76144deccd6c74144a88  684cb238dc5b5d6366244e0e0776b450   \n",
       "38290  d69e5d356402adc8cf17e08b5033acfb  68d081753ad4fe22fc4d410a9eb1ca01   \n",
       "39334  d77031d6a3c8a52f019764e68f211c69  0bf35cac6cc7327065da879e2d90fae8   \n",
       "48401  7002a78c79c519ac54022d4f8a65e6e8  d5de688c321096d15508faae67a27051   \n",
       "61743  2eecb0d85f281280f79fa00f9cec1a95  a3d3c38e58b9d2dfb9207cab690b6310   \n",
       "63052  51eb2eebd5d76a24625b31c33dd41449  07a2a7e0f63fd8cb757ed77d4245623c   \n",
       "67697  88083e8f64d95b932164187484d90212  f67cd1a215aae2a1074638bbd35a223a   \n",
       "72407  3c0b8706b065f9919d0505d3b3343881  d85919cb3c0529589c6fa617f5f43281   \n",
       "84999  2babbb4b15e6d2dfe95e2de765c97bce  74bebaf46603f9340e3b50c6b086f992   \n",
       "\n",
       "      order_status        purchased_at approved_at        delivered_at  \n",
       "5323     delivered 2017-02-18 14:40:00         NaT 2017-03-01 13:25:33  \n",
       "16567    delivered 2017-02-18 12:45:31         NaT 2017-03-02 10:05:06  \n",
       "19031    delivered 2017-02-18 13:29:47         NaT 2017-03-01 08:07:38  \n",
       "22663    delivered 2017-02-18 16:48:35         NaT 2017-03-09 07:28:47  \n",
       "23156    delivered 2017-02-17 13:05:55         NaT 2017-03-02 11:09:19  \n",
       "26800    delivered 2017-01-19 12:48:08         NaT 2017-01-30 18:16:01  \n",
       "38290    delivered 2017-02-19 01:28:47         NaT 2017-03-02 03:41:58  \n",
       "39334    delivered 2017-02-18 11:04:19         NaT 2017-03-02 16:15:23  \n",
       "48401    delivered 2017-01-19 22:26:59         NaT 2017-02-06 14:22:19  \n",
       "61743    delivered 2017-02-17 17:21:55         NaT 2017-03-03 12:16:03  \n",
       "63052    delivered 2017-02-18 15:52:27         NaT 2017-03-07 13:57:47  \n",
       "67697    delivered 2017-02-18 22:49:19         NaT 2017-03-02 12:06:06  \n",
       "72407    delivered 2017-02-17 15:53:27         NaT 2017-03-03 11:47:47  \n",
       "84999    delivered 2017-02-18 17:15:03         NaT 2017-03-03 18:43:43  "
      ]
     },
     "execution_count": 2197,
     "metadata": {},
     "output_type": "execute_result"
    }
   ],
   "source": [
    "## NOTE: needed to specify 'engine' when using logical statements\n",
    "orderimport.query(\"approved_at.isnull() & order_status == 'delivered'\", engine = 'python')"
   ]
  },
  {
   "cell_type": "markdown",
   "metadata": {},
   "source": [
    "In the second example, we see records where approved time is after the delivery time"
   ]
  },
  {
   "cell_type": "code",
   "execution_count": 2198,
   "metadata": {},
   "outputs": [
    {
     "name": "stdout",
     "output_type": "stream",
     "text": [
      "Number of records that are approved after delivery: 61\n",
      "\n",
      "Examples of 5 such records:\n"
     ]
    },
    {
     "data": {
      "text/html": [
       "<div>\n",
       "<style scoped>\n",
       "    .dataframe tbody tr th:only-of-type {\n",
       "        vertical-align: middle;\n",
       "    }\n",
       "\n",
       "    .dataframe tbody tr th {\n",
       "        vertical-align: top;\n",
       "    }\n",
       "\n",
       "    .dataframe thead th {\n",
       "        text-align: right;\n",
       "    }\n",
       "</style>\n",
       "<table border=\"1\" class=\"dataframe\">\n",
       "  <thead>\n",
       "    <tr style=\"text-align: right;\">\n",
       "      <th></th>\n",
       "      <th>order_id</th>\n",
       "      <th>customer_order_id</th>\n",
       "      <th>order_status</th>\n",
       "      <th>purchased_at</th>\n",
       "      <th>approved_at</th>\n",
       "      <th>delivered_at</th>\n",
       "    </tr>\n",
       "  </thead>\n",
       "  <tbody>\n",
       "    <tr>\n",
       "      <th>199</th>\n",
       "      <td>58d4c4747ee059eeeb865b349b41f53a</td>\n",
       "      <td>1755fad7863475346bc6c3773fe055d3</td>\n",
       "      <td>delivered</td>\n",
       "      <td>2018-07-21 12:49:32</td>\n",
       "      <td>2018-07-26 23:31:53</td>\n",
       "      <td>2018-07-25 23:58:19</td>\n",
       "    </tr>\n",
       "    <tr>\n",
       "      <th>483</th>\n",
       "      <td>4df92d82d79c3b52c7138679fa9b07fc</td>\n",
       "      <td>ba0660bf3fffe505ee892e153a2fbd49</td>\n",
       "      <td>delivered</td>\n",
       "      <td>2018-07-24 11:32:11</td>\n",
       "      <td>2018-07-29 23:30:52</td>\n",
       "      <td>2018-07-27 18:55:57</td>\n",
       "    </tr>\n",
       "    <tr>\n",
       "      <th>1986</th>\n",
       "      <td>6e57e23ecac1ae881286657694444267</td>\n",
       "      <td>2dda54e25d0984e12705c84d4030e6e0</td>\n",
       "      <td>delivered</td>\n",
       "      <td>2018-08-09 17:36:47</td>\n",
       "      <td>2018-08-20 15:55:42</td>\n",
       "      <td>2018-08-17 16:45:45</td>\n",
       "    </tr>\n",
       "    <tr>\n",
       "      <th>3659</th>\n",
       "      <td>f222c56f035b47dfa1e069a88235d730</td>\n",
       "      <td>b74ca180d63f9ae0443e4e13a2f5bdaf</td>\n",
       "      <td>delivered</td>\n",
       "      <td>2018-01-30 09:43:45</td>\n",
       "      <td>2018-02-04 23:31:47</td>\n",
       "      <td>2018-02-01 20:10:38</td>\n",
       "    </tr>\n",
       "    <tr>\n",
       "      <th>11738</th>\n",
       "      <td>cf72398d0690f841271b695bbfda82d2</td>\n",
       "      <td>2b7fff075bda701552485ef3f0810257</td>\n",
       "      <td>delivered</td>\n",
       "      <td>2017-09-01 18:45:33</td>\n",
       "      <td>2017-09-13 22:04:39</td>\n",
       "      <td>2017-09-11 14:15:02</td>\n",
       "    </tr>\n",
       "  </tbody>\n",
       "</table>\n",
       "</div>"
      ],
      "text/plain": [
       "                               order_id                 customer_order_id  \\\n",
       "199    58d4c4747ee059eeeb865b349b41f53a  1755fad7863475346bc6c3773fe055d3   \n",
       "483    4df92d82d79c3b52c7138679fa9b07fc  ba0660bf3fffe505ee892e153a2fbd49   \n",
       "1986   6e57e23ecac1ae881286657694444267  2dda54e25d0984e12705c84d4030e6e0   \n",
       "3659   f222c56f035b47dfa1e069a88235d730  b74ca180d63f9ae0443e4e13a2f5bdaf   \n",
       "11738  cf72398d0690f841271b695bbfda82d2  2b7fff075bda701552485ef3f0810257   \n",
       "\n",
       "      order_status        purchased_at         approved_at        delivered_at  \n",
       "199      delivered 2018-07-21 12:49:32 2018-07-26 23:31:53 2018-07-25 23:58:19  \n",
       "483      delivered 2018-07-24 11:32:11 2018-07-29 23:30:52 2018-07-27 18:55:57  \n",
       "1986     delivered 2018-08-09 17:36:47 2018-08-20 15:55:42 2018-08-17 16:45:45  \n",
       "3659     delivered 2018-01-30 09:43:45 2018-02-04 23:31:47 2018-02-01 20:10:38  \n",
       "11738    delivered 2017-09-01 18:45:33 2017-09-13 22:04:39 2017-09-11 14:15:02  "
      ]
     },
     "execution_count": 2198,
     "metadata": {},
     "output_type": "execute_result"
    }
   ],
   "source": [
    "approve_delay = orderimport.query(\"approved_at > delivered_at\")\n",
    "\n",
    "print(\"Number of records that are approved after delivery: {}\".format(approve_delay.shape[0]))\n",
    "print(\"\\nExamples of 5 such records:\")\n",
    "approve_delay.head()"
   ]
  },
  {
   "cell_type": "markdown",
   "metadata": {},
   "source": [
    "And the final example, where approval occurs instantaneously after purchase"
   ]
  },
  {
   "cell_type": "code",
   "execution_count": 2199,
   "metadata": {},
   "outputs": [
    {
     "name": "stdout",
     "output_type": "stream",
     "text": [
      "Number of records that are approved after delivery: 1296\n",
      "\n",
      "Examples of 5 such records:\n"
     ]
    },
    {
     "data": {
      "text/html": [
       "<div>\n",
       "<style scoped>\n",
       "    .dataframe tbody tr th:only-of-type {\n",
       "        vertical-align: middle;\n",
       "    }\n",
       "\n",
       "    .dataframe tbody tr th {\n",
       "        vertical-align: top;\n",
       "    }\n",
       "\n",
       "    .dataframe thead th {\n",
       "        text-align: right;\n",
       "    }\n",
       "</style>\n",
       "<table border=\"1\" class=\"dataframe\">\n",
       "  <thead>\n",
       "    <tr style=\"text-align: right;\">\n",
       "      <th></th>\n",
       "      <th>order_id</th>\n",
       "      <th>customer_order_id</th>\n",
       "      <th>order_status</th>\n",
       "      <th>purchased_at</th>\n",
       "      <th>approved_at</th>\n",
       "      <th>delivered_at</th>\n",
       "    </tr>\n",
       "  </thead>\n",
       "  <tbody>\n",
       "    <tr>\n",
       "      <th>58</th>\n",
       "      <td>a685d016c8a26f71a0bb67821070e398</td>\n",
       "      <td>911e4c37f5cafe1604fe6767034bf1ae</td>\n",
       "      <td>delivered</td>\n",
       "      <td>2017-03-13 18:14:36</td>\n",
       "      <td>2017-03-13 18:14:36</td>\n",
       "      <td>2017-04-06 13:37:16</td>\n",
       "    </tr>\n",
       "    <tr>\n",
       "      <th>182</th>\n",
       "      <td>75351e48296ef42211a0b80c427aae57</td>\n",
       "      <td>cf9e2b07f78cce347089900f49fb4746</td>\n",
       "      <td>delivered</td>\n",
       "      <td>2017-03-14 16:25:43</td>\n",
       "      <td>2017-03-14 16:25:43</td>\n",
       "      <td>2017-04-03 13:37:42</td>\n",
       "    </tr>\n",
       "    <tr>\n",
       "      <th>200</th>\n",
       "      <td>a840a7a89e3d9137358eb7b9408681fe</td>\n",
       "      <td>5e320e6a4f03e2e74bc22e1158237fbe</td>\n",
       "      <td>delivered</td>\n",
       "      <td>2017-03-09 22:17:49</td>\n",
       "      <td>2017-03-09 22:17:49</td>\n",
       "      <td>2017-03-16 08:24:47</td>\n",
       "    </tr>\n",
       "    <tr>\n",
       "      <th>380</th>\n",
       "      <td>7e05645577366863a93350aac5cc7de5</td>\n",
       "      <td>21809d6b8acb4ca628358610aea9435c</td>\n",
       "      <td>delivered</td>\n",
       "      <td>2017-03-22 17:25:28</td>\n",
       "      <td>2017-03-22 17:25:28</td>\n",
       "      <td>2017-04-06 10:35:15</td>\n",
       "    </tr>\n",
       "    <tr>\n",
       "      <th>489</th>\n",
       "      <td>d83706c29baf36eedf5e8adfb0da304e</td>\n",
       "      <td>26545a1a15e77138e98380c49a76053a</td>\n",
       "      <td>delivered</td>\n",
       "      <td>2017-03-13 11:36:11</td>\n",
       "      <td>2017-03-13 11:36:11</td>\n",
       "      <td>2017-03-27 14:12:27</td>\n",
       "    </tr>\n",
       "  </tbody>\n",
       "</table>\n",
       "</div>"
      ],
      "text/plain": [
       "                             order_id                 customer_order_id  \\\n",
       "58   a685d016c8a26f71a0bb67821070e398  911e4c37f5cafe1604fe6767034bf1ae   \n",
       "182  75351e48296ef42211a0b80c427aae57  cf9e2b07f78cce347089900f49fb4746   \n",
       "200  a840a7a89e3d9137358eb7b9408681fe  5e320e6a4f03e2e74bc22e1158237fbe   \n",
       "380  7e05645577366863a93350aac5cc7de5  21809d6b8acb4ca628358610aea9435c   \n",
       "489  d83706c29baf36eedf5e8adfb0da304e  26545a1a15e77138e98380c49a76053a   \n",
       "\n",
       "    order_status        purchased_at         approved_at        delivered_at  \n",
       "58     delivered 2017-03-13 18:14:36 2017-03-13 18:14:36 2017-04-06 13:37:16  \n",
       "182    delivered 2017-03-14 16:25:43 2017-03-14 16:25:43 2017-04-03 13:37:42  \n",
       "200    delivered 2017-03-09 22:17:49 2017-03-09 22:17:49 2017-03-16 08:24:47  \n",
       "380    delivered 2017-03-22 17:25:28 2017-03-22 17:25:28 2017-04-06 10:35:15  \n",
       "489    delivered 2017-03-13 11:36:11 2017-03-13 11:36:11 2017-03-27 14:12:27  "
      ]
     },
     "execution_count": 2199,
     "metadata": {},
     "output_type": "execute_result"
    }
   ],
   "source": [
    "immediate_approval = orderimport.query(\"approved_at == purchased_at\")\n",
    "\n",
    "print(\"Number of records that are approved after delivery: {}\".format(immediate_approval.shape[0]))\n",
    "print(\"\\nExamples of 5 such records:\")\n",
    "immediate_approval.head()"
   ]
  },
  {
   "cell_type": "markdown",
   "metadata": {},
   "source": [
    "NO CORRUPT DATA TO EXCLUDE: Queries below confirm that the time logging is limited to the approval system and MAJOR discrepencies DO NOT exist"
   ]
  },
  {
   "cell_type": "code",
   "execution_count": 2200,
   "metadata": {},
   "outputs": [
    {
     "data": {
      "text/html": [
       "<div>\n",
       "<style scoped>\n",
       "    .dataframe tbody tr th:only-of-type {\n",
       "        vertical-align: middle;\n",
       "    }\n",
       "\n",
       "    .dataframe tbody tr th {\n",
       "        vertical-align: top;\n",
       "    }\n",
       "\n",
       "    .dataframe thead th {\n",
       "        text-align: right;\n",
       "    }\n",
       "</style>\n",
       "<table border=\"1\" class=\"dataframe\">\n",
       "  <thead>\n",
       "    <tr style=\"text-align: right;\">\n",
       "      <th></th>\n",
       "      <th>order_id</th>\n",
       "      <th>customer_order_id</th>\n",
       "      <th>order_status</th>\n",
       "      <th>purchased_at</th>\n",
       "      <th>approved_at</th>\n",
       "      <th>delivered_at</th>\n",
       "    </tr>\n",
       "  </thead>\n",
       "  <tbody>\n",
       "  </tbody>\n",
       "</table>\n",
       "</div>"
      ],
      "text/plain": [
       "Empty DataFrame\n",
       "Columns: [order_id, customer_order_id, order_status, purchased_at, approved_at, delivered_at]\n",
       "Index: []"
      ]
     },
     "execution_count": 2200,
     "metadata": {},
     "output_type": "execute_result"
    }
   ],
   "source": [
    "# No delivery dates before purchase date\n",
    "orderimport.query(\"delivered_at < purchased_at\")"
   ]
  },
  {
   "cell_type": "code",
   "execution_count": 2201,
   "metadata": {},
   "outputs": [
    {
     "data": {
      "text/html": [
       "<div>\n",
       "<style scoped>\n",
       "    .dataframe tbody tr th:only-of-type {\n",
       "        vertical-align: middle;\n",
       "    }\n",
       "\n",
       "    .dataframe tbody tr th {\n",
       "        vertical-align: top;\n",
       "    }\n",
       "\n",
       "    .dataframe thead th {\n",
       "        text-align: right;\n",
       "    }\n",
       "</style>\n",
       "<table border=\"1\" class=\"dataframe\">\n",
       "  <thead>\n",
       "    <tr style=\"text-align: right;\">\n",
       "      <th></th>\n",
       "      <th>order_id</th>\n",
       "      <th>customer_order_id</th>\n",
       "      <th>order_status</th>\n",
       "      <th>purchased_at</th>\n",
       "      <th>approved_at</th>\n",
       "      <th>delivered_at</th>\n",
       "    </tr>\n",
       "  </thead>\n",
       "  <tbody>\n",
       "  </tbody>\n",
       "</table>\n",
       "</div>"
      ],
      "text/plain": [
       "Empty DataFrame\n",
       "Columns: [order_id, customer_order_id, order_status, purchased_at, approved_at, delivered_at]\n",
       "Index: []"
      ]
     },
     "execution_count": 2201,
     "metadata": {},
     "output_type": "execute_result"
    }
   ],
   "source": [
    "# No approval dates before purchase dates\n",
    "orderimport.query(\"approved_at < purchased_at\")"
   ]
  },
  {
   "cell_type": "markdown",
   "metadata": {},
   "source": [
    "*TAG ALL ANOMOLIES* - Next step is to take all the findings above and create a copy called `ORDER_TAGGED` dataset with a new 'tag' field identifying the different anomolies\n",
    "> NOTE: This is good practice to tag items to be discussed with business as well as provide any necessary data that ML engine could use"
   ]
  },
  {
   "cell_type": "code",
   "execution_count": 2202,
   "metadata": {},
   "outputs": [],
   "source": [
    "# Start by making a copy\n",
    "order = orderimport.copy()"
   ]
  },
  {
   "cell_type": "code",
   "execution_count": 2203,
   "metadata": {},
   "outputs": [],
   "source": [
    "# Create an empty field to then add tags to\n",
    "order['tag'] = np.nan"
   ]
  },
  {
   "cell_type": "code",
   "execution_count": 2204,
   "metadata": {},
   "outputs": [
    {
     "data": {
      "text/html": [
       "<div>\n",
       "<style scoped>\n",
       "    .dataframe tbody tr th:only-of-type {\n",
       "        vertical-align: middle;\n",
       "    }\n",
       "\n",
       "    .dataframe tbody tr th {\n",
       "        vertical-align: top;\n",
       "    }\n",
       "\n",
       "    .dataframe thead th {\n",
       "        text-align: right;\n",
       "    }\n",
       "</style>\n",
       "<table border=\"1\" class=\"dataframe\">\n",
       "  <thead>\n",
       "    <tr style=\"text-align: right;\">\n",
       "      <th></th>\n",
       "      <th>order_id</th>\n",
       "      <th>customer_order_id</th>\n",
       "      <th>order_status</th>\n",
       "      <th>purchased_at</th>\n",
       "      <th>approved_at</th>\n",
       "      <th>delivered_at</th>\n",
       "      <th>tag</th>\n",
       "    </tr>\n",
       "  </thead>\n",
       "  <tbody>\n",
       "    <tr>\n",
       "      <th>0</th>\n",
       "      <td>e481f51cbdc54678b7cc49136f2d6af7</td>\n",
       "      <td>9ef432eb6251297304e76186b10a928d</td>\n",
       "      <td>delivered</td>\n",
       "      <td>2017-10-02 10:56:33</td>\n",
       "      <td>2017-10-02 11:07:15</td>\n",
       "      <td>2017-10-10 21:25:13</td>\n",
       "      <td>NaN</td>\n",
       "    </tr>\n",
       "    <tr>\n",
       "      <th>1</th>\n",
       "      <td>53cdb2fc8bc7dce0b6741e2150273451</td>\n",
       "      <td>b0830fb4747a6c6d20dea0b8c802d7ef</td>\n",
       "      <td>delivered</td>\n",
       "      <td>2018-07-24 20:41:37</td>\n",
       "      <td>2018-07-26 03:24:27</td>\n",
       "      <td>2018-08-07 15:27:45</td>\n",
       "      <td>NaN</td>\n",
       "    </tr>\n",
       "    <tr>\n",
       "      <th>2</th>\n",
       "      <td>47770eb9100c2d0c44946d9cf07ec65d</td>\n",
       "      <td>41ce2a54c0b03bf3443c3d931a367089</td>\n",
       "      <td>delivered</td>\n",
       "      <td>2018-08-08 08:38:49</td>\n",
       "      <td>2018-08-08 08:55:23</td>\n",
       "      <td>2018-08-17 18:06:29</td>\n",
       "      <td>NaN</td>\n",
       "    </tr>\n",
       "    <tr>\n",
       "      <th>3</th>\n",
       "      <td>949d5b44dbf5de918fe9c16f97b45f8a</td>\n",
       "      <td>f88197465ea7920adcdbec7375364d82</td>\n",
       "      <td>delivered</td>\n",
       "      <td>2017-11-18 19:28:06</td>\n",
       "      <td>2017-11-18 19:45:59</td>\n",
       "      <td>2017-12-02 00:28:42</td>\n",
       "      <td>NaN</td>\n",
       "    </tr>\n",
       "    <tr>\n",
       "      <th>4</th>\n",
       "      <td>ad21c59c0840e6cb83a9ceb5573f8159</td>\n",
       "      <td>8ab97904e6daea8866dbdbc4fb7aad2c</td>\n",
       "      <td>delivered</td>\n",
       "      <td>2018-02-13 21:18:39</td>\n",
       "      <td>2018-02-13 22:20:29</td>\n",
       "      <td>2018-02-16 18:17:02</td>\n",
       "      <td>NaN</td>\n",
       "    </tr>\n",
       "  </tbody>\n",
       "</table>\n",
       "</div>"
      ],
      "text/plain": [
       "                           order_id                 customer_order_id  \\\n",
       "0  e481f51cbdc54678b7cc49136f2d6af7  9ef432eb6251297304e76186b10a928d   \n",
       "1  53cdb2fc8bc7dce0b6741e2150273451  b0830fb4747a6c6d20dea0b8c802d7ef   \n",
       "2  47770eb9100c2d0c44946d9cf07ec65d  41ce2a54c0b03bf3443c3d931a367089   \n",
       "3  949d5b44dbf5de918fe9c16f97b45f8a  f88197465ea7920adcdbec7375364d82   \n",
       "4  ad21c59c0840e6cb83a9ceb5573f8159  8ab97904e6daea8866dbdbc4fb7aad2c   \n",
       "\n",
       "  order_status        purchased_at         approved_at        delivered_at  \\\n",
       "0    delivered 2017-10-02 10:56:33 2017-10-02 11:07:15 2017-10-10 21:25:13   \n",
       "1    delivered 2018-07-24 20:41:37 2018-07-26 03:24:27 2018-08-07 15:27:45   \n",
       "2    delivered 2018-08-08 08:38:49 2018-08-08 08:55:23 2018-08-17 18:06:29   \n",
       "3    delivered 2017-11-18 19:28:06 2017-11-18 19:45:59 2017-12-02 00:28:42   \n",
       "4    delivered 2018-02-13 21:18:39 2018-02-13 22:20:29 2018-02-16 18:17:02   \n",
       "\n",
       "   tag  \n",
       "0  NaN  \n",
       "1  NaN  \n",
       "2  NaN  \n",
       "3  NaN  \n",
       "4  NaN  "
      ]
     },
     "execution_count": 2204,
     "metadata": {},
     "output_type": "execute_result"
    }
   ],
   "source": [
    "order.head()"
   ]
  },
  {
   "cell_type": "code",
   "execution_count": 2205,
   "metadata": {},
   "outputs": [],
   "source": [
    "# This will tag approvals that happen at the same time as purchase\n",
    "order.loc[order.approved_at == order.purchased_at, 'tag'] = 'approval_issue approval-same-as-purchase'"
   ]
  },
  {
   "cell_type": "code",
   "execution_count": 2206,
   "metadata": {},
   "outputs": [],
   "source": [
    "# This will tag approvals that happened after delivery\n",
    "order.loc[order.approved_at > order.delivered_at, 'tag'] = 'approval_issue approval-after-delivery'"
   ]
  },
  {
   "cell_type": "code",
   "execution_count": 2207,
   "metadata": {},
   "outputs": [],
   "source": [
    "# not using dot notation so it is easier to understand\n",
    "# also putting conditions in parenthesis so that they get evaluated first\n",
    "## SAME AS: order.query(\"order_status == 'canceled' & delivered_at.notnull()\", engine = 'python')\n",
    "\n",
    "order.loc[(order['delivered_at'].notnull()) \n",
    "                 & (order['order_status'] == 'canceled'), 'tag'] = 'delivery_issue delivered-but-cancelled'"
   ]
  },
  {
   "cell_type": "code",
   "execution_count": 2208,
   "metadata": {},
   "outputs": [],
   "source": [
    "# Same as evaluating order.query(\"approved_at.isnull() & order_status == 'delivered'\", engine = 'python')\n",
    "## And because using null functions behave differently, need to put them in parenthesis to ensure that \n",
    "    ## it evaluates first and query is correct\n",
    "    \n",
    "order.loc[(order['approved_at'].isnull()) \n",
    "                 & (order['order_status'] == 'delivered'), 'tag'] = 'approval_issue no-approval-before-delivery'"
   ]
  },
  {
   "cell_type": "markdown",
   "metadata": {},
   "source": [
    "Final break down of the tagged items"
   ]
  },
  {
   "cell_type": "code",
   "execution_count": 2209,
   "metadata": {},
   "outputs": [
    {
     "data": {
      "text/plain": [
       "approval_issue approval-same-as-purchase      1296\n",
       "approval_issue approval-after-delivery          61\n",
       "approval_issue no-approval-before-delivery      14\n",
       "delivery_issue delivered-but-cancelled           6\n",
       "Name: tag, dtype: int64"
      ]
     },
     "execution_count": 2209,
     "metadata": {},
     "output_type": "execute_result"
    }
   ],
   "source": [
    "order.tag.value_counts()"
   ]
  },
  {
   "cell_type": "markdown",
   "metadata": {},
   "source": [
    "**STEP 4**: See if zipcode field in `custimport` dataset can be fixed with leading zero - otherwise remove"
   ]
  },
  {
   "cell_type": "code",
   "execution_count": 2210,
   "metadata": {},
   "outputs": [
    {
     "name": "stdout",
     "output_type": "stream",
     "text": [
      "<class 'pandas.core.frame.DataFrame'>\n",
      "Int64Index: 99441 entries, 0 to 99440\n",
      "Data columns (total 3 columns):\n",
      "customer_order_id     99441 non-null object\n",
      "customer_unique_id    99441 non-null object\n",
      "zipcode               99441 non-null object\n",
      "dtypes: object(3)\n",
      "memory usage: 3.0+ MB\n"
     ]
    }
   ],
   "source": [
    "custimport.info()"
   ]
  },
  {
   "cell_type": "markdown",
   "metadata": {},
   "source": [
    "You can see below that we have quite a significant number of zipcodes with 4 characters. Googling zip codes with and without leading zeros does not provide a clear pattern to fix this field. For this reason we cannot use zip code to accurately represent the address of the customers"
   ]
  },
  {
   "cell_type": "code",
   "execution_count": 2211,
   "metadata": {},
   "outputs": [
    {
     "data": {
      "text/plain": [
       "5    75446\n",
       "4    23995\n",
       "Name: zipcode, dtype: int64"
      ]
     },
     "execution_count": 2211,
     "metadata": {},
     "output_type": "execute_result"
    }
   ],
   "source": [
    "custimport.zipcode.str.len().value_counts()"
   ]
  },
  {
   "cell_type": "markdown",
   "metadata": {},
   "source": [
    "Diving a little deeper into the top occurances amongst 4-digit zip codes further confirms the inability of this field to represent customer address\n",
    "* 07600 is in France, 7600 is in South Africa\n",
    "* 09371 is in Sao Paolo, 9731 is in Hungary\n",
    "* 06900 is in Turkey, 6900 is in Switzerland"
   ]
  },
  {
   "cell_type": "code",
   "execution_count": 2212,
   "metadata": {},
   "outputs": [
    {
     "data": {
      "text/plain": [
       "7600    75\n",
       "9371    56\n",
       "6900    46\n",
       "Name: zipcode, dtype: int64"
      ]
     },
     "execution_count": 2212,
     "metadata": {},
     "output_type": "execute_result"
    }
   ],
   "source": [
    "#Most common 4 igit zip codes\n",
    "custimport[custimport.zipcode.str.len() == 4].zipcode.value_counts().head(3)"
   ]
  },
  {
   "cell_type": "markdown",
   "metadata": {},
   "source": [
    "Without more address information it is not possible to determine if data was ommitted as a leading zero issue or if these addresses are in fact international. \n",
    "\n",
    "For now we will not make any changes and determine in EDA step if a correlation to shipping rates can be made"
   ]
  },
  {
   "cell_type": "code",
   "execution_count": 2213,
   "metadata": {},
   "outputs": [],
   "source": [
    "customer = custimport.copy()"
   ]
  },
  {
   "cell_type": "code",
   "execution_count": 2214,
   "metadata": {},
   "outputs": [
    {
     "data": {
      "text/html": [
       "<div>\n",
       "<style scoped>\n",
       "    .dataframe tbody tr th:only-of-type {\n",
       "        vertical-align: middle;\n",
       "    }\n",
       "\n",
       "    .dataframe tbody tr th {\n",
       "        vertical-align: top;\n",
       "    }\n",
       "\n",
       "    .dataframe thead th {\n",
       "        text-align: right;\n",
       "    }\n",
       "</style>\n",
       "<table border=\"1\" class=\"dataframe\">\n",
       "  <thead>\n",
       "    <tr style=\"text-align: right;\">\n",
       "      <th></th>\n",
       "      <th>customer_order_id</th>\n",
       "      <th>customer_unique_id</th>\n",
       "      <th>zipcode</th>\n",
       "    </tr>\n",
       "  </thead>\n",
       "  <tbody>\n",
       "    <tr>\n",
       "      <th>0</th>\n",
       "      <td>06b8999e2fba1a1fbc88172c00ba8bc7</td>\n",
       "      <td>861eff4711a542e4b93843c6dd7febb0</td>\n",
       "      <td>14409</td>\n",
       "    </tr>\n",
       "    <tr>\n",
       "      <th>1</th>\n",
       "      <td>18955e83d337fd6b2def6b18a428ac77</td>\n",
       "      <td>290c77bc529b7ac935b93aa66c333dc3</td>\n",
       "      <td>9790</td>\n",
       "    </tr>\n",
       "    <tr>\n",
       "      <th>2</th>\n",
       "      <td>4e7b3e00288586ebd08712fdd0374a03</td>\n",
       "      <td>060e732b5b29e8181a18229c7b0b2b5e</td>\n",
       "      <td>1151</td>\n",
       "    </tr>\n",
       "    <tr>\n",
       "      <th>3</th>\n",
       "      <td>b2b6027bc5c5109e529d4dc6358b12c3</td>\n",
       "      <td>259dac757896d24d7702b9acbbff3f3c</td>\n",
       "      <td>8775</td>\n",
       "    </tr>\n",
       "    <tr>\n",
       "      <th>4</th>\n",
       "      <td>4f2d8ab171c80ec8364f7c12e35b23ad</td>\n",
       "      <td>345ecd01c38d18a9036ed96c73b8d066</td>\n",
       "      <td>13056</td>\n",
       "    </tr>\n",
       "  </tbody>\n",
       "</table>\n",
       "</div>"
      ],
      "text/plain": [
       "                  customer_order_id                customer_unique_id zipcode\n",
       "0  06b8999e2fba1a1fbc88172c00ba8bc7  861eff4711a542e4b93843c6dd7febb0   14409\n",
       "1  18955e83d337fd6b2def6b18a428ac77  290c77bc529b7ac935b93aa66c333dc3    9790\n",
       "2  4e7b3e00288586ebd08712fdd0374a03  060e732b5b29e8181a18229c7b0b2b5e    1151\n",
       "3  b2b6027bc5c5109e529d4dc6358b12c3  259dac757896d24d7702b9acbbff3f3c    8775\n",
       "4  4f2d8ab171c80ec8364f7c12e35b23ad  345ecd01c38d18a9036ed96c73b8d066   13056"
      ]
     },
     "execution_count": 2214,
     "metadata": {},
     "output_type": "execute_result"
    }
   ],
   "source": [
    "# Verify drop\n",
    "customer.head()"
   ]
  },
  {
   "cell_type": "markdown",
   "metadata": {},
   "source": [
    "**Step 5**: Consolidate 'fashion' category and organize fix assignment of misspelled categories in `prodimport` dataset"
   ]
  },
  {
   "cell_type": "code",
   "execution_count": 2215,
   "metadata": {},
   "outputs": [],
   "source": [
    "#start by making a copy\n",
    "product = prodimport.copy()"
   ]
  },
  {
   "cell_type": "code",
   "execution_count": 2216,
   "metadata": {},
   "outputs": [
    {
     "name": "stdout",
     "output_type": "stream",
     "text": [
      "<class 'pandas.core.frame.DataFrame'>\n",
      "Int64Index: 32328 entries, 0 to 32327\n",
      "Data columns (total 3 columns):\n",
      "product_id          32328 non-null object\n",
      "number_of_photos    32328 non-null int64\n",
      "category            32328 non-null object\n",
      "dtypes: int64(1), object(2)\n",
      "memory usage: 1010.2+ KB\n"
     ]
    }
   ],
   "source": [
    "product.info()"
   ]
  },
  {
   "cell_type": "markdown",
   "metadata": {},
   "source": [
    "CHANGE 1 - Before: Fashion is categorized into 7 different sub categories"
   ]
  },
  {
   "cell_type": "code",
   "execution_count": 2217,
   "metadata": {},
   "outputs": [
    {
     "data": {
      "text/plain": [
       "fashion_accessories        849\n",
       "fashion_shoes              173\n",
       "fashion_male                95\n",
       "fashion_underwear_beach     53\n",
       "fashion_female              27\n",
       "fashion_sport               19\n",
       "fashion_kids                 5\n",
       "Name: category, dtype: int64"
      ]
     },
     "execution_count": 2217,
     "metadata": {},
     "output_type": "execute_result"
    }
   ],
   "source": [
    "product[product.category.str.contains('fashion')]['category'].value_counts()"
   ]
  },
  {
   "cell_type": "markdown",
   "metadata": {},
   "source": [
    "After: Label all instead just as 'fashion'"
   ]
  },
  {
   "cell_type": "code",
   "execution_count": 2218,
   "metadata": {},
   "outputs": [
    {
     "data": {
      "text/plain": [
       "fashion    1221\n",
       "Name: category, dtype: int64"
      ]
     },
     "execution_count": 2218,
     "metadata": {},
     "output_type": "execute_result"
    }
   ],
   "source": [
    "product.loc[product.category.str.contains('fashion'), 'category'] = 'fashion'\n",
    "product[product.category.str.contains('fashion')]['category'].value_counts()"
   ]
  },
  {
   "cell_type": "markdown",
   "metadata": {},
   "source": [
    "CHANGE 2 - Before: 2 misspelled categories"
   ]
  },
  {
   "cell_type": "code",
   "execution_count": 2219,
   "metadata": {},
   "outputs": [
    {
     "data": {
      "text/plain": [
       "garden_tools                753\n",
       "construction_tools          569\n",
       "costruction_tools_garden     88\n",
       "costruction_tools_tools      39\n",
       "Name: category, dtype: int64"
      ]
     },
     "execution_count": 2219,
     "metadata": {},
     "output_type": "execute_result"
    }
   ],
   "source": [
    "product[product.category.str.contains('tools')]['category'].value_counts()"
   ]
  },
  {
   "cell_type": "markdown",
   "metadata": {},
   "source": [
    "AFTER: consolidate accordingly into `garden_tools` and `construction_tools`"
   ]
  },
  {
   "cell_type": "code",
   "execution_count": 2220,
   "metadata": {},
   "outputs": [],
   "source": [
    "product.loc[product.category == 'costruction_tools_garden', 'category'] = 'garden_tools'\n",
    "product.loc[product.category == 'costruction_tools_tools', 'category'] = 'construction_tools'"
   ]
  },
  {
   "cell_type": "markdown",
   "metadata": {},
   "source": [
    "Verify"
   ]
  },
  {
   "cell_type": "code",
   "execution_count": 2221,
   "metadata": {},
   "outputs": [
    {
     "data": {
      "text/plain": [
       "garden_tools          841\n",
       "construction_tools    608\n",
       "Name: category, dtype: int64"
      ]
     },
     "execution_count": 2221,
     "metadata": {},
     "output_type": "execute_result"
    }
   ],
   "source": [
    "product[product.category.str.contains('tools')]['category'].value_counts()"
   ]
  },
  {
   "cell_type": "markdown",
   "metadata": {},
   "source": [
    "<a id='eda'></a>\n",
    "## Exploratory Data Analysis\n",
    "\n",
    "In the previous Wrangling step the quality and structure of the data was assessed and improved. Now in the EDA step we can now be more elaborate with our assessments. This means to find patterns in your data and to even visualize those relationships and build INTUITION about what you are working with."
   ]
  },
  {
   "cell_type": "markdown",
   "metadata": {},
   "source": [
    "<a id='augment'></a>\n",
    "### Augment and Explore\n",
    "\n",
    "It is important to AUGMENT the data before we start visualizating them. Below, we can see a summary of the wrangling steps so far and the steps we can take to Augment the data:\n",
    "* `ORDER_PRODUCT` created by removing duplicates from `ORDERIMPORT`(order_product_data.csv)\n",
    "    * **Calculations**: Create new fields using calculations using price, shipping, and number of items\n",
    "    * **Possible Joins**: Merge data with `ORDER_TAGGED` using `order_id`  \n",
    "    * **Possible Joins**: Merge data with `PRODUCT` using `product_id`\n",
    "* `ORDER` created by adding tags to identify possible operational anomolies from `ORDERIMPORT`(order_data.csv)\n",
    "    * **Calculations**: Determine fulfilment times by performing time difference calculations between approval times and delivery times\n",
    "    * **Possible Joins**: Merge data with `CUSTOMER_NOZIP` using `customer_order_id`\n",
    "* `CUSTOMER` created by removing zipcode field from `CUSTIMPORT` (customer_data.csv)\n",
    "* `PRODUCT`  from product_data.csv --  no changes\n",
    "* **EXPORT**: Augment data further and *EXPORT* into different datasets for exploration"
   ]
  },
  {
   "cell_type": "markdown",
   "metadata": {},
   "source": [
    "**Calculation Step** - Engineer features based on calculations within `ORDER_PRODUCT` dataset"
   ]
  },
  {
   "cell_type": "code",
   "execution_count": 2222,
   "metadata": {},
   "outputs": [
    {
     "data": {
      "text/html": [
       "<div>\n",
       "<style scoped>\n",
       "    .dataframe tbody tr th:only-of-type {\n",
       "        vertical-align: middle;\n",
       "    }\n",
       "\n",
       "    .dataframe tbody tr th {\n",
       "        vertical-align: top;\n",
       "    }\n",
       "\n",
       "    .dataframe thead th {\n",
       "        text-align: right;\n",
       "    }\n",
       "</style>\n",
       "<table border=\"1\" class=\"dataframe\">\n",
       "  <thead>\n",
       "    <tr style=\"text-align: right;\">\n",
       "      <th></th>\n",
       "      <th>order_id</th>\n",
       "      <th>num_items_in_order</th>\n",
       "      <th>product_id</th>\n",
       "      <th>price_per_item</th>\n",
       "      <th>shipping_per_item</th>\n",
       "    </tr>\n",
       "  </thead>\n",
       "  <tbody>\n",
       "    <tr>\n",
       "      <th>0</th>\n",
       "      <td>00010242fe8c5a6d1ba2dd792cb16214</td>\n",
       "      <td>1</td>\n",
       "      <td>4244733e06e7ecb4970a6e2683c13e61</td>\n",
       "      <td>58.90</td>\n",
       "      <td>13.29</td>\n",
       "    </tr>\n",
       "    <tr>\n",
       "      <th>1</th>\n",
       "      <td>00018f77f2f0320c557190d7a144bdd3</td>\n",
       "      <td>1</td>\n",
       "      <td>e5f2d52b802189ee658865ca93d83a8f</td>\n",
       "      <td>239.90</td>\n",
       "      <td>19.93</td>\n",
       "    </tr>\n",
       "    <tr>\n",
       "      <th>2</th>\n",
       "      <td>000229ec398224ef6ca0657da4fc703e</td>\n",
       "      <td>1</td>\n",
       "      <td>c777355d18b72b67abbeef9df44fd0fd</td>\n",
       "      <td>199.00</td>\n",
       "      <td>17.87</td>\n",
       "    </tr>\n",
       "    <tr>\n",
       "      <th>3</th>\n",
       "      <td>00024acbcdf0a6daa1e931b038114c75</td>\n",
       "      <td>1</td>\n",
       "      <td>7634da152a4610f1595efa32f14722fc</td>\n",
       "      <td>12.99</td>\n",
       "      <td>12.79</td>\n",
       "    </tr>\n",
       "    <tr>\n",
       "      <th>4</th>\n",
       "      <td>00042b26cf59d7ce69dfabb4e55b4fd9</td>\n",
       "      <td>1</td>\n",
       "      <td>ac6c3623068f30de03045865e4e10089</td>\n",
       "      <td>199.90</td>\n",
       "      <td>18.14</td>\n",
       "    </tr>\n",
       "  </tbody>\n",
       "</table>\n",
       "</div>"
      ],
      "text/plain": [
       "                           order_id  num_items_in_order  \\\n",
       "0  00010242fe8c5a6d1ba2dd792cb16214                   1   \n",
       "1  00018f77f2f0320c557190d7a144bdd3                   1   \n",
       "2  000229ec398224ef6ca0657da4fc703e                   1   \n",
       "3  00024acbcdf0a6daa1e931b038114c75                   1   \n",
       "4  00042b26cf59d7ce69dfabb4e55b4fd9                   1   \n",
       "\n",
       "                         product_id  price_per_item  shipping_per_item  \n",
       "0  4244733e06e7ecb4970a6e2683c13e61           58.90              13.29  \n",
       "1  e5f2d52b802189ee658865ca93d83a8f          239.90              19.93  \n",
       "2  c777355d18b72b67abbeef9df44fd0fd          199.00              17.87  \n",
       "3  7634da152a4610f1595efa32f14722fc           12.99              12.79  \n",
       "4  ac6c3623068f30de03045865e4e10089          199.90              18.14  "
      ]
     },
     "execution_count": 2222,
     "metadata": {},
     "output_type": "execute_result"
    }
   ],
   "source": [
    "order_product.head()"
   ]
  },
  {
   "cell_type": "markdown",
   "metadata": {},
   "source": [
    "Create a field to determine the total price calculated based on the sum of price and shipping as a multiple of the number of items in the order"
   ]
  },
  {
   "cell_type": "code",
   "execution_count": 2223,
   "metadata": {},
   "outputs": [],
   "source": [
    "order_product['total_item_price'] = order_product['num_items_in_order']*order_product['price_per_item']\n",
    "order_product['total_shipping_price'] = order_product['num_items_in_order']*order_product['shipping_per_item']\n",
    "order_product['total_order_value'] = order_product['total_item_price'] + order_product['total_shipping_price']"
   ]
  },
  {
   "cell_type": "markdown",
   "metadata": {},
   "source": [
    "`ORDER_PRODUCT` dataset with the new calculated fields"
   ]
  },
  {
   "cell_type": "code",
   "execution_count": 2224,
   "metadata": {},
   "outputs": [
    {
     "name": "stdout",
     "output_type": "stream",
     "text": [
      "Showing new calculations for a sample of records with item count more than 1\n"
     ]
    },
    {
     "data": {
      "text/html": [
       "<div>\n",
       "<style scoped>\n",
       "    .dataframe tbody tr th:only-of-type {\n",
       "        vertical-align: middle;\n",
       "    }\n",
       "\n",
       "    .dataframe tbody tr th {\n",
       "        vertical-align: top;\n",
       "    }\n",
       "\n",
       "    .dataframe thead th {\n",
       "        text-align: right;\n",
       "    }\n",
       "</style>\n",
       "<table border=\"1\" class=\"dataframe\">\n",
       "  <thead>\n",
       "    <tr style=\"text-align: right;\">\n",
       "      <th></th>\n",
       "      <th>order_id</th>\n",
       "      <th>num_items_in_order</th>\n",
       "      <th>product_id</th>\n",
       "      <th>price_per_item</th>\n",
       "      <th>shipping_per_item</th>\n",
       "      <th>total_item_price</th>\n",
       "      <th>total_shipping_price</th>\n",
       "      <th>total_order_value</th>\n",
       "    </tr>\n",
       "  </thead>\n",
       "  <tbody>\n",
       "    <tr>\n",
       "      <th>14</th>\n",
       "      <td>0008288aa423d2a3f00fcb17cd7d8719</td>\n",
       "      <td>2</td>\n",
       "      <td>368c6c730842d78016ad823897a372db</td>\n",
       "      <td>49.90</td>\n",
       "      <td>13.37</td>\n",
       "      <td>99.80</td>\n",
       "      <td>26.74</td>\n",
       "      <td>126.54</td>\n",
       "    </tr>\n",
       "    <tr>\n",
       "      <th>34</th>\n",
       "      <td>00143d0f86d6fbd9f9b38ab440ac16f5</td>\n",
       "      <td>3</td>\n",
       "      <td>e95ee6822b66ac6058e2e4aff656071a</td>\n",
       "      <td>21.33</td>\n",
       "      <td>15.10</td>\n",
       "      <td>63.99</td>\n",
       "      <td>45.30</td>\n",
       "      <td>109.29</td>\n",
       "    </tr>\n",
       "    <tr>\n",
       "      <th>44</th>\n",
       "      <td>001ab0a7578dd66cd4b0a71f5b6e1e41</td>\n",
       "      <td>3</td>\n",
       "      <td>0b0172eb0fd18479d29c3bc122c058c2</td>\n",
       "      <td>24.89</td>\n",
       "      <td>17.63</td>\n",
       "      <td>74.67</td>\n",
       "      <td>52.89</td>\n",
       "      <td>127.56</td>\n",
       "    </tr>\n",
       "    <tr>\n",
       "      <th>49</th>\n",
       "      <td>001d8f0e34a38c37f7dba2a37d4eba8b</td>\n",
       "      <td>2</td>\n",
       "      <td>e67307ff0f15ade43fcb6e670be7a74c</td>\n",
       "      <td>18.99</td>\n",
       "      <td>7.78</td>\n",
       "      <td>37.98</td>\n",
       "      <td>15.56</td>\n",
       "      <td>53.54</td>\n",
       "    </tr>\n",
       "    <tr>\n",
       "      <th>76</th>\n",
       "      <td>002c9def9c9b951b1bec6d50753c9891</td>\n",
       "      <td>2</td>\n",
       "      <td>2d9ff06c8870a518f5f6909774e140fb</td>\n",
       "      <td>78.00</td>\n",
       "      <td>8.90</td>\n",
       "      <td>156.00</td>\n",
       "      <td>17.80</td>\n",
       "      <td>173.80</td>\n",
       "    </tr>\n",
       "  </tbody>\n",
       "</table>\n",
       "</div>"
      ],
      "text/plain": [
       "                            order_id  num_items_in_order  \\\n",
       "14  0008288aa423d2a3f00fcb17cd7d8719                   2   \n",
       "34  00143d0f86d6fbd9f9b38ab440ac16f5                   3   \n",
       "44  001ab0a7578dd66cd4b0a71f5b6e1e41                   3   \n",
       "49  001d8f0e34a38c37f7dba2a37d4eba8b                   2   \n",
       "76  002c9def9c9b951b1bec6d50753c9891                   2   \n",
       "\n",
       "                          product_id  price_per_item  shipping_per_item  \\\n",
       "14  368c6c730842d78016ad823897a372db           49.90              13.37   \n",
       "34  e95ee6822b66ac6058e2e4aff656071a           21.33              15.10   \n",
       "44  0b0172eb0fd18479d29c3bc122c058c2           24.89              17.63   \n",
       "49  e67307ff0f15ade43fcb6e670be7a74c           18.99               7.78   \n",
       "76  2d9ff06c8870a518f5f6909774e140fb           78.00               8.90   \n",
       "\n",
       "    total_item_price  total_shipping_price  total_order_value  \n",
       "14             99.80                 26.74             126.54  \n",
       "34             63.99                 45.30             109.29  \n",
       "44             74.67                 52.89             127.56  \n",
       "49             37.98                 15.56              53.54  \n",
       "76            156.00                 17.80             173.80  "
      ]
     },
     "execution_count": 2224,
     "metadata": {},
     "output_type": "execute_result"
    }
   ],
   "source": [
    "# Showing records for when items are more than 1 to confirm calculation\n",
    "print(\"Showing new calculations for a sample of records with item count more than 1\")\n",
    "order_product[order_product.num_items_in_order >= 2].head()"
   ]
  },
  {
   "cell_type": "markdown",
   "metadata": {},
   "source": [
    "Also validate for 1 item count and drop irrelavant columns"
   ]
  },
  {
   "cell_type": "code",
   "execution_count": 2225,
   "metadata": {},
   "outputs": [
    {
     "data": {
      "text/html": [
       "<div>\n",
       "<style scoped>\n",
       "    .dataframe tbody tr th:only-of-type {\n",
       "        vertical-align: middle;\n",
       "    }\n",
       "\n",
       "    .dataframe tbody tr th {\n",
       "        vertical-align: top;\n",
       "    }\n",
       "\n",
       "    .dataframe thead th {\n",
       "        text-align: right;\n",
       "    }\n",
       "</style>\n",
       "<table border=\"1\" class=\"dataframe\">\n",
       "  <thead>\n",
       "    <tr style=\"text-align: right;\">\n",
       "      <th></th>\n",
       "      <th>order_id</th>\n",
       "      <th>num_items_in_order</th>\n",
       "      <th>product_id</th>\n",
       "      <th>price_per_item</th>\n",
       "      <th>shipping_per_item</th>\n",
       "      <th>total_item_price</th>\n",
       "      <th>total_shipping_price</th>\n",
       "      <th>total_order_value</th>\n",
       "    </tr>\n",
       "  </thead>\n",
       "  <tbody>\n",
       "    <tr>\n",
       "      <th>0</th>\n",
       "      <td>00010242fe8c5a6d1ba2dd792cb16214</td>\n",
       "      <td>1</td>\n",
       "      <td>4244733e06e7ecb4970a6e2683c13e61</td>\n",
       "      <td>58.90</td>\n",
       "      <td>13.29</td>\n",
       "      <td>58.90</td>\n",
       "      <td>13.29</td>\n",
       "      <td>72.19</td>\n",
       "    </tr>\n",
       "    <tr>\n",
       "      <th>1</th>\n",
       "      <td>00018f77f2f0320c557190d7a144bdd3</td>\n",
       "      <td>1</td>\n",
       "      <td>e5f2d52b802189ee658865ca93d83a8f</td>\n",
       "      <td>239.90</td>\n",
       "      <td>19.93</td>\n",
       "      <td>239.90</td>\n",
       "      <td>19.93</td>\n",
       "      <td>259.83</td>\n",
       "    </tr>\n",
       "    <tr>\n",
       "      <th>2</th>\n",
       "      <td>000229ec398224ef6ca0657da4fc703e</td>\n",
       "      <td>1</td>\n",
       "      <td>c777355d18b72b67abbeef9df44fd0fd</td>\n",
       "      <td>199.00</td>\n",
       "      <td>17.87</td>\n",
       "      <td>199.00</td>\n",
       "      <td>17.87</td>\n",
       "      <td>216.87</td>\n",
       "    </tr>\n",
       "    <tr>\n",
       "      <th>3</th>\n",
       "      <td>00024acbcdf0a6daa1e931b038114c75</td>\n",
       "      <td>1</td>\n",
       "      <td>7634da152a4610f1595efa32f14722fc</td>\n",
       "      <td>12.99</td>\n",
       "      <td>12.79</td>\n",
       "      <td>12.99</td>\n",
       "      <td>12.79</td>\n",
       "      <td>25.78</td>\n",
       "    </tr>\n",
       "    <tr>\n",
       "      <th>4</th>\n",
       "      <td>00042b26cf59d7ce69dfabb4e55b4fd9</td>\n",
       "      <td>1</td>\n",
       "      <td>ac6c3623068f30de03045865e4e10089</td>\n",
       "      <td>199.90</td>\n",
       "      <td>18.14</td>\n",
       "      <td>199.90</td>\n",
       "      <td>18.14</td>\n",
       "      <td>218.04</td>\n",
       "    </tr>\n",
       "  </tbody>\n",
       "</table>\n",
       "</div>"
      ],
      "text/plain": [
       "                           order_id  num_items_in_order  \\\n",
       "0  00010242fe8c5a6d1ba2dd792cb16214                   1   \n",
       "1  00018f77f2f0320c557190d7a144bdd3                   1   \n",
       "2  000229ec398224ef6ca0657da4fc703e                   1   \n",
       "3  00024acbcdf0a6daa1e931b038114c75                   1   \n",
       "4  00042b26cf59d7ce69dfabb4e55b4fd9                   1   \n",
       "\n",
       "                         product_id  price_per_item  shipping_per_item  \\\n",
       "0  4244733e06e7ecb4970a6e2683c13e61           58.90              13.29   \n",
       "1  e5f2d52b802189ee658865ca93d83a8f          239.90              19.93   \n",
       "2  c777355d18b72b67abbeef9df44fd0fd          199.00              17.87   \n",
       "3  7634da152a4610f1595efa32f14722fc           12.99              12.79   \n",
       "4  ac6c3623068f30de03045865e4e10089          199.90              18.14   \n",
       "\n",
       "   total_item_price  total_shipping_price  total_order_value  \n",
       "0             58.90                 13.29              72.19  \n",
       "1            239.90                 19.93             259.83  \n",
       "2            199.00                 17.87             216.87  \n",
       "3             12.99                 12.79              25.78  \n",
       "4            199.90                 18.14             218.04  "
      ]
     },
     "execution_count": 2225,
     "metadata": {},
     "output_type": "execute_result"
    }
   ],
   "source": [
    "order_product[order_product.num_items_in_order == 1].head()"
   ]
  },
  {
   "cell_type": "code",
   "execution_count": 2226,
   "metadata": {},
   "outputs": [],
   "source": [
    "order_product.drop(['price_per_item', 'shipping_per_item'], axis = 1, inplace = True)"
   ]
  },
  {
   "cell_type": "code",
   "execution_count": 2227,
   "metadata": {},
   "outputs": [
    {
     "data": {
      "text/html": [
       "<div>\n",
       "<style scoped>\n",
       "    .dataframe tbody tr th:only-of-type {\n",
       "        vertical-align: middle;\n",
       "    }\n",
       "\n",
       "    .dataframe tbody tr th {\n",
       "        vertical-align: top;\n",
       "    }\n",
       "\n",
       "    .dataframe thead th {\n",
       "        text-align: right;\n",
       "    }\n",
       "</style>\n",
       "<table border=\"1\" class=\"dataframe\">\n",
       "  <thead>\n",
       "    <tr style=\"text-align: right;\">\n",
       "      <th></th>\n",
       "      <th>order_id</th>\n",
       "      <th>num_items_in_order</th>\n",
       "      <th>product_id</th>\n",
       "      <th>total_item_price</th>\n",
       "      <th>total_shipping_price</th>\n",
       "      <th>total_order_value</th>\n",
       "    </tr>\n",
       "  </thead>\n",
       "  <tbody>\n",
       "    <tr>\n",
       "      <th>0</th>\n",
       "      <td>00010242fe8c5a6d1ba2dd792cb16214</td>\n",
       "      <td>1</td>\n",
       "      <td>4244733e06e7ecb4970a6e2683c13e61</td>\n",
       "      <td>58.90</td>\n",
       "      <td>13.29</td>\n",
       "      <td>72.19</td>\n",
       "    </tr>\n",
       "    <tr>\n",
       "      <th>1</th>\n",
       "      <td>00018f77f2f0320c557190d7a144bdd3</td>\n",
       "      <td>1</td>\n",
       "      <td>e5f2d52b802189ee658865ca93d83a8f</td>\n",
       "      <td>239.90</td>\n",
       "      <td>19.93</td>\n",
       "      <td>259.83</td>\n",
       "    </tr>\n",
       "    <tr>\n",
       "      <th>2</th>\n",
       "      <td>000229ec398224ef6ca0657da4fc703e</td>\n",
       "      <td>1</td>\n",
       "      <td>c777355d18b72b67abbeef9df44fd0fd</td>\n",
       "      <td>199.00</td>\n",
       "      <td>17.87</td>\n",
       "      <td>216.87</td>\n",
       "    </tr>\n",
       "    <tr>\n",
       "      <th>3</th>\n",
       "      <td>00024acbcdf0a6daa1e931b038114c75</td>\n",
       "      <td>1</td>\n",
       "      <td>7634da152a4610f1595efa32f14722fc</td>\n",
       "      <td>12.99</td>\n",
       "      <td>12.79</td>\n",
       "      <td>25.78</td>\n",
       "    </tr>\n",
       "    <tr>\n",
       "      <th>4</th>\n",
       "      <td>00042b26cf59d7ce69dfabb4e55b4fd9</td>\n",
       "      <td>1</td>\n",
       "      <td>ac6c3623068f30de03045865e4e10089</td>\n",
       "      <td>199.90</td>\n",
       "      <td>18.14</td>\n",
       "      <td>218.04</td>\n",
       "    </tr>\n",
       "  </tbody>\n",
       "</table>\n",
       "</div>"
      ],
      "text/plain": [
       "                           order_id  num_items_in_order  \\\n",
       "0  00010242fe8c5a6d1ba2dd792cb16214                   1   \n",
       "1  00018f77f2f0320c557190d7a144bdd3                   1   \n",
       "2  000229ec398224ef6ca0657da4fc703e                   1   \n",
       "3  00024acbcdf0a6daa1e931b038114c75                   1   \n",
       "4  00042b26cf59d7ce69dfabb4e55b4fd9                   1   \n",
       "\n",
       "                         product_id  total_item_price  total_shipping_price  \\\n",
       "0  4244733e06e7ecb4970a6e2683c13e61             58.90                 13.29   \n",
       "1  e5f2d52b802189ee658865ca93d83a8f            239.90                 19.93   \n",
       "2  c777355d18b72b67abbeef9df44fd0fd            199.00                 17.87   \n",
       "3  7634da152a4610f1595efa32f14722fc             12.99                 12.79   \n",
       "4  ac6c3623068f30de03045865e4e10089            199.90                 18.14   \n",
       "\n",
       "   total_order_value  \n",
       "0              72.19  \n",
       "1             259.83  \n",
       "2             216.87  \n",
       "3              25.78  \n",
       "4             218.04  "
      ]
     },
     "execution_count": 2227,
     "metadata": {},
     "output_type": "execute_result"
    }
   ],
   "source": [
    "order_product.head()"
   ]
  },
  {
   "cell_type": "markdown",
   "metadata": {},
   "source": [
    "**Calculation Step** - Calculate time between orders and deliveries in `ORDER` dataset"
   ]
  },
  {
   "cell_type": "code",
   "execution_count": 2228,
   "metadata": {},
   "outputs": [],
   "source": [
    "# Only keep date portion and remove datetime portion\n",
    "order['purchase_date'] = pd.to_datetime(order.purchased_at).dt.date"
   ]
  },
  {
   "cell_type": "code",
   "execution_count": 2229,
   "metadata": {},
   "outputs": [
    {
     "data": {
      "text/html": [
       "<div>\n",
       "<style scoped>\n",
       "    .dataframe tbody tr th:only-of-type {\n",
       "        vertical-align: middle;\n",
       "    }\n",
       "\n",
       "    .dataframe tbody tr th {\n",
       "        vertical-align: top;\n",
       "    }\n",
       "\n",
       "    .dataframe thead th {\n",
       "        text-align: right;\n",
       "    }\n",
       "</style>\n",
       "<table border=\"1\" class=\"dataframe\">\n",
       "  <thead>\n",
       "    <tr style=\"text-align: right;\">\n",
       "      <th></th>\n",
       "      <th>order_id</th>\n",
       "      <th>customer_order_id</th>\n",
       "      <th>order_status</th>\n",
       "      <th>purchased_at</th>\n",
       "      <th>approved_at</th>\n",
       "      <th>delivered_at</th>\n",
       "      <th>tag</th>\n",
       "      <th>purchase_date</th>\n",
       "    </tr>\n",
       "  </thead>\n",
       "  <tbody>\n",
       "    <tr>\n",
       "      <th>0</th>\n",
       "      <td>e481f51cbdc54678b7cc49136f2d6af7</td>\n",
       "      <td>9ef432eb6251297304e76186b10a928d</td>\n",
       "      <td>delivered</td>\n",
       "      <td>2017-10-02 10:56:33</td>\n",
       "      <td>2017-10-02 11:07:15</td>\n",
       "      <td>2017-10-10 21:25:13</td>\n",
       "      <td>NaN</td>\n",
       "      <td>2017-10-02</td>\n",
       "    </tr>\n",
       "    <tr>\n",
       "      <th>1</th>\n",
       "      <td>53cdb2fc8bc7dce0b6741e2150273451</td>\n",
       "      <td>b0830fb4747a6c6d20dea0b8c802d7ef</td>\n",
       "      <td>delivered</td>\n",
       "      <td>2018-07-24 20:41:37</td>\n",
       "      <td>2018-07-26 03:24:27</td>\n",
       "      <td>2018-08-07 15:27:45</td>\n",
       "      <td>NaN</td>\n",
       "      <td>2018-07-24</td>\n",
       "    </tr>\n",
       "    <tr>\n",
       "      <th>2</th>\n",
       "      <td>47770eb9100c2d0c44946d9cf07ec65d</td>\n",
       "      <td>41ce2a54c0b03bf3443c3d931a367089</td>\n",
       "      <td>delivered</td>\n",
       "      <td>2018-08-08 08:38:49</td>\n",
       "      <td>2018-08-08 08:55:23</td>\n",
       "      <td>2018-08-17 18:06:29</td>\n",
       "      <td>NaN</td>\n",
       "      <td>2018-08-08</td>\n",
       "    </tr>\n",
       "    <tr>\n",
       "      <th>3</th>\n",
       "      <td>949d5b44dbf5de918fe9c16f97b45f8a</td>\n",
       "      <td>f88197465ea7920adcdbec7375364d82</td>\n",
       "      <td>delivered</td>\n",
       "      <td>2017-11-18 19:28:06</td>\n",
       "      <td>2017-11-18 19:45:59</td>\n",
       "      <td>2017-12-02 00:28:42</td>\n",
       "      <td>NaN</td>\n",
       "      <td>2017-11-18</td>\n",
       "    </tr>\n",
       "    <tr>\n",
       "      <th>4</th>\n",
       "      <td>ad21c59c0840e6cb83a9ceb5573f8159</td>\n",
       "      <td>8ab97904e6daea8866dbdbc4fb7aad2c</td>\n",
       "      <td>delivered</td>\n",
       "      <td>2018-02-13 21:18:39</td>\n",
       "      <td>2018-02-13 22:20:29</td>\n",
       "      <td>2018-02-16 18:17:02</td>\n",
       "      <td>NaN</td>\n",
       "      <td>2018-02-13</td>\n",
       "    </tr>\n",
       "  </tbody>\n",
       "</table>\n",
       "</div>"
      ],
      "text/plain": [
       "                           order_id                 customer_order_id  \\\n",
       "0  e481f51cbdc54678b7cc49136f2d6af7  9ef432eb6251297304e76186b10a928d   \n",
       "1  53cdb2fc8bc7dce0b6741e2150273451  b0830fb4747a6c6d20dea0b8c802d7ef   \n",
       "2  47770eb9100c2d0c44946d9cf07ec65d  41ce2a54c0b03bf3443c3d931a367089   \n",
       "3  949d5b44dbf5de918fe9c16f97b45f8a  f88197465ea7920adcdbec7375364d82   \n",
       "4  ad21c59c0840e6cb83a9ceb5573f8159  8ab97904e6daea8866dbdbc4fb7aad2c   \n",
       "\n",
       "  order_status        purchased_at         approved_at        delivered_at  \\\n",
       "0    delivered 2017-10-02 10:56:33 2017-10-02 11:07:15 2017-10-10 21:25:13   \n",
       "1    delivered 2018-07-24 20:41:37 2018-07-26 03:24:27 2018-08-07 15:27:45   \n",
       "2    delivered 2018-08-08 08:38:49 2018-08-08 08:55:23 2018-08-17 18:06:29   \n",
       "3    delivered 2017-11-18 19:28:06 2017-11-18 19:45:59 2017-12-02 00:28:42   \n",
       "4    delivered 2018-02-13 21:18:39 2018-02-13 22:20:29 2018-02-16 18:17:02   \n",
       "\n",
       "   tag purchase_date  \n",
       "0  NaN    2017-10-02  \n",
       "1  NaN    2018-07-24  \n",
       "2  NaN    2018-08-08  \n",
       "3  NaN    2017-11-18  \n",
       "4  NaN    2018-02-13  "
      ]
     },
     "execution_count": 2229,
     "metadata": {},
     "output_type": "execute_result"
    }
   ],
   "source": [
    "order.head()"
   ]
  },
  {
   "cell_type": "code",
   "execution_count": 2230,
   "metadata": {},
   "outputs": [],
   "source": [
    "# Include elasped time between order and delivery\n",
    "## astype ensures that difference is calculated in seconds\n",
    "order['approval_in-hours'] = (order.approved_at - order.purchased_at).astype('timedelta64[s]')/3600\n",
    "order['delivery_in-hours'] = (order.delivered_at - order.purchased_at).astype('timedelta64[s]')/3600"
   ]
  },
  {
   "cell_type": "markdown",
   "metadata": {},
   "source": [
    "Also drop original date fields as we have calculated the necessary features"
   ]
  },
  {
   "cell_type": "code",
   "execution_count": 2231,
   "metadata": {},
   "outputs": [],
   "source": [
    "drop_columns = ['purchased_at', 'approved_at', 'delivered_at']\n",
    "order.drop(drop_columns, axis = 1, inplace = True)"
   ]
  },
  {
   "cell_type": "markdown",
   "metadata": {},
   "source": [
    "`ORDER` dataset with new calculated fields"
   ]
  },
  {
   "cell_type": "code",
   "execution_count": 2232,
   "metadata": {},
   "outputs": [
    {
     "data": {
      "text/html": [
       "<div>\n",
       "<style scoped>\n",
       "    .dataframe tbody tr th:only-of-type {\n",
       "        vertical-align: middle;\n",
       "    }\n",
       "\n",
       "    .dataframe tbody tr th {\n",
       "        vertical-align: top;\n",
       "    }\n",
       "\n",
       "    .dataframe thead th {\n",
       "        text-align: right;\n",
       "    }\n",
       "</style>\n",
       "<table border=\"1\" class=\"dataframe\">\n",
       "  <thead>\n",
       "    <tr style=\"text-align: right;\">\n",
       "      <th></th>\n",
       "      <th>order_id</th>\n",
       "      <th>customer_order_id</th>\n",
       "      <th>order_status</th>\n",
       "      <th>tag</th>\n",
       "      <th>purchase_date</th>\n",
       "      <th>approval_in-hours</th>\n",
       "      <th>delivery_in-hours</th>\n",
       "    </tr>\n",
       "  </thead>\n",
       "  <tbody>\n",
       "    <tr>\n",
       "      <th>0</th>\n",
       "      <td>e481f51cbdc54678b7cc49136f2d6af7</td>\n",
       "      <td>9ef432eb6251297304e76186b10a928d</td>\n",
       "      <td>delivered</td>\n",
       "      <td>NaN</td>\n",
       "      <td>2017-10-02</td>\n",
       "      <td>0.178333</td>\n",
       "      <td>202.477778</td>\n",
       "    </tr>\n",
       "    <tr>\n",
       "      <th>1</th>\n",
       "      <td>53cdb2fc8bc7dce0b6741e2150273451</td>\n",
       "      <td>b0830fb4747a6c6d20dea0b8c802d7ef</td>\n",
       "      <td>delivered</td>\n",
       "      <td>NaN</td>\n",
       "      <td>2018-07-24</td>\n",
       "      <td>30.713889</td>\n",
       "      <td>330.768889</td>\n",
       "    </tr>\n",
       "    <tr>\n",
       "      <th>2</th>\n",
       "      <td>47770eb9100c2d0c44946d9cf07ec65d</td>\n",
       "      <td>41ce2a54c0b03bf3443c3d931a367089</td>\n",
       "      <td>delivered</td>\n",
       "      <td>NaN</td>\n",
       "      <td>2018-08-08</td>\n",
       "      <td>0.276111</td>\n",
       "      <td>225.461111</td>\n",
       "    </tr>\n",
       "    <tr>\n",
       "      <th>3</th>\n",
       "      <td>949d5b44dbf5de918fe9c16f97b45f8a</td>\n",
       "      <td>f88197465ea7920adcdbec7375364d82</td>\n",
       "      <td>delivered</td>\n",
       "      <td>NaN</td>\n",
       "      <td>2017-11-18</td>\n",
       "      <td>0.298056</td>\n",
       "      <td>317.010000</td>\n",
       "    </tr>\n",
       "    <tr>\n",
       "      <th>4</th>\n",
       "      <td>ad21c59c0840e6cb83a9ceb5573f8159</td>\n",
       "      <td>8ab97904e6daea8866dbdbc4fb7aad2c</td>\n",
       "      <td>delivered</td>\n",
       "      <td>NaN</td>\n",
       "      <td>2018-02-13</td>\n",
       "      <td>1.030556</td>\n",
       "      <td>68.973056</td>\n",
       "    </tr>\n",
       "  </tbody>\n",
       "</table>\n",
       "</div>"
      ],
      "text/plain": [
       "                           order_id                 customer_order_id  \\\n",
       "0  e481f51cbdc54678b7cc49136f2d6af7  9ef432eb6251297304e76186b10a928d   \n",
       "1  53cdb2fc8bc7dce0b6741e2150273451  b0830fb4747a6c6d20dea0b8c802d7ef   \n",
       "2  47770eb9100c2d0c44946d9cf07ec65d  41ce2a54c0b03bf3443c3d931a367089   \n",
       "3  949d5b44dbf5de918fe9c16f97b45f8a  f88197465ea7920adcdbec7375364d82   \n",
       "4  ad21c59c0840e6cb83a9ceb5573f8159  8ab97904e6daea8866dbdbc4fb7aad2c   \n",
       "\n",
       "  order_status  tag purchase_date  approval_in-hours  delivery_in-hours  \n",
       "0    delivered  NaN    2017-10-02           0.178333         202.477778  \n",
       "1    delivered  NaN    2018-07-24          30.713889         330.768889  \n",
       "2    delivered  NaN    2018-08-08           0.276111         225.461111  \n",
       "3    delivered  NaN    2017-11-18           0.298056         317.010000  \n",
       "4    delivered  NaN    2018-02-13           1.030556          68.973056  "
      ]
     },
     "execution_count": 2232,
     "metadata": {},
     "output_type": "execute_result"
    }
   ],
   "source": [
    "order.head()"
   ]
  },
  {
   "cell_type": "markdown",
   "metadata": {},
   "source": [
    "**Merge Step 1** - Provide more context to product IDs in `ORDER_PRODUCTS` by merging product data (`category` and `number_of_photos`) from `PRODUCTS` on `product_id`\n",
    "* Output 1 - `MASTER_NONULL` as a inner join/merge resulting in 1482 fewer records but no missing metrics\n",
    "* Output 2 - `MASTER` using left join to capture product Ids that do not have a category, resulting in a complete join grabbing all records, but will consist of `Null` metrics"
   ]
  },
  {
   "cell_type": "markdown",
   "metadata": {},
   "source": [
    "Merging on a 'Inner Join' results in a loss of records from 102425 to 100943"
   ]
  },
  {
   "cell_type": "code",
   "execution_count": 2233,
   "metadata": {},
   "outputs": [
    {
     "data": {
      "text/plain": [
       "(102425, 6)"
      ]
     },
     "execution_count": 2233,
     "metadata": {},
     "output_type": "execute_result"
    }
   ],
   "source": [
    "# Original number of rows to add product data to\n",
    "order_product.shape"
   ]
  },
  {
   "cell_type": "code",
   "execution_count": 2234,
   "metadata": {},
   "outputs": [],
   "source": [
    "# Merged dataset will be an enhancement of the original order_product\n",
    "master_nonull = order_product.merge(product, on = 'product_id')"
   ]
  },
  {
   "cell_type": "code",
   "execution_count": 2235,
   "metadata": {},
   "outputs": [
    {
     "data": {
      "text/plain": [
       "(100943, 8)"
      ]
     },
     "execution_count": 2235,
     "metadata": {},
     "output_type": "execute_result"
    }
   ],
   "source": [
    "# master_nonull has fewer records\n",
    "master_nonull.shape"
   ]
  },
  {
   "cell_type": "markdown",
   "metadata": {},
   "source": [
    "Fewer records in the merged data set of `master_nonull` implies that product IDs in `ORDER_PRODUCT` dataset do not exist in the `PRODUCT` dataset. \n",
    "\n",
    "To account for these missing categories, another dataset called `MASTER` will be created using a 'LEFT JOIN' resulting in the original number of 102425 records but with some NULL product features due to missing details for certain product IDs"
   ]
  },
  {
   "cell_type": "code",
   "execution_count": 2236,
   "metadata": {},
   "outputs": [],
   "source": [
    "#Start by renaming the common 'product_id' field in both datasets\n",
    "product.rename(columns={'product_id':'product_id_r'}, inplace = True)\n",
    "order_product.rename(columns={'product_id':'product_id_l'}, inplace = True)"
   ]
  },
  {
   "cell_type": "code",
   "execution_count": 2237,
   "metadata": {},
   "outputs": [],
   "source": [
    "#Then do a left join maintaining records on order_product_dedup even if they do not match\n",
    "master = order_product.merge(product, left_on = 'product_id_l', right_on = 'product_id_r', how = 'left')"
   ]
  },
  {
   "cell_type": "markdown",
   "metadata": {},
   "source": [
    "VALIDATION: Original number of records of 102425"
   ]
  },
  {
   "cell_type": "code",
   "execution_count": 2238,
   "metadata": {},
   "outputs": [
    {
     "data": {
      "text/plain": [
       "(102425, 9)"
      ]
     },
     "execution_count": 2238,
     "metadata": {},
     "output_type": "execute_result"
    }
   ],
   "source": [
    "master.shape"
   ]
  },
  {
   "cell_type": "markdown",
   "metadata": {},
   "source": [
    "Out of the 1482 records, we can identify 623 unique products with no product categorization!"
   ]
  },
  {
   "cell_type": "code",
   "execution_count": 2239,
   "metadata": {},
   "outputs": [
    {
     "name": "stdout",
     "output_type": "stream",
     "text": [
      "Count of unmatched records: 1482\n",
      "\n",
      "Example of first 5 records\n"
     ]
    },
    {
     "data": {
      "text/html": [
       "<div>\n",
       "<style scoped>\n",
       "    .dataframe tbody tr th:only-of-type {\n",
       "        vertical-align: middle;\n",
       "    }\n",
       "\n",
       "    .dataframe tbody tr th {\n",
       "        vertical-align: top;\n",
       "    }\n",
       "\n",
       "    .dataframe thead th {\n",
       "        text-align: right;\n",
       "    }\n",
       "</style>\n",
       "<table border=\"1\" class=\"dataframe\">\n",
       "  <thead>\n",
       "    <tr style=\"text-align: right;\">\n",
       "      <th></th>\n",
       "      <th>order_id</th>\n",
       "      <th>num_items_in_order</th>\n",
       "      <th>product_id_l</th>\n",
       "      <th>total_item_price</th>\n",
       "      <th>total_shipping_price</th>\n",
       "      <th>total_order_value</th>\n",
       "      <th>product_id_r</th>\n",
       "      <th>number_of_photos</th>\n",
       "      <th>category</th>\n",
       "    </tr>\n",
       "  </thead>\n",
       "  <tbody>\n",
       "    <tr>\n",
       "      <th>113</th>\n",
       "      <td>0046e1d57f4c07c8c92ab26be8c3dfc0</td>\n",
       "      <td>1</td>\n",
       "      <td>ff6caf9340512b8bf6d2a2a6df032cfa</td>\n",
       "      <td>7.79</td>\n",
       "      <td>7.78</td>\n",
       "      <td>15.57</td>\n",
       "      <td>NaN</td>\n",
       "      <td>NaN</td>\n",
       "      <td>NaN</td>\n",
       "    </tr>\n",
       "    <tr>\n",
       "      <th>115</th>\n",
       "      <td>00482f2670787292280e0a8153d82467</td>\n",
       "      <td>1</td>\n",
       "      <td>a9c404971d1a5b1cbc2e4070e02731fd</td>\n",
       "      <td>7.60</td>\n",
       "      <td>10.96</td>\n",
       "      <td>18.56</td>\n",
       "      <td>NaN</td>\n",
       "      <td>NaN</td>\n",
       "      <td>NaN</td>\n",
       "    </tr>\n",
       "    <tr>\n",
       "      <th>122</th>\n",
       "      <td>004f5d8f238e8908e6864b874eda3391</td>\n",
       "      <td>1</td>\n",
       "      <td>5a848e4ab52fd5445cdc07aab1c40e48</td>\n",
       "      <td>122.99</td>\n",
       "      <td>15.61</td>\n",
       "      <td>138.60</td>\n",
       "      <td>NaN</td>\n",
       "      <td>NaN</td>\n",
       "      <td>NaN</td>\n",
       "    </tr>\n",
       "    <tr>\n",
       "      <th>128</th>\n",
       "      <td>0057199db02d1a5ef41bacbf41f8f63b</td>\n",
       "      <td>1</td>\n",
       "      <td>41eee23c25f7a574dfaf8d5c151dbb12</td>\n",
       "      <td>20.30</td>\n",
       "      <td>16.79</td>\n",
       "      <td>37.09</td>\n",
       "      <td>NaN</td>\n",
       "      <td>NaN</td>\n",
       "      <td>NaN</td>\n",
       "    </tr>\n",
       "    <tr>\n",
       "      <th>154</th>\n",
       "      <td>006cb7cafc99b29548d4f412c7f9f493</td>\n",
       "      <td>1</td>\n",
       "      <td>e10758160da97891c2fdcbc35f0f031d</td>\n",
       "      <td>56.00</td>\n",
       "      <td>14.14</td>\n",
       "      <td>70.14</td>\n",
       "      <td>NaN</td>\n",
       "      <td>NaN</td>\n",
       "      <td>NaN</td>\n",
       "    </tr>\n",
       "  </tbody>\n",
       "</table>\n",
       "</div>"
      ],
      "text/plain": [
       "                             order_id  num_items_in_order  \\\n",
       "113  0046e1d57f4c07c8c92ab26be8c3dfc0                   1   \n",
       "115  00482f2670787292280e0a8153d82467                   1   \n",
       "122  004f5d8f238e8908e6864b874eda3391                   1   \n",
       "128  0057199db02d1a5ef41bacbf41f8f63b                   1   \n",
       "154  006cb7cafc99b29548d4f412c7f9f493                   1   \n",
       "\n",
       "                         product_id_l  total_item_price  total_shipping_price  \\\n",
       "113  ff6caf9340512b8bf6d2a2a6df032cfa              7.79                  7.78   \n",
       "115  a9c404971d1a5b1cbc2e4070e02731fd              7.60                 10.96   \n",
       "122  5a848e4ab52fd5445cdc07aab1c40e48            122.99                 15.61   \n",
       "128  41eee23c25f7a574dfaf8d5c151dbb12             20.30                 16.79   \n",
       "154  e10758160da97891c2fdcbc35f0f031d             56.00                 14.14   \n",
       "\n",
       "     total_order_value product_id_r  number_of_photos category  \n",
       "113              15.57          NaN               NaN      NaN  \n",
       "115              18.56          NaN               NaN      NaN  \n",
       "122             138.60          NaN               NaN      NaN  \n",
       "128              37.09          NaN               NaN      NaN  \n",
       "154              70.14          NaN               NaN      NaN  "
      ]
     },
     "execution_count": 2239,
     "metadata": {},
     "output_type": "execute_result"
    }
   ],
   "source": [
    "query_nullproductcategory = master[master.product_id_r.isnull()]\n",
    "print(\"Count of unmatched records: {}\".format(query_nullproductcategory.shape[0]))\n",
    "print(\"\\nExample of first 5 records\")\n",
    "query_nullproductcategory.head()"
   ]
  },
  {
   "cell_type": "code",
   "execution_count": 2240,
   "metadata": {},
   "outputs": [
    {
     "name": "stdout",
     "output_type": "stream",
     "text": [
      "Top 10 products amongst the 623 products that have missing details\n"
     ]
    },
    {
     "data": {
      "text/plain": [
       "5a848e4ab52fd5445cdc07aab1c40e48    194\n",
       "b1d207586fca400a2370d50a9ba1da98     43\n",
       "76d1a1a9d21ab677a61c3ae34b1b352f     32\n",
       "ad88641611c35ebd59ecda07a9f17099     28\n",
       "3b60d513e90300a4e9833e5cda1f1d61     28\n",
       "4914f8796af2ecd359fd8f44b9b92339     23\n",
       "0502d1a36be75bd36b452f31c6ed264a     21\n",
       "e0f33a3329af6716a0bb47fd7a664439     20\n",
       "b36f3c918c91478c4559160022d3f14e     17\n",
       "4e0d588f8e002f2bad9cbe0b8f66f6f6     15\n",
       "Name: product_id_l, dtype: int64"
      ]
     },
     "execution_count": 2240,
     "metadata": {},
     "output_type": "execute_result"
    }
   ],
   "source": [
    "query_missing_product_unique = master[master.product_id_r.isnull()].product_id_l.value_counts()\n",
    "print(\"Top 10 products amongst the {} products that have missing details\".format(len(query_missing_product_unique)))\n",
    "query_missing_product_unique.head(10)"
   ]
  },
  {
   "cell_type": "markdown",
   "metadata": {},
   "source": [
    "**Merge Step 2** - Include further order details to `MASTER` and `master_nonull` by merging with `ORDER` dataset"
   ]
  },
  {
   "cell_type": "markdown",
   "metadata": {},
   "source": [
    "We start by verifying that all order records are unique in the `ORDER` dataset"
   ]
  },
  {
   "cell_type": "code",
   "execution_count": 2241,
   "metadata": {},
   "outputs": [
    {
     "name": "stdout",
     "output_type": "stream",
     "text": [
      "duplicated records: 0, repeated order_ids: 0, repeated customer_order_ids: 0\n"
     ]
    }
   ],
   "source": [
    "combined_dup = order.duplicated(subset = ['order_id', 'customer_order_id'], keep = False)\n",
    "order_dup = order.duplicated('order_id', keep = False)\n",
    "customer_dup = order.duplicated('customer_order_id', keep = False)\n",
    "print(\"duplicated records: {}, repeated order_ids: {}, repeated customer_order_ids: {}\"\n",
    "      .format(order[combined_dup].shape[0],order[order_dup].shape[0],order[customer_dup].shape[0]))"
   ]
  },
  {
   "cell_type": "markdown",
   "metadata": {},
   "source": [
    "After the merge both `MASTER` and `master_nonull` have order details as well"
   ]
  },
  {
   "cell_type": "code",
   "execution_count": 2242,
   "metadata": {},
   "outputs": [],
   "source": [
    "master = master.merge(order, on = 'order_id')\n",
    "master_nonull = master_nonull.merge(order, on = 'order_id')"
   ]
  },
  {
   "cell_type": "markdown",
   "metadata": {},
   "source": [
    "VALIDATION"
   ]
  },
  {
   "cell_type": "code",
   "execution_count": 2243,
   "metadata": {},
   "outputs": [
    {
     "name": "stdout",
     "output_type": "stream",
     "text": [
      "For order dataset with null product category, we expect 102425 records and we got 102425 records\n",
      "For order dataset with no nulls we expect 100943 records and we got 100943 records\n"
     ]
    }
   ],
   "source": [
    "# Verify that inner merge resulted in no missing records\n",
    "print(\"For order dataset with null product category, we expect 102425 records and we got {} records\". format(master.shape[0]))\n",
    "print(\"For order dataset with no nulls we expect 100943 records and we got {} records\".format(master_nonull.shape[0]))"
   ]
  },
  {
   "cell_type": "markdown",
   "metadata": {},
   "source": [
    "**Merge Step 3** - Include further details in the form of customer features by merging with `CUSTOMER` dataset\n",
    "* OUTPUT 1 - Dataset `MASTER` with customer details\n",
    "* OUTPUT 2 - Dataset `MASTER_nonull` with customer details"
   ]
  },
  {
   "cell_type": "markdown",
   "metadata": {},
   "source": [
    "The uniqueness of the ID fields in `CUSTOMER` dataset reveal that `customer_order_id` that we are going to join/merge with, is unique"
   ]
  },
  {
   "cell_type": "code",
   "execution_count": 2244,
   "metadata": {},
   "outputs": [
    {
     "name": "stdout",
     "output_type": "stream",
     "text": [
      "duplicated records: 0, repeated customer_order_ids: 0, repeated customer_ids: 6342\n"
     ]
    }
   ],
   "source": [
    "combined_dup = customer.duplicated(subset = ['customer_order_id', 'customer_unique_id'], keep = False)\n",
    "order_dup = customer.duplicated('customer_order_id', keep = False)\n",
    "customer_dup = customer.duplicated('customer_unique_id', keep = False)\n",
    "print(\"duplicated records: {}, repeated customer_order_ids: {}, repeated customer_ids: {}\"\n",
    "      .format(customer[combined_dup].shape[0],customer[order_dup].shape[0],customer[customer_dup].shape[0]))"
   ]
  },
  {
   "cell_type": "markdown",
   "metadata": {},
   "source": [
    "Looking at the customer dataset further we see that out of the 99441 unique records, there are 6342 unique customers"
   ]
  },
  {
   "cell_type": "code",
   "execution_count": 2245,
   "metadata": {},
   "outputs": [
    {
     "name": "stdout",
     "output_type": "stream",
     "text": [
      "The total of 99441 order records, were ordered by 6342 unique customers\n",
      "\n",
      "Out of which these top 10 most common occurances of customers\n"
     ]
    },
    {
     "data": {
      "text/plain": [
       "8d50f5eadf50201ccdcedfb9e2ac8455    17\n",
       "3e43e6105506432c953e165fb2acf44c     9\n",
       "6469f99c1f9dfae7733b25662e7f1782     7\n",
       "1b6c7548a2a1f9037c1fd3ddfed95f33     7\n",
       "ca77025e7201e3b30c44b472ff346268     7\n",
       "47c1a3033b8b77b3ab6e109eb4d5fdf3     6\n",
       "63cfc61cee11cbe306bff5857d00bfe4     6\n",
       "12f5d6e1cbf93dafd9dcc19095df0b3d     6\n",
       "de34b16117594161a6a89c50b289d35a     6\n",
       "dc813062e0fc23409cd255f7f53c7074     6\n",
       "Name: customer_unique_id, dtype: int64"
      ]
     },
     "execution_count": 2245,
     "metadata": {},
     "output_type": "execute_result"
    }
   ],
   "source": [
    "# Number of unique customers\n",
    "## Note: unique customer count is taken using the variables created in above code\n",
    "print(\"The total of {} order records, were ordered by {} unique customers\".\\\n",
    "      format(customer.shape[0], customer[customer_dup].shape[0]))\n",
    "\n",
    "print(\"\\nOut of which these top 10 most common occurances of customers\")\n",
    "customer.customer_unique_id.value_counts().head(10)"
   ]
  },
  {
   "cell_type": "markdown",
   "metadata": {},
   "source": [
    "MERGE AND VALIDATION"
   ]
  },
  {
   "cell_type": "markdown",
   "metadata": {},
   "source": [
    "In order to get a deeper understanding of these customers we will need to merge this data with the previous merges that combined order and product data"
   ]
  },
  {
   "cell_type": "code",
   "execution_count": 2246,
   "metadata": {},
   "outputs": [
    {
     "name": "stdout",
     "output_type": "stream",
     "text": [
      "MERGE - Augment 'master_nonull' dataset with customer information\n",
      "\n",
      "Before merge `master_nonull has 100943 records and 14 fields\n",
      "\n",
      "After merge 'master_nonull' dataset augmented with customer info 100943 records and 16 fields\n"
     ]
    }
   ],
   "source": [
    "# We start with a simpler inner join, where the resulting dataset has records with no null values\n",
    "print(\"MERGE - Augment 'master_nonull' dataset with customer information\")\n",
    "print(\"\\nBefore merge `master_nonull has {} records and {} fields\".format(master_nonull.shape[0], master_nonull.shape[1]))\n",
    "# Perform merge\n",
    "master_nonull = master_nonull.merge(customer, on = 'customer_order_id')\n",
    "print(\"\\nAfter merge 'master_nonull' dataset augmented with customer info {} records and {} fields\".format(master_nonull.shape[0], master_nonull.shape[1]))"
   ]
  },
  {
   "cell_type": "code",
   "execution_count": 2247,
   "metadata": {},
   "outputs": [
    {
     "name": "stdout",
     "output_type": "stream",
     "text": [
      "MERGE - Augment 'master' dataset with customer information\n",
      "\n",
      "Before merge 'master' has 102425 records and 15 fields\n",
      "\n",
      "After merge 'master' dataset augmented with customer info 102425 records and 17 fields\n"
     ]
    }
   ],
   "source": [
    "# We also create a master dataset that consists of all records including the ones that are missing product features\n",
    "print(\"MERGE - Augment 'master' dataset with customer information\")\n",
    "print(\"\\nBefore merge 'master' has {} records and {} fields\".format(master.shape[0], master.shape[1]))\n",
    "# Perform merge\n",
    "master = master.merge(customer, on = 'customer_order_id')\n",
    "print(\"\\nAfter merge 'master' dataset augmented with customer info {} records and {} fields\".format(master.shape[0], master.shape[1]))"
   ]
  },
  {
   "cell_type": "markdown",
   "metadata": {},
   "source": [
    "**Subset Augmentation**: Look at the final combined dataset and identify opportunities to create new datasets\n",
    "* `CUSTOMER_RETENTION`"
   ]
  },
  {
   "cell_type": "markdown",
   "metadata": {},
   "source": [
    "The `MASTER` dataset so far consists of repeated occurances of products purchased in the same `customer_order_id`"
   ]
  },
  {
   "cell_type": "code",
   "execution_count": 2248,
   "metadata": {},
   "outputs": [
    {
     "data": {
      "text/plain": [
       "customer_unique_id                customer_order_id                 purchase_date\n",
       "c8ed31310fc440a3f8031b177f9842c3  0d861a5e4dd6a9079d89e1330848f0ab  2018-08-12       8\n",
       "bf869f6a89c8ba217f47e22359f884f2  1205480caca6c37f55954da838933b8a  2018-08-16       7\n",
       "595e38fad1949e25468ad1c7c06924d0  a67a246af6ba598a14cc86df3c0354ee  2018-05-12       7\n",
       "33de26d1fafbfd4945eb586f7136efe6  30bb84b541c96af98ba7d90b9ebf35d0  2017-11-21       7\n",
       "be160ff1d833563ea876b3662de0a653  6c44a903274653cddb1df3bcb05ac71f  2018-07-08       6\n",
       "45a529e4af8f502a189094332e8ed24e  8c4bcd3c3737198f62421c18e0348554  2017-01-15       6\n",
       "8dc697d03f771cecc2534534a73eaaf9  e898b5ef24833b9cb9e2d4f00b937595  2018-08-24       6\n",
       "fe86d9409d83a3c561ce16e64d2d55e6  223f5e3208f2fa202a8ff706a4d9b206  2017-10-17       6\n",
       "83c6462cf9b51c26d6102ac0c48a1100  c9b6ccc9f42e3ac60bb09a0f53a09973  2018-03-25       6\n",
       "d97b3cfb22b0d6b25ac9ed4e9c2d481b  be1c4e52bb71e0c54b11a26b8e8d59f2  2017-10-17       6\n",
       "Name: purchase_date, dtype: int64"
      ]
     },
     "execution_count": 2248,
     "metadata": {},
     "output_type": "execute_result"
    }
   ],
   "source": [
    "master.groupby(['customer_unique_id', 'customer_order_id', 'purchase_date'])['purchase_date']\\\n",
    ".count().sort_values(ascending = False).head(10)"
   ]
  },
  {
   "cell_type": "markdown",
   "metadata": {},
   "source": [
    "In order to effectivley analyze retention, customer records per order id should be represented on a single line. As we can see for the individual records for a multiply occuring customer id, the records for a particular `customer_order_id`, share the same `order_status`, `purchase_date`, and delivery and approval times"
   ]
  },
  {
   "cell_type": "code",
   "execution_count": 2249,
   "metadata": {},
   "outputs": [
    {
     "data": {
      "text/html": [
       "<div>\n",
       "<style scoped>\n",
       "    .dataframe tbody tr th:only-of-type {\n",
       "        vertical-align: middle;\n",
       "    }\n",
       "\n",
       "    .dataframe tbody tr th {\n",
       "        vertical-align: top;\n",
       "    }\n",
       "\n",
       "    .dataframe thead th {\n",
       "        text-align: right;\n",
       "    }\n",
       "</style>\n",
       "<table border=\"1\" class=\"dataframe\">\n",
       "  <thead>\n",
       "    <tr style=\"text-align: right;\">\n",
       "      <th></th>\n",
       "      <th>order_id</th>\n",
       "      <th>num_items_in_order</th>\n",
       "      <th>product_id_l</th>\n",
       "      <th>total_item_price</th>\n",
       "      <th>total_shipping_price</th>\n",
       "      <th>total_order_value</th>\n",
       "      <th>product_id_r</th>\n",
       "      <th>number_of_photos</th>\n",
       "      <th>category</th>\n",
       "      <th>customer_order_id</th>\n",
       "      <th>order_status</th>\n",
       "      <th>tag</th>\n",
       "      <th>purchase_date</th>\n",
       "      <th>approval_in-hours</th>\n",
       "      <th>delivery_in-hours</th>\n",
       "      <th>customer_unique_id</th>\n",
       "      <th>zipcode</th>\n",
       "    </tr>\n",
       "  </thead>\n",
       "  <tbody>\n",
       "    <tr>\n",
       "      <th>47837</th>\n",
       "      <td>77df84f9195be22a4e9cb72ca9e8b4c2</td>\n",
       "      <td>1</td>\n",
       "      <td>49650e49c3af7ccc896f634d039cd921</td>\n",
       "      <td>45.00</td>\n",
       "      <td>3.28</td>\n",
       "      <td>48.28</td>\n",
       "      <td>49650e49c3af7ccc896f634d039cd921</td>\n",
       "      <td>5.0</td>\n",
       "      <td>furniture</td>\n",
       "      <td>1205480caca6c37f55954da838933b8a</td>\n",
       "      <td>delivered</td>\n",
       "      <td>NaN</td>\n",
       "      <td>2018-08-16</td>\n",
       "      <td>0.235278</td>\n",
       "      <td>32.856944</td>\n",
       "      <td>bf869f6a89c8ba217f47e22359f884f2</td>\n",
       "      <td>11075</td>\n",
       "    </tr>\n",
       "    <tr>\n",
       "      <th>47838</th>\n",
       "      <td>77df84f9195be22a4e9cb72ca9e8b4c2</td>\n",
       "      <td>2</td>\n",
       "      <td>daef10c972d7295283e377d5fd9985f1</td>\n",
       "      <td>37.80</td>\n",
       "      <td>6.56</td>\n",
       "      <td>44.36</td>\n",
       "      <td>daef10c972d7295283e377d5fd9985f1</td>\n",
       "      <td>1.0</td>\n",
       "      <td>furniture</td>\n",
       "      <td>1205480caca6c37f55954da838933b8a</td>\n",
       "      <td>delivered</td>\n",
       "      <td>NaN</td>\n",
       "      <td>2018-08-16</td>\n",
       "      <td>0.235278</td>\n",
       "      <td>32.856944</td>\n",
       "      <td>bf869f6a89c8ba217f47e22359f884f2</td>\n",
       "      <td>11075</td>\n",
       "    </tr>\n",
       "    <tr>\n",
       "      <th>47839</th>\n",
       "      <td>77df84f9195be22a4e9cb72ca9e8b4c2</td>\n",
       "      <td>3</td>\n",
       "      <td>9474f3c0da0c4fd0bdf88cf6ac1b5d04</td>\n",
       "      <td>117.00</td>\n",
       "      <td>9.84</td>\n",
       "      <td>126.84</td>\n",
       "      <td>9474f3c0da0c4fd0bdf88cf6ac1b5d04</td>\n",
       "      <td>3.0</td>\n",
       "      <td>furniture</td>\n",
       "      <td>1205480caca6c37f55954da838933b8a</td>\n",
       "      <td>delivered</td>\n",
       "      <td>NaN</td>\n",
       "      <td>2018-08-16</td>\n",
       "      <td>0.235278</td>\n",
       "      <td>32.856944</td>\n",
       "      <td>bf869f6a89c8ba217f47e22359f884f2</td>\n",
       "      <td>11075</td>\n",
       "    </tr>\n",
       "    <tr>\n",
       "      <th>47840</th>\n",
       "      <td>77df84f9195be22a4e9cb72ca9e8b4c2</td>\n",
       "      <td>4</td>\n",
       "      <td>0e35a413d832e63c5d46101b7c88de0f</td>\n",
       "      <td>99.96</td>\n",
       "      <td>13.12</td>\n",
       "      <td>113.08</td>\n",
       "      <td>0e35a413d832e63c5d46101b7c88de0f</td>\n",
       "      <td>1.0</td>\n",
       "      <td>furniture</td>\n",
       "      <td>1205480caca6c37f55954da838933b8a</td>\n",
       "      <td>delivered</td>\n",
       "      <td>NaN</td>\n",
       "      <td>2018-08-16</td>\n",
       "      <td>0.235278</td>\n",
       "      <td>32.856944</td>\n",
       "      <td>bf869f6a89c8ba217f47e22359f884f2</td>\n",
       "      <td>11075</td>\n",
       "    </tr>\n",
       "    <tr>\n",
       "      <th>47841</th>\n",
       "      <td>77df84f9195be22a4e9cb72ca9e8b4c2</td>\n",
       "      <td>5</td>\n",
       "      <td>5d1d8ec5b31c5c359f10c4b23b819170</td>\n",
       "      <td>104.50</td>\n",
       "      <td>16.50</td>\n",
       "      <td>121.00</td>\n",
       "      <td>5d1d8ec5b31c5c359f10c4b23b819170</td>\n",
       "      <td>1.0</td>\n",
       "      <td>furniture</td>\n",
       "      <td>1205480caca6c37f55954da838933b8a</td>\n",
       "      <td>delivered</td>\n",
       "      <td>NaN</td>\n",
       "      <td>2018-08-16</td>\n",
       "      <td>0.235278</td>\n",
       "      <td>32.856944</td>\n",
       "      <td>bf869f6a89c8ba217f47e22359f884f2</td>\n",
       "      <td>11075</td>\n",
       "    </tr>\n",
       "    <tr>\n",
       "      <th>47842</th>\n",
       "      <td>77df84f9195be22a4e9cb72ca9e8b4c2</td>\n",
       "      <td>6</td>\n",
       "      <td>154696c4f8e96ed48f0c191eb09c0683</td>\n",
       "      <td>113.40</td>\n",
       "      <td>19.68</td>\n",
       "      <td>133.08</td>\n",
       "      <td>154696c4f8e96ed48f0c191eb09c0683</td>\n",
       "      <td>1.0</td>\n",
       "      <td>furniture</td>\n",
       "      <td>1205480caca6c37f55954da838933b8a</td>\n",
       "      <td>delivered</td>\n",
       "      <td>NaN</td>\n",
       "      <td>2018-08-16</td>\n",
       "      <td>0.235278</td>\n",
       "      <td>32.856944</td>\n",
       "      <td>bf869f6a89c8ba217f47e22359f884f2</td>\n",
       "      <td>11075</td>\n",
       "    </tr>\n",
       "    <tr>\n",
       "      <th>47843</th>\n",
       "      <td>77df84f9195be22a4e9cb72ca9e8b4c2</td>\n",
       "      <td>7</td>\n",
       "      <td>8ccaa3f8b171b199e37294ece30815a3</td>\n",
       "      <td>132.30</td>\n",
       "      <td>22.96</td>\n",
       "      <td>155.26</td>\n",
       "      <td>8ccaa3f8b171b199e37294ece30815a3</td>\n",
       "      <td>1.0</td>\n",
       "      <td>furniture</td>\n",
       "      <td>1205480caca6c37f55954da838933b8a</td>\n",
       "      <td>delivered</td>\n",
       "      <td>NaN</td>\n",
       "      <td>2018-08-16</td>\n",
       "      <td>0.235278</td>\n",
       "      <td>32.856944</td>\n",
       "      <td>bf869f6a89c8ba217f47e22359f884f2</td>\n",
       "      <td>11075</td>\n",
       "    </tr>\n",
       "  </tbody>\n",
       "</table>\n",
       "</div>"
      ],
      "text/plain": [
       "                               order_id  num_items_in_order  \\\n",
       "47837  77df84f9195be22a4e9cb72ca9e8b4c2                   1   \n",
       "47838  77df84f9195be22a4e9cb72ca9e8b4c2                   2   \n",
       "47839  77df84f9195be22a4e9cb72ca9e8b4c2                   3   \n",
       "47840  77df84f9195be22a4e9cb72ca9e8b4c2                   4   \n",
       "47841  77df84f9195be22a4e9cb72ca9e8b4c2                   5   \n",
       "47842  77df84f9195be22a4e9cb72ca9e8b4c2                   6   \n",
       "47843  77df84f9195be22a4e9cb72ca9e8b4c2                   7   \n",
       "\n",
       "                           product_id_l  total_item_price  \\\n",
       "47837  49650e49c3af7ccc896f634d039cd921             45.00   \n",
       "47838  daef10c972d7295283e377d5fd9985f1             37.80   \n",
       "47839  9474f3c0da0c4fd0bdf88cf6ac1b5d04            117.00   \n",
       "47840  0e35a413d832e63c5d46101b7c88de0f             99.96   \n",
       "47841  5d1d8ec5b31c5c359f10c4b23b819170            104.50   \n",
       "47842  154696c4f8e96ed48f0c191eb09c0683            113.40   \n",
       "47843  8ccaa3f8b171b199e37294ece30815a3            132.30   \n",
       "\n",
       "       total_shipping_price  total_order_value  \\\n",
       "47837                  3.28              48.28   \n",
       "47838                  6.56              44.36   \n",
       "47839                  9.84             126.84   \n",
       "47840                 13.12             113.08   \n",
       "47841                 16.50             121.00   \n",
       "47842                 19.68             133.08   \n",
       "47843                 22.96             155.26   \n",
       "\n",
       "                           product_id_r  number_of_photos   category  \\\n",
       "47837  49650e49c3af7ccc896f634d039cd921               5.0  furniture   \n",
       "47838  daef10c972d7295283e377d5fd9985f1               1.0  furniture   \n",
       "47839  9474f3c0da0c4fd0bdf88cf6ac1b5d04               3.0  furniture   \n",
       "47840  0e35a413d832e63c5d46101b7c88de0f               1.0  furniture   \n",
       "47841  5d1d8ec5b31c5c359f10c4b23b819170               1.0  furniture   \n",
       "47842  154696c4f8e96ed48f0c191eb09c0683               1.0  furniture   \n",
       "47843  8ccaa3f8b171b199e37294ece30815a3               1.0  furniture   \n",
       "\n",
       "                      customer_order_id order_status  tag purchase_date  \\\n",
       "47837  1205480caca6c37f55954da838933b8a    delivered  NaN    2018-08-16   \n",
       "47838  1205480caca6c37f55954da838933b8a    delivered  NaN    2018-08-16   \n",
       "47839  1205480caca6c37f55954da838933b8a    delivered  NaN    2018-08-16   \n",
       "47840  1205480caca6c37f55954da838933b8a    delivered  NaN    2018-08-16   \n",
       "47841  1205480caca6c37f55954da838933b8a    delivered  NaN    2018-08-16   \n",
       "47842  1205480caca6c37f55954da838933b8a    delivered  NaN    2018-08-16   \n",
       "47843  1205480caca6c37f55954da838933b8a    delivered  NaN    2018-08-16   \n",
       "\n",
       "       approval_in-hours  delivery_in-hours                customer_unique_id  \\\n",
       "47837           0.235278          32.856944  bf869f6a89c8ba217f47e22359f884f2   \n",
       "47838           0.235278          32.856944  bf869f6a89c8ba217f47e22359f884f2   \n",
       "47839           0.235278          32.856944  bf869f6a89c8ba217f47e22359f884f2   \n",
       "47840           0.235278          32.856944  bf869f6a89c8ba217f47e22359f884f2   \n",
       "47841           0.235278          32.856944  bf869f6a89c8ba217f47e22359f884f2   \n",
       "47842           0.235278          32.856944  bf869f6a89c8ba217f47e22359f884f2   \n",
       "47843           0.235278          32.856944  bf869f6a89c8ba217f47e22359f884f2   \n",
       "\n",
       "      zipcode  \n",
       "47837   11075  \n",
       "47838   11075  \n",
       "47839   11075  \n",
       "47840   11075  \n",
       "47841   11075  \n",
       "47842   11075  \n",
       "47843   11075  "
      ]
     },
     "execution_count": 2249,
     "metadata": {},
     "output_type": "execute_result"
    }
   ],
   "source": [
    "master[master.customer_unique_id == 'bf869f6a89c8ba217f47e22359f884f2']"
   ]
  },
  {
   "cell_type": "markdown",
   "metadata": {},
   "source": [
    "This means that on grouping the only way to keep product features is  by `concatenating` DISTINCT `categories` and `number_of_photos` into a single field. We are maintaining another dataset `MASTER_nonull` that has the product features and no null values, so we can safely remove those features when combining customers into a single line record"
   ]
  },
  {
   "cell_type": "markdown",
   "metadata": {},
   "source": [
    "Lets create a copy called `CUSTOMER_RETENTION` from master"
   ]
  },
  {
   "cell_type": "code",
   "execution_count": 2250,
   "metadata": {},
   "outputs": [],
   "source": [
    "# master_raw will track all data\n",
    "customer_retention = master.copy()"
   ]
  },
  {
   "cell_type": "markdown",
   "metadata": {},
   "source": [
    "Also need to change `tag` values from null so that it can be included in the dataset created using `groupby`"
   ]
  },
  {
   "cell_type": "code",
   "execution_count": 2251,
   "metadata": {},
   "outputs": [],
   "source": [
    "customer_retention.loc[customer_retention.tag.isnull(), 'tag'] = 'no anomolies'"
   ]
  },
  {
   "cell_type": "code",
   "execution_count": 2252,
   "metadata": {},
   "outputs": [],
   "source": [
    "# for the new datast, keep fields that are consistent for customer_order_id\n",
    "common_columns = ['customer_unique_id', 'customer_order_id', 'purchase_date', 'order_status', \\\n",
    "                'approval_in-hours', 'delivery_in-hours', 'tag']"
   ]
  },
  {
   "cell_type": "code",
   "execution_count": 2253,
   "metadata": {},
   "outputs": [],
   "source": [
    "# Group by common fields and do a count and sum of total order value\n",
    "customer_retention = customer_retention.groupby(common_columns)\\\n",
    "                    .agg({'zipcode':'count', 'num_items_in_order':'sum', 'total_item_price':'sum', \\\n",
    "                          'total_shipping_price':'sum', 'total_order_value':'sum'})\\\n",
    "                    .reset_index()\\\n",
    "                    .rename(columns={'zipcode':'number_item_types'})"
   ]
  },
  {
   "cell_type": "markdown",
   "metadata": {},
   "source": [
    "Note that we have created a new feature called `number_item_types` that represent the different records in the master dataset. Here we are still keeping track of it as a single digit"
   ]
  },
  {
   "cell_type": "code",
   "execution_count": 2254,
   "metadata": {},
   "outputs": [
    {
     "data": {
      "text/html": [
       "<div>\n",
       "<style scoped>\n",
       "    .dataframe tbody tr th:only-of-type {\n",
       "        vertical-align: middle;\n",
       "    }\n",
       "\n",
       "    .dataframe tbody tr th {\n",
       "        vertical-align: top;\n",
       "    }\n",
       "\n",
       "    .dataframe thead th {\n",
       "        text-align: right;\n",
       "    }\n",
       "</style>\n",
       "<table border=\"1\" class=\"dataframe\">\n",
       "  <thead>\n",
       "    <tr style=\"text-align: right;\">\n",
       "      <th></th>\n",
       "      <th>customer_unique_id</th>\n",
       "      <th>customer_order_id</th>\n",
       "      <th>purchase_date</th>\n",
       "      <th>order_status</th>\n",
       "      <th>approval_in-hours</th>\n",
       "      <th>delivery_in-hours</th>\n",
       "      <th>tag</th>\n",
       "      <th>number_item_types</th>\n",
       "      <th>num_items_in_order</th>\n",
       "      <th>total_item_price</th>\n",
       "      <th>total_shipping_price</th>\n",
       "      <th>total_order_value</th>\n",
       "    </tr>\n",
       "  </thead>\n",
       "  <tbody>\n",
       "    <tr>\n",
       "      <th>72309</th>\n",
       "      <td>bf869f6a89c8ba217f47e22359f884f2</td>\n",
       "      <td>1205480caca6c37f55954da838933b8a</td>\n",
       "      <td>2018-08-16</td>\n",
       "      <td>delivered</td>\n",
       "      <td>0.235278</td>\n",
       "      <td>32.856944</td>\n",
       "      <td>no anomolies</td>\n",
       "      <td>7</td>\n",
       "      <td>28</td>\n",
       "      <td>649.96</td>\n",
       "      <td>91.94</td>\n",
       "      <td>741.9</td>\n",
       "    </tr>\n",
       "  </tbody>\n",
       "</table>\n",
       "</div>"
      ],
      "text/plain": [
       "                     customer_unique_id                 customer_order_id  \\\n",
       "72309  bf869f6a89c8ba217f47e22359f884f2  1205480caca6c37f55954da838933b8a   \n",
       "\n",
       "      purchase_date order_status  approval_in-hours  delivery_in-hours  \\\n",
       "72309    2018-08-16    delivered           0.235278          32.856944   \n",
       "\n",
       "                tag  number_item_types  num_items_in_order  total_item_price  \\\n",
       "72309  no anomolies                  7                  28            649.96   \n",
       "\n",
       "       total_shipping_price  total_order_value  \n",
       "72309                 91.94              741.9  "
      ]
     },
     "execution_count": 2254,
     "metadata": {},
     "output_type": "execute_result"
    }
   ],
   "source": [
    "customer_retention[customer_retention.customer_unique_id == 'bf869f6a89c8ba217f47e22359f884f2']"
   ]
  },
  {
   "cell_type": "markdown",
   "metadata": {},
   "source": [
    "The resulting `customer retetion` dataset is still not good enough to accurately identify returning customers, as instances exist where different order IDs for the same customer occur on the same day (see below)"
   ]
  },
  {
   "cell_type": "code",
   "execution_count": 2255,
   "metadata": {},
   "outputs": [
    {
     "data": {
      "text/html": [
       "<div>\n",
       "<style scoped>\n",
       "    .dataframe tbody tr th:only-of-type {\n",
       "        vertical-align: middle;\n",
       "    }\n",
       "\n",
       "    .dataframe tbody tr th {\n",
       "        vertical-align: top;\n",
       "    }\n",
       "\n",
       "    .dataframe thead th {\n",
       "        text-align: right;\n",
       "    }\n",
       "</style>\n",
       "<table border=\"1\" class=\"dataframe\">\n",
       "  <thead>\n",
       "    <tr style=\"text-align: right;\">\n",
       "      <th></th>\n",
       "      <th>customer_unique_id</th>\n",
       "      <th>customer_order_id</th>\n",
       "      <th>purchase_date</th>\n",
       "      <th>order_status</th>\n",
       "      <th>approval_in-hours</th>\n",
       "      <th>delivery_in-hours</th>\n",
       "      <th>tag</th>\n",
       "      <th>number_item_types</th>\n",
       "      <th>num_items_in_order</th>\n",
       "      <th>total_item_price</th>\n",
       "      <th>total_shipping_price</th>\n",
       "      <th>total_order_value</th>\n",
       "    </tr>\n",
       "  </thead>\n",
       "  <tbody>\n",
       "    <tr>\n",
       "      <th>7188</th>\n",
       "      <td>12f5d6e1cbf93dafd9dcc19095df0b3d</td>\n",
       "      <td>27129ce1ebca4ffa23a049c51cc8ec95</td>\n",
       "      <td>2017-01-05</td>\n",
       "      <td>delivered</td>\n",
       "      <td>36.175556</td>\n",
       "      <td>288.743333</td>\n",
       "      <td>no anomolies</td>\n",
       "      <td>1</td>\n",
       "      <td>1</td>\n",
       "      <td>6.9</td>\n",
       "      <td>8.72</td>\n",
       "      <td>15.62</td>\n",
       "    </tr>\n",
       "    <tr>\n",
       "      <th>7189</th>\n",
       "      <td>12f5d6e1cbf93dafd9dcc19095df0b3d</td>\n",
       "      <td>588047d7101d88c333691e47659d7099</td>\n",
       "      <td>2017-01-05</td>\n",
       "      <td>delivered</td>\n",
       "      <td>37.339444</td>\n",
       "      <td>288.840556</td>\n",
       "      <td>no anomolies</td>\n",
       "      <td>1</td>\n",
       "      <td>1</td>\n",
       "      <td>10.9</td>\n",
       "      <td>8.72</td>\n",
       "      <td>19.62</td>\n",
       "    </tr>\n",
       "    <tr>\n",
       "      <th>7190</th>\n",
       "      <td>12f5d6e1cbf93dafd9dcc19095df0b3d</td>\n",
       "      <td>6152d0774bbbf74f7140541c0569dafa</td>\n",
       "      <td>2017-01-05</td>\n",
       "      <td>delivered</td>\n",
       "      <td>37.368611</td>\n",
       "      <td>266.180556</td>\n",
       "      <td>no anomolies</td>\n",
       "      <td>1</td>\n",
       "      <td>1</td>\n",
       "      <td>10.9</td>\n",
       "      <td>8.72</td>\n",
       "      <td>19.62</td>\n",
       "    </tr>\n",
       "    <tr>\n",
       "      <th>7191</th>\n",
       "      <td>12f5d6e1cbf93dafd9dcc19095df0b3d</td>\n",
       "      <td>a969b9f8d923bc7fd97b578f7c499194</td>\n",
       "      <td>2017-01-05</td>\n",
       "      <td>delivered</td>\n",
       "      <td>37.436944</td>\n",
       "      <td>290.495000</td>\n",
       "      <td>no anomolies</td>\n",
       "      <td>1</td>\n",
       "      <td>1</td>\n",
       "      <td>9.9</td>\n",
       "      <td>8.72</td>\n",
       "      <td>18.62</td>\n",
       "    </tr>\n",
       "    <tr>\n",
       "      <th>7192</th>\n",
       "      <td>12f5d6e1cbf93dafd9dcc19095df0b3d</td>\n",
       "      <td>c0352e94059e3e5a714c9ad0c8306a54</td>\n",
       "      <td>2017-01-05</td>\n",
       "      <td>delivered</td>\n",
       "      <td>36.744722</td>\n",
       "      <td>264.552500</td>\n",
       "      <td>no anomolies</td>\n",
       "      <td>1</td>\n",
       "      <td>1</td>\n",
       "      <td>9.9</td>\n",
       "      <td>8.72</td>\n",
       "      <td>18.62</td>\n",
       "    </tr>\n",
       "    <tr>\n",
       "      <th>7193</th>\n",
       "      <td>12f5d6e1cbf93dafd9dcc19095df0b3d</td>\n",
       "      <td>ed1793d2d1e4175d5846ce7ebb4a01f5</td>\n",
       "      <td>2017-01-05</td>\n",
       "      <td>delivered</td>\n",
       "      <td>36.321667</td>\n",
       "      <td>263.882778</td>\n",
       "      <td>no anomolies</td>\n",
       "      <td>1</td>\n",
       "      <td>1</td>\n",
       "      <td>9.9</td>\n",
       "      <td>8.72</td>\n",
       "      <td>18.62</td>\n",
       "    </tr>\n",
       "  </tbody>\n",
       "</table>\n",
       "</div>"
      ],
      "text/plain": [
       "                    customer_unique_id                 customer_order_id  \\\n",
       "7188  12f5d6e1cbf93dafd9dcc19095df0b3d  27129ce1ebca4ffa23a049c51cc8ec95   \n",
       "7189  12f5d6e1cbf93dafd9dcc19095df0b3d  588047d7101d88c333691e47659d7099   \n",
       "7190  12f5d6e1cbf93dafd9dcc19095df0b3d  6152d0774bbbf74f7140541c0569dafa   \n",
       "7191  12f5d6e1cbf93dafd9dcc19095df0b3d  a969b9f8d923bc7fd97b578f7c499194   \n",
       "7192  12f5d6e1cbf93dafd9dcc19095df0b3d  c0352e94059e3e5a714c9ad0c8306a54   \n",
       "7193  12f5d6e1cbf93dafd9dcc19095df0b3d  ed1793d2d1e4175d5846ce7ebb4a01f5   \n",
       "\n",
       "     purchase_date order_status  approval_in-hours  delivery_in-hours  \\\n",
       "7188    2017-01-05    delivered          36.175556         288.743333   \n",
       "7189    2017-01-05    delivered          37.339444         288.840556   \n",
       "7190    2017-01-05    delivered          37.368611         266.180556   \n",
       "7191    2017-01-05    delivered          37.436944         290.495000   \n",
       "7192    2017-01-05    delivered          36.744722         264.552500   \n",
       "7193    2017-01-05    delivered          36.321667         263.882778   \n",
       "\n",
       "               tag  number_item_types  num_items_in_order  total_item_price  \\\n",
       "7188  no anomolies                  1                   1               6.9   \n",
       "7189  no anomolies                  1                   1              10.9   \n",
       "7190  no anomolies                  1                   1              10.9   \n",
       "7191  no anomolies                  1                   1               9.9   \n",
       "7192  no anomolies                  1                   1               9.9   \n",
       "7193  no anomolies                  1                   1               9.9   \n",
       "\n",
       "      total_shipping_price  total_order_value  \n",
       "7188                  8.72              15.62  \n",
       "7189                  8.72              19.62  \n",
       "7190                  8.72              19.62  \n",
       "7191                  8.72              18.62  \n",
       "7192                  8.72              18.62  \n",
       "7193                  8.72              18.62  "
      ]
     },
     "execution_count": 2255,
     "metadata": {},
     "output_type": "execute_result"
    }
   ],
   "source": [
    "customer_retention[customer_retention.customer_unique_id == '12f5d6e1cbf93dafd9dcc19095df0b3d']"
   ]
  },
  {
   "cell_type": "markdown",
   "metadata": {},
   "source": [
    "One way to resolve this would be to group only by customer and purchase date and then TAG retention count to the customer ID and join that field to `CUSTOMER RETENTION`"
   ]
  },
  {
   "cell_type": "markdown",
   "metadata": {},
   "source": [
    "We resolve this by further grouping by the customer id and purchase date, while tracking the different customer order Id as a count"
   ]
  },
  {
   "cell_type": "code",
   "execution_count": 2256,
   "metadata": {},
   "outputs": [],
   "source": [
    "# start with another copy\n",
    "outer_group = customer_retention.copy()"
   ]
  },
  {
   "cell_type": "code",
   "execution_count": 2257,
   "metadata": {},
   "outputs": [],
   "source": [
    "# Then group by customer id and date\n",
    "outer_group = outer_group.groupby(['customer_unique_id','purchase_date'])\\\n",
    "                    .agg({'order_status':'count', 'total_order_value':'sum'})\\\n",
    "                    .reset_index()\\\n",
    "                    .rename(columns={'order_status':'number_order_types'})"
   ]
  },
  {
   "cell_type": "markdown",
   "metadata": {},
   "source": [
    "Repeat the same query to verify that customer orders on same date are now combined and tracked using `number_order_types`"
   ]
  },
  {
   "cell_type": "code",
   "execution_count": 2258,
   "metadata": {},
   "outputs": [
    {
     "data": {
      "text/html": [
       "<div>\n",
       "<style scoped>\n",
       "    .dataframe tbody tr th:only-of-type {\n",
       "        vertical-align: middle;\n",
       "    }\n",
       "\n",
       "    .dataframe tbody tr th {\n",
       "        vertical-align: top;\n",
       "    }\n",
       "\n",
       "    .dataframe thead th {\n",
       "        text-align: right;\n",
       "    }\n",
       "</style>\n",
       "<table border=\"1\" class=\"dataframe\">\n",
       "  <thead>\n",
       "    <tr style=\"text-align: right;\">\n",
       "      <th></th>\n",
       "      <th>customer_unique_id</th>\n",
       "      <th>purchase_date</th>\n",
       "      <th>number_order_types</th>\n",
       "      <th>total_order_value</th>\n",
       "    </tr>\n",
       "  </thead>\n",
       "  <tbody>\n",
       "    <tr>\n",
       "      <th>7122</th>\n",
       "      <td>12f5d6e1cbf93dafd9dcc19095df0b3d</td>\n",
       "      <td>2017-01-05</td>\n",
       "      <td>6</td>\n",
       "      <td>110.72</td>\n",
       "    </tr>\n",
       "  </tbody>\n",
       "</table>\n",
       "</div>"
      ],
      "text/plain": [
       "                    customer_unique_id purchase_date  number_order_types  \\\n",
       "7122  12f5d6e1cbf93dafd9dcc19095df0b3d    2017-01-05                   6   \n",
       "\n",
       "      total_order_value  \n",
       "7122             110.72  "
      ]
     },
     "execution_count": 2258,
     "metadata": {},
     "output_type": "execute_result"
    }
   ],
   "source": [
    "outer_group[outer_group.customer_unique_id == '12f5d6e1cbf93dafd9dcc19095df0b3d']"
   ]
  },
  {
   "cell_type": "markdown",
   "metadata": {},
   "source": [
    "We can now differentiate returning customers as customers who make purchases on different dates. "
   ]
  },
  {
   "cell_type": "code",
   "execution_count": 2259,
   "metadata": {},
   "outputs": [
    {
     "data": {
      "text/plain": [
       "customer_unique_id\n",
       "8d50f5eadf50201ccdcedfb9e2ac8455    15\n",
       "ca77025e7201e3b30c44b472ff346268     7\n",
       "1b6c7548a2a1f9037c1fd3ddfed95f33     7\n",
       "3e43e6105506432c953e165fb2acf44c     6\n",
       "dc813062e0fc23409cd255f7f53c7074     6\n",
       "63cfc61cee11cbe306bff5857d00bfe4     6\n",
       "f0e310a6839dce9de1638e0fe5ab282a     6\n",
       "6469f99c1f9dfae7733b25662e7f1782     6\n",
       "47c1a3033b8b77b3ab6e109eb4d5fdf3     5\n",
       "fe81bb32c243a86b2f86fbf053fe6140     5\n",
       "Name: purchase_date, dtype: int64"
      ]
     },
     "execution_count": 2259,
     "metadata": {},
     "output_type": "execute_result"
    }
   ],
   "source": [
    "outer_group.groupby('customer_unique_id')['purchase_date'].count().sort_values(ascending = False).head(10)"
   ]
  },
  {
   "cell_type": "markdown",
   "metadata": {},
   "source": [
    "We need to group again to create a TAG to identify number of retentions"
   ]
  },
  {
   "cell_type": "code",
   "execution_count": 2260,
   "metadata": {},
   "outputs": [],
   "source": [
    "inner_group = outer_group.groupby('customer_unique_id')['purchase_date'].count().reset_index()\\\n",
    "                                                    .rename(columns={'purchase_date':'retention_count'})"
   ]
  },
  {
   "cell_type": "markdown",
   "metadata": {},
   "source": [
    "`retention_count` higher than 1 identifies returning customers"
   ]
  },
  {
   "cell_type": "code",
   "execution_count": 2261,
   "metadata": {},
   "outputs": [
    {
     "data": {
      "text/html": [
       "<div>\n",
       "<style scoped>\n",
       "    .dataframe tbody tr th:only-of-type {\n",
       "        vertical-align: middle;\n",
       "    }\n",
       "\n",
       "    .dataframe tbody tr th {\n",
       "        vertical-align: top;\n",
       "    }\n",
       "\n",
       "    .dataframe thead th {\n",
       "        text-align: right;\n",
       "    }\n",
       "</style>\n",
       "<table border=\"1\" class=\"dataframe\">\n",
       "  <thead>\n",
       "    <tr style=\"text-align: right;\">\n",
       "      <th></th>\n",
       "      <th>customer_unique_id</th>\n",
       "      <th>retention_count</th>\n",
       "    </tr>\n",
       "  </thead>\n",
       "  <tbody>\n",
       "    <tr>\n",
       "      <th>51424</th>\n",
       "      <td>8d50f5eadf50201ccdcedfb9e2ac8455</td>\n",
       "      <td>15</td>\n",
       "    </tr>\n",
       "    <tr>\n",
       "      <th>73910</th>\n",
       "      <td>ca77025e7201e3b30c44b472ff346268</td>\n",
       "      <td>7</td>\n",
       "    </tr>\n",
       "    <tr>\n",
       "      <th>10058</th>\n",
       "      <td>1b6c7548a2a1f9037c1fd3ddfed95f33</td>\n",
       "      <td>7</td>\n",
       "    </tr>\n",
       "    <tr>\n",
       "      <th>87870</th>\n",
       "      <td>f0e310a6839dce9de1638e0fe5ab282a</td>\n",
       "      <td>6</td>\n",
       "    </tr>\n",
       "    <tr>\n",
       "      <th>80525</th>\n",
       "      <td>dc813062e0fc23409cd255f7f53c7074</td>\n",
       "      <td>6</td>\n",
       "    </tr>\n",
       "    <tr>\n",
       "      <th>36496</th>\n",
       "      <td>63cfc61cee11cbe306bff5857d00bfe4</td>\n",
       "      <td>6</td>\n",
       "    </tr>\n",
       "    <tr>\n",
       "      <th>36702</th>\n",
       "      <td>6469f99c1f9dfae7733b25662e7f1782</td>\n",
       "      <td>6</td>\n",
       "    </tr>\n",
       "    <tr>\n",
       "      <th>22775</th>\n",
       "      <td>3e43e6105506432c953e165fb2acf44c</td>\n",
       "      <td>6</td>\n",
       "    </tr>\n",
       "    <tr>\n",
       "      <th>81167</th>\n",
       "      <td>de34b16117594161a6a89c50b289d35a</td>\n",
       "      <td>5</td>\n",
       "    </tr>\n",
       "    <tr>\n",
       "      <th>34585</th>\n",
       "      <td>5e8f38a9a1c023f3db718edcf926a2db</td>\n",
       "      <td>5</td>\n",
       "    </tr>\n",
       "  </tbody>\n",
       "</table>\n",
       "</div>"
      ],
      "text/plain": [
       "                     customer_unique_id  retention_count\n",
       "51424  8d50f5eadf50201ccdcedfb9e2ac8455               15\n",
       "73910  ca77025e7201e3b30c44b472ff346268                7\n",
       "10058  1b6c7548a2a1f9037c1fd3ddfed95f33                7\n",
       "87870  f0e310a6839dce9de1638e0fe5ab282a                6\n",
       "80525  dc813062e0fc23409cd255f7f53c7074                6\n",
       "36496  63cfc61cee11cbe306bff5857d00bfe4                6\n",
       "36702  6469f99c1f9dfae7733b25662e7f1782                6\n",
       "22775  3e43e6105506432c953e165fb2acf44c                6\n",
       "81167  de34b16117594161a6a89c50b289d35a                5\n",
       "34585  5e8f38a9a1c023f3db718edcf926a2db                5"
      ]
     },
     "execution_count": 2261,
     "metadata": {},
     "output_type": "execute_result"
    }
   ],
   "source": [
    "inner_group.sort_values('retention_count', ascending = False).head(10)"
   ]
  },
  {
   "cell_type": "markdown",
   "metadata": {},
   "source": [
    "Also verify that there are no duplicated ids"
   ]
  },
  {
   "cell_type": "code",
   "execution_count": 2262,
   "metadata": {},
   "outputs": [
    {
     "data": {
      "text/html": [
       "<div>\n",
       "<style scoped>\n",
       "    .dataframe tbody tr th:only-of-type {\n",
       "        vertical-align: middle;\n",
       "    }\n",
       "\n",
       "    .dataframe tbody tr th {\n",
       "        vertical-align: top;\n",
       "    }\n",
       "\n",
       "    .dataframe thead th {\n",
       "        text-align: right;\n",
       "    }\n",
       "</style>\n",
       "<table border=\"1\" class=\"dataframe\">\n",
       "  <thead>\n",
       "    <tr style=\"text-align: right;\">\n",
       "      <th></th>\n",
       "      <th>customer_unique_id</th>\n",
       "      <th>retention_count</th>\n",
       "    </tr>\n",
       "  </thead>\n",
       "  <tbody>\n",
       "  </tbody>\n",
       "</table>\n",
       "</div>"
      ],
      "text/plain": [
       "Empty DataFrame\n",
       "Columns: [customer_unique_id, retention_count]\n",
       "Index: []"
      ]
     },
     "execution_count": 2262,
     "metadata": {},
     "output_type": "execute_result"
    }
   ],
   "source": [
    "inner_group[inner_group.customer_unique_id.duplicated() == True]"
   ]
  },
  {
   "cell_type": "markdown",
   "metadata": {},
   "source": [
    "With a retention count attached to each customer we can merge this data to the `CUSTOMEER_RETENTION` data"
   ]
  },
  {
   "cell_type": "code",
   "execution_count": 2263,
   "metadata": {},
   "outputs": [
    {
     "data": {
      "text/plain": [
       "(96462, 12)"
      ]
     },
     "execution_count": 2263,
     "metadata": {},
     "output_type": "execute_result"
    }
   ],
   "source": [
    "customer_retention.shape"
   ]
  },
  {
   "cell_type": "markdown",
   "metadata": {},
   "source": [
    "Perform `merge`"
   ]
  },
  {
   "cell_type": "code",
   "execution_count": 2264,
   "metadata": {},
   "outputs": [],
   "source": [
    "customer_retention = customer_retention.merge(inner_group, on='customer_unique_id')"
   ]
  },
  {
   "cell_type": "markdown",
   "metadata": {},
   "source": [
    "VALIDATION"
   ]
  },
  {
   "cell_type": "code",
   "execution_count": 2265,
   "metadata": {},
   "outputs": [
    {
     "data": {
      "text/plain": [
       "(96462, 13)"
      ]
     },
     "execution_count": 2265,
     "metadata": {},
     "output_type": "execute_result"
    }
   ],
   "source": [
    "# Verify we have same number of records\n",
    "customer_retention.shape"
   ]
  },
  {
   "cell_type": "markdown",
   "metadata": {},
   "source": [
    "And when we check customer_retention now, we see in the immediate example of different orders on the same day is not marked as an retention\n",
    "\n",
    "While orders placed in different dates are marked as retention"
   ]
  },
  {
   "cell_type": "code",
   "execution_count": 2266,
   "metadata": {},
   "outputs": [
    {
     "data": {
      "text/html": [
       "<div>\n",
       "<style scoped>\n",
       "    .dataframe tbody tr th:only-of-type {\n",
       "        vertical-align: middle;\n",
       "    }\n",
       "\n",
       "    .dataframe tbody tr th {\n",
       "        vertical-align: top;\n",
       "    }\n",
       "\n",
       "    .dataframe thead th {\n",
       "        text-align: right;\n",
       "    }\n",
       "</style>\n",
       "<table border=\"1\" class=\"dataframe\">\n",
       "  <thead>\n",
       "    <tr style=\"text-align: right;\">\n",
       "      <th></th>\n",
       "      <th>customer_unique_id</th>\n",
       "      <th>customer_order_id</th>\n",
       "      <th>purchase_date</th>\n",
       "      <th>order_status</th>\n",
       "      <th>approval_in-hours</th>\n",
       "      <th>delivery_in-hours</th>\n",
       "      <th>tag</th>\n",
       "      <th>number_item_types</th>\n",
       "      <th>num_items_in_order</th>\n",
       "      <th>total_item_price</th>\n",
       "      <th>total_shipping_price</th>\n",
       "      <th>total_order_value</th>\n",
       "      <th>retention_count</th>\n",
       "    </tr>\n",
       "  </thead>\n",
       "  <tbody>\n",
       "    <tr>\n",
       "      <th>7188</th>\n",
       "      <td>12f5d6e1cbf93dafd9dcc19095df0b3d</td>\n",
       "      <td>27129ce1ebca4ffa23a049c51cc8ec95</td>\n",
       "      <td>2017-01-05</td>\n",
       "      <td>delivered</td>\n",
       "      <td>36.175556</td>\n",
       "      <td>288.743333</td>\n",
       "      <td>no anomolies</td>\n",
       "      <td>1</td>\n",
       "      <td>1</td>\n",
       "      <td>6.9</td>\n",
       "      <td>8.72</td>\n",
       "      <td>15.62</td>\n",
       "      <td>1</td>\n",
       "    </tr>\n",
       "    <tr>\n",
       "      <th>7189</th>\n",
       "      <td>12f5d6e1cbf93dafd9dcc19095df0b3d</td>\n",
       "      <td>588047d7101d88c333691e47659d7099</td>\n",
       "      <td>2017-01-05</td>\n",
       "      <td>delivered</td>\n",
       "      <td>37.339444</td>\n",
       "      <td>288.840556</td>\n",
       "      <td>no anomolies</td>\n",
       "      <td>1</td>\n",
       "      <td>1</td>\n",
       "      <td>10.9</td>\n",
       "      <td>8.72</td>\n",
       "      <td>19.62</td>\n",
       "      <td>1</td>\n",
       "    </tr>\n",
       "    <tr>\n",
       "      <th>7190</th>\n",
       "      <td>12f5d6e1cbf93dafd9dcc19095df0b3d</td>\n",
       "      <td>6152d0774bbbf74f7140541c0569dafa</td>\n",
       "      <td>2017-01-05</td>\n",
       "      <td>delivered</td>\n",
       "      <td>37.368611</td>\n",
       "      <td>266.180556</td>\n",
       "      <td>no anomolies</td>\n",
       "      <td>1</td>\n",
       "      <td>1</td>\n",
       "      <td>10.9</td>\n",
       "      <td>8.72</td>\n",
       "      <td>19.62</td>\n",
       "      <td>1</td>\n",
       "    </tr>\n",
       "    <tr>\n",
       "      <th>7191</th>\n",
       "      <td>12f5d6e1cbf93dafd9dcc19095df0b3d</td>\n",
       "      <td>a969b9f8d923bc7fd97b578f7c499194</td>\n",
       "      <td>2017-01-05</td>\n",
       "      <td>delivered</td>\n",
       "      <td>37.436944</td>\n",
       "      <td>290.495000</td>\n",
       "      <td>no anomolies</td>\n",
       "      <td>1</td>\n",
       "      <td>1</td>\n",
       "      <td>9.9</td>\n",
       "      <td>8.72</td>\n",
       "      <td>18.62</td>\n",
       "      <td>1</td>\n",
       "    </tr>\n",
       "    <tr>\n",
       "      <th>7192</th>\n",
       "      <td>12f5d6e1cbf93dafd9dcc19095df0b3d</td>\n",
       "      <td>c0352e94059e3e5a714c9ad0c8306a54</td>\n",
       "      <td>2017-01-05</td>\n",
       "      <td>delivered</td>\n",
       "      <td>36.744722</td>\n",
       "      <td>264.552500</td>\n",
       "      <td>no anomolies</td>\n",
       "      <td>1</td>\n",
       "      <td>1</td>\n",
       "      <td>9.9</td>\n",
       "      <td>8.72</td>\n",
       "      <td>18.62</td>\n",
       "      <td>1</td>\n",
       "    </tr>\n",
       "    <tr>\n",
       "      <th>7193</th>\n",
       "      <td>12f5d6e1cbf93dafd9dcc19095df0b3d</td>\n",
       "      <td>ed1793d2d1e4175d5846ce7ebb4a01f5</td>\n",
       "      <td>2017-01-05</td>\n",
       "      <td>delivered</td>\n",
       "      <td>36.321667</td>\n",
       "      <td>263.882778</td>\n",
       "      <td>no anomolies</td>\n",
       "      <td>1</td>\n",
       "      <td>1</td>\n",
       "      <td>9.9</td>\n",
       "      <td>8.72</td>\n",
       "      <td>18.62</td>\n",
       "      <td>1</td>\n",
       "    </tr>\n",
       "  </tbody>\n",
       "</table>\n",
       "</div>"
      ],
      "text/plain": [
       "                    customer_unique_id                 customer_order_id  \\\n",
       "7188  12f5d6e1cbf93dafd9dcc19095df0b3d  27129ce1ebca4ffa23a049c51cc8ec95   \n",
       "7189  12f5d6e1cbf93dafd9dcc19095df0b3d  588047d7101d88c333691e47659d7099   \n",
       "7190  12f5d6e1cbf93dafd9dcc19095df0b3d  6152d0774bbbf74f7140541c0569dafa   \n",
       "7191  12f5d6e1cbf93dafd9dcc19095df0b3d  a969b9f8d923bc7fd97b578f7c499194   \n",
       "7192  12f5d6e1cbf93dafd9dcc19095df0b3d  c0352e94059e3e5a714c9ad0c8306a54   \n",
       "7193  12f5d6e1cbf93dafd9dcc19095df0b3d  ed1793d2d1e4175d5846ce7ebb4a01f5   \n",
       "\n",
       "     purchase_date order_status  approval_in-hours  delivery_in-hours  \\\n",
       "7188    2017-01-05    delivered          36.175556         288.743333   \n",
       "7189    2017-01-05    delivered          37.339444         288.840556   \n",
       "7190    2017-01-05    delivered          37.368611         266.180556   \n",
       "7191    2017-01-05    delivered          37.436944         290.495000   \n",
       "7192    2017-01-05    delivered          36.744722         264.552500   \n",
       "7193    2017-01-05    delivered          36.321667         263.882778   \n",
       "\n",
       "               tag  number_item_types  num_items_in_order  total_item_price  \\\n",
       "7188  no anomolies                  1                   1               6.9   \n",
       "7189  no anomolies                  1                   1              10.9   \n",
       "7190  no anomolies                  1                   1              10.9   \n",
       "7191  no anomolies                  1                   1               9.9   \n",
       "7192  no anomolies                  1                   1               9.9   \n",
       "7193  no anomolies                  1                   1               9.9   \n",
       "\n",
       "      total_shipping_price  total_order_value  retention_count  \n",
       "7188                  8.72              15.62                1  \n",
       "7189                  8.72              19.62                1  \n",
       "7190                  8.72              19.62                1  \n",
       "7191                  8.72              18.62                1  \n",
       "7192                  8.72              18.62                1  \n",
       "7193                  8.72              18.62                1  "
      ]
     },
     "execution_count": 2266,
     "metadata": {},
     "output_type": "execute_result"
    }
   ],
   "source": [
    "# Not marked as retention\n",
    "customer_retention[customer_retention.customer_unique_id == '12f5d6e1cbf93dafd9dcc19095df0b3d']"
   ]
  },
  {
   "cell_type": "code",
   "execution_count": 2267,
   "metadata": {},
   "outputs": [
    {
     "data": {
      "text/html": [
       "<div>\n",
       "<style scoped>\n",
       "    .dataframe tbody tr th:only-of-type {\n",
       "        vertical-align: middle;\n",
       "    }\n",
       "\n",
       "    .dataframe tbody tr th {\n",
       "        vertical-align: top;\n",
       "    }\n",
       "\n",
       "    .dataframe thead th {\n",
       "        text-align: right;\n",
       "    }\n",
       "</style>\n",
       "<table border=\"1\" class=\"dataframe\">\n",
       "  <thead>\n",
       "    <tr style=\"text-align: right;\">\n",
       "      <th></th>\n",
       "      <th>customer_unique_id</th>\n",
       "      <th>customer_order_id</th>\n",
       "      <th>purchase_date</th>\n",
       "      <th>order_status</th>\n",
       "      <th>approval_in-hours</th>\n",
       "      <th>delivery_in-hours</th>\n",
       "      <th>tag</th>\n",
       "      <th>number_item_types</th>\n",
       "      <th>num_items_in_order</th>\n",
       "      <th>total_item_price</th>\n",
       "      <th>total_shipping_price</th>\n",
       "      <th>total_order_value</th>\n",
       "      <th>retention_count</th>\n",
       "    </tr>\n",
       "  </thead>\n",
       "  <tbody>\n",
       "    <tr>\n",
       "      <th>76388</th>\n",
       "      <td>ca77025e7201e3b30c44b472ff346268</td>\n",
       "      <td>6ccedfba5919d72fcc8c51bfa982de62</td>\n",
       "      <td>2018-06-01</td>\n",
       "      <td>delivered</td>\n",
       "      <td>15.886667</td>\n",
       "      <td>274.937500</td>\n",
       "      <td>no anomolies</td>\n",
       "      <td>1</td>\n",
       "      <td>1</td>\n",
       "      <td>74.99</td>\n",
       "      <td>19.21</td>\n",
       "      <td>94.20</td>\n",
       "      <td>7</td>\n",
       "    </tr>\n",
       "    <tr>\n",
       "      <th>76389</th>\n",
       "      <td>ca77025e7201e3b30c44b472ff346268</td>\n",
       "      <td>71f39c371308d132d7633895477dd307</td>\n",
       "      <td>2018-04-26</td>\n",
       "      <td>delivered</td>\n",
       "      <td>0.177500</td>\n",
       "      <td>342.462500</td>\n",
       "      <td>no anomolies</td>\n",
       "      <td>1</td>\n",
       "      <td>1</td>\n",
       "      <td>74.99</td>\n",
       "      <td>20.57</td>\n",
       "      <td>95.56</td>\n",
       "      <td>7</td>\n",
       "    </tr>\n",
       "    <tr>\n",
       "      <th>76390</th>\n",
       "      <td>ca77025e7201e3b30c44b472ff346268</td>\n",
       "      <td>852e5ea6e9d74416ddf88bdbdb3189b9</td>\n",
       "      <td>2018-05-03</td>\n",
       "      <td>delivered</td>\n",
       "      <td>0.347778</td>\n",
       "      <td>227.785556</td>\n",
       "      <td>no anomolies</td>\n",
       "      <td>1</td>\n",
       "      <td>4</td>\n",
       "      <td>43.96</td>\n",
       "      <td>148.16</td>\n",
       "      <td>192.12</td>\n",
       "      <td>7</td>\n",
       "    </tr>\n",
       "    <tr>\n",
       "      <th>76391</th>\n",
       "      <td>ca77025e7201e3b30c44b472ff346268</td>\n",
       "      <td>b145bff18e79ac4dfb3fb91e61906f38</td>\n",
       "      <td>2018-02-09</td>\n",
       "      <td>delivered</td>\n",
       "      <td>18.585556</td>\n",
       "      <td>433.108889</td>\n",
       "      <td>no anomolies</td>\n",
       "      <td>1</td>\n",
       "      <td>1</td>\n",
       "      <td>125.90</td>\n",
       "      <td>33.33</td>\n",
       "      <td>159.23</td>\n",
       "      <td>7</td>\n",
       "    </tr>\n",
       "    <tr>\n",
       "      <th>76392</th>\n",
       "      <td>ca77025e7201e3b30c44b472ff346268</td>\n",
       "      <td>c59e684f832f832056ceee2c310cfc7f</td>\n",
       "      <td>2018-01-25</td>\n",
       "      <td>delivered</td>\n",
       "      <td>0.123889</td>\n",
       "      <td>289.255278</td>\n",
       "      <td>no anomolies</td>\n",
       "      <td>1</td>\n",
       "      <td>1</td>\n",
       "      <td>59.90</td>\n",
       "      <td>18.96</td>\n",
       "      <td>78.86</td>\n",
       "      <td>7</td>\n",
       "    </tr>\n",
       "    <tr>\n",
       "      <th>76393</th>\n",
       "      <td>ca77025e7201e3b30c44b472ff346268</td>\n",
       "      <td>dc7dc47999d1b3c4c2f6a085a1a76eef</td>\n",
       "      <td>2018-02-17</td>\n",
       "      <td>delivered</td>\n",
       "      <td>0.756944</td>\n",
       "      <td>572.713611</td>\n",
       "      <td>no anomolies</td>\n",
       "      <td>3</td>\n",
       "      <td>6</td>\n",
       "      <td>313.94</td>\n",
       "      <td>113.42</td>\n",
       "      <td>427.36</td>\n",
       "      <td>7</td>\n",
       "    </tr>\n",
       "    <tr>\n",
       "      <th>76394</th>\n",
       "      <td>ca77025e7201e3b30c44b472ff346268</td>\n",
       "      <td>fc709ab645b71acd6046aeb03b590aa5</td>\n",
       "      <td>2017-10-09</td>\n",
       "      <td>delivered</td>\n",
       "      <td>14.863056</td>\n",
       "      <td>683.869167</td>\n",
       "      <td>no anomolies</td>\n",
       "      <td>1</td>\n",
       "      <td>1</td>\n",
       "      <td>269.90</td>\n",
       "      <td>19.17</td>\n",
       "      <td>289.07</td>\n",
       "      <td>7</td>\n",
       "    </tr>\n",
       "  </tbody>\n",
       "</table>\n",
       "</div>"
      ],
      "text/plain": [
       "                     customer_unique_id                 customer_order_id  \\\n",
       "76388  ca77025e7201e3b30c44b472ff346268  6ccedfba5919d72fcc8c51bfa982de62   \n",
       "76389  ca77025e7201e3b30c44b472ff346268  71f39c371308d132d7633895477dd307   \n",
       "76390  ca77025e7201e3b30c44b472ff346268  852e5ea6e9d74416ddf88bdbdb3189b9   \n",
       "76391  ca77025e7201e3b30c44b472ff346268  b145bff18e79ac4dfb3fb91e61906f38   \n",
       "76392  ca77025e7201e3b30c44b472ff346268  c59e684f832f832056ceee2c310cfc7f   \n",
       "76393  ca77025e7201e3b30c44b472ff346268  dc7dc47999d1b3c4c2f6a085a1a76eef   \n",
       "76394  ca77025e7201e3b30c44b472ff346268  fc709ab645b71acd6046aeb03b590aa5   \n",
       "\n",
       "      purchase_date order_status  approval_in-hours  delivery_in-hours  \\\n",
       "76388    2018-06-01    delivered          15.886667         274.937500   \n",
       "76389    2018-04-26    delivered           0.177500         342.462500   \n",
       "76390    2018-05-03    delivered           0.347778         227.785556   \n",
       "76391    2018-02-09    delivered          18.585556         433.108889   \n",
       "76392    2018-01-25    delivered           0.123889         289.255278   \n",
       "76393    2018-02-17    delivered           0.756944         572.713611   \n",
       "76394    2017-10-09    delivered          14.863056         683.869167   \n",
       "\n",
       "                tag  number_item_types  num_items_in_order  total_item_price  \\\n",
       "76388  no anomolies                  1                   1             74.99   \n",
       "76389  no anomolies                  1                   1             74.99   \n",
       "76390  no anomolies                  1                   4             43.96   \n",
       "76391  no anomolies                  1                   1            125.90   \n",
       "76392  no anomolies                  1                   1             59.90   \n",
       "76393  no anomolies                  3                   6            313.94   \n",
       "76394  no anomolies                  1                   1            269.90   \n",
       "\n",
       "       total_shipping_price  total_order_value  retention_count  \n",
       "76388                 19.21              94.20                7  \n",
       "76389                 20.57              95.56                7  \n",
       "76390                148.16             192.12                7  \n",
       "76391                 33.33             159.23                7  \n",
       "76392                 18.96              78.86                7  \n",
       "76393                113.42             427.36                7  \n",
       "76394                 19.17             289.07                7  "
      ]
     },
     "execution_count": 2267,
     "metadata": {},
     "output_type": "execute_result"
    }
   ],
   "source": [
    "# Marked as retention\n",
    "customer_retention[customer_retention.customer_unique_id == 'ca77025e7201e3b30c44b472ff346268']"
   ]
  },
  {
   "cell_type": "markdown",
   "metadata": {},
   "source": [
    "EXPORT "
   ]
  },
  {
   "cell_type": "markdown",
   "metadata": {},
   "source": [
    "Before exporting the master data for Exploratory analysis, we need to drop some of the ID fields that were previouly used for merges. We will also explicitly define the order that the columns should show up"
   ]
  },
  {
   "cell_type": "code",
   "execution_count": 2268,
   "metadata": {},
   "outputs": [
    {
     "data": {
      "text/plain": [
       "Index(['order_id', 'num_items_in_order', 'product_id_l', 'total_item_price',\n",
       "       'total_shipping_price', 'total_order_value', 'product_id_r',\n",
       "       'number_of_photos', 'category', 'customer_order_id', 'order_status',\n",
       "       'tag', 'purchase_date', 'approval_in-hours', 'delivery_in-hours',\n",
       "       'customer_unique_id', 'zipcode'],\n",
       "      dtype='object')"
      ]
     },
     "execution_count": 2268,
     "metadata": {},
     "output_type": "execute_result"
    }
   ],
   "source": [
    "# LIst the columns\n",
    "master.columns"
   ]
  },
  {
   "cell_type": "code",
   "execution_count": 2269,
   "metadata": {},
   "outputs": [],
   "source": [
    "# Only keep the relevant columns and also specify order for readability\n",
    "column_order = ['customer_unique_id', 'customer_order_id', 'order_status', 'purchase_date', 'num_items_in_order', \\\n",
    "                'total_item_price', 'total_shipping_price', 'total_order_value', 'approval_in-hours',\\\n",
    "                'delivery_in-hours', 'category', 'number_of_photos', 'zipcode', 'tag']"
   ]
  },
  {
   "cell_type": "code",
   "execution_count": 2270,
   "metadata": {},
   "outputs": [],
   "source": [
    "# Now change column list and order using list above\n",
    "master = master[column_order]\n",
    "master_nonull = master_nonull[column_order]"
   ]
  },
  {
   "cell_type": "code",
   "execution_count": 2271,
   "metadata": {},
   "outputs": [
    {
     "data": {
      "text/html": [
       "<div>\n",
       "<style scoped>\n",
       "    .dataframe tbody tr th:only-of-type {\n",
       "        vertical-align: middle;\n",
       "    }\n",
       "\n",
       "    .dataframe tbody tr th {\n",
       "        vertical-align: top;\n",
       "    }\n",
       "\n",
       "    .dataframe thead th {\n",
       "        text-align: right;\n",
       "    }\n",
       "</style>\n",
       "<table border=\"1\" class=\"dataframe\">\n",
       "  <thead>\n",
       "    <tr style=\"text-align: right;\">\n",
       "      <th></th>\n",
       "      <th>customer_unique_id</th>\n",
       "      <th>customer_order_id</th>\n",
       "      <th>purchase_date</th>\n",
       "      <th>order_status</th>\n",
       "      <th>approval_in-hours</th>\n",
       "      <th>delivery_in-hours</th>\n",
       "      <th>tag</th>\n",
       "      <th>number_item_types</th>\n",
       "      <th>num_items_in_order</th>\n",
       "      <th>total_item_price</th>\n",
       "      <th>total_shipping_price</th>\n",
       "      <th>total_order_value</th>\n",
       "      <th>retention_count</th>\n",
       "    </tr>\n",
       "  </thead>\n",
       "  <tbody>\n",
       "    <tr>\n",
       "      <th>0</th>\n",
       "      <td>0000366f3b9a7992bf8c76cfdf3221e2</td>\n",
       "      <td>fadbb3709178fc513abc1b2670aa1ad2</td>\n",
       "      <td>2018-05-10</td>\n",
       "      <td>delivered</td>\n",
       "      <td>0.247500</td>\n",
       "      <td>153.869444</td>\n",
       "      <td>no anomolies</td>\n",
       "      <td>1</td>\n",
       "      <td>1</td>\n",
       "      <td>129.90</td>\n",
       "      <td>12.00</td>\n",
       "      <td>141.90</td>\n",
       "      <td>1</td>\n",
       "    </tr>\n",
       "    <tr>\n",
       "      <th>1</th>\n",
       "      <td>0000b849f77a49e4a4ce2b2a4ca5be3f</td>\n",
       "      <td>4cb282e167ae9234755102258dd52ee8</td>\n",
       "      <td>2018-05-07</td>\n",
       "      <td>delivered</td>\n",
       "      <td>7.238056</td>\n",
       "      <td>78.854167</td>\n",
       "      <td>no anomolies</td>\n",
       "      <td>1</td>\n",
       "      <td>1</td>\n",
       "      <td>18.90</td>\n",
       "      <td>8.29</td>\n",
       "      <td>27.19</td>\n",
       "      <td>1</td>\n",
       "    </tr>\n",
       "    <tr>\n",
       "      <th>2</th>\n",
       "      <td>0000f46a3911fa3c0805444483337064</td>\n",
       "      <td>9b3932a6253894a02c1df9d19004239f</td>\n",
       "      <td>2017-03-10</td>\n",
       "      <td>delivered</td>\n",
       "      <td>0.000000</td>\n",
       "      <td>617.562222</td>\n",
       "      <td>approval_issue approval-same-as-purchase</td>\n",
       "      <td>1</td>\n",
       "      <td>1</td>\n",
       "      <td>69.00</td>\n",
       "      <td>17.22</td>\n",
       "      <td>86.22</td>\n",
       "      <td>1</td>\n",
       "    </tr>\n",
       "    <tr>\n",
       "      <th>3</th>\n",
       "      <td>0000f6ccb0745a6a4b88665a16c9f078</td>\n",
       "      <td>914991f0c02ef0843c0e7010c819d642</td>\n",
       "      <td>2017-10-12</td>\n",
       "      <td>delivered</td>\n",
       "      <td>0.326667</td>\n",
       "      <td>480.890000</td>\n",
       "      <td>no anomolies</td>\n",
       "      <td>1</td>\n",
       "      <td>1</td>\n",
       "      <td>25.99</td>\n",
       "      <td>17.63</td>\n",
       "      <td>43.62</td>\n",
       "      <td>1</td>\n",
       "    </tr>\n",
       "    <tr>\n",
       "      <th>4</th>\n",
       "      <td>0004aac84e0df4da2b147fca70cf8255</td>\n",
       "      <td>47227568b10f5f58a524a75507e6992c</td>\n",
       "      <td>2017-11-14</td>\n",
       "      <td>delivered</td>\n",
       "      <td>0.352778</td>\n",
       "      <td>315.387222</td>\n",
       "      <td>no anomolies</td>\n",
       "      <td>1</td>\n",
       "      <td>1</td>\n",
       "      <td>180.00</td>\n",
       "      <td>16.89</td>\n",
       "      <td>196.89</td>\n",
       "      <td>1</td>\n",
       "    </tr>\n",
       "  </tbody>\n",
       "</table>\n",
       "</div>"
      ],
      "text/plain": [
       "                 customer_unique_id                 customer_order_id  \\\n",
       "0  0000366f3b9a7992bf8c76cfdf3221e2  fadbb3709178fc513abc1b2670aa1ad2   \n",
       "1  0000b849f77a49e4a4ce2b2a4ca5be3f  4cb282e167ae9234755102258dd52ee8   \n",
       "2  0000f46a3911fa3c0805444483337064  9b3932a6253894a02c1df9d19004239f   \n",
       "3  0000f6ccb0745a6a4b88665a16c9f078  914991f0c02ef0843c0e7010c819d642   \n",
       "4  0004aac84e0df4da2b147fca70cf8255  47227568b10f5f58a524a75507e6992c   \n",
       "\n",
       "  purchase_date order_status  approval_in-hours  delivery_in-hours  \\\n",
       "0    2018-05-10    delivered           0.247500         153.869444   \n",
       "1    2018-05-07    delivered           7.238056          78.854167   \n",
       "2    2017-03-10    delivered           0.000000         617.562222   \n",
       "3    2017-10-12    delivered           0.326667         480.890000   \n",
       "4    2017-11-14    delivered           0.352778         315.387222   \n",
       "\n",
       "                                        tag  number_item_types  \\\n",
       "0                              no anomolies                  1   \n",
       "1                              no anomolies                  1   \n",
       "2  approval_issue approval-same-as-purchase                  1   \n",
       "3                              no anomolies                  1   \n",
       "4                              no anomolies                  1   \n",
       "\n",
       "   num_items_in_order  total_item_price  total_shipping_price  \\\n",
       "0                   1            129.90                 12.00   \n",
       "1                   1             18.90                  8.29   \n",
       "2                   1             69.00                 17.22   \n",
       "3                   1             25.99                 17.63   \n",
       "4                   1            180.00                 16.89   \n",
       "\n",
       "   total_order_value  retention_count  \n",
       "0             141.90                1  \n",
       "1              27.19                1  \n",
       "2              86.22                1  \n",
       "3              43.62                1  \n",
       "4             196.89                1  "
      ]
     },
     "execution_count": 2271,
     "metadata": {},
     "output_type": "execute_result"
    }
   ],
   "source": [
    "customer_retention.head()"
   ]
  },
  {
   "cell_type": "markdown",
   "metadata": {},
   "source": [
    "And EXPORT into csv file"
   ]
  },
  {
   "cell_type": "code",
   "execution_count": 2272,
   "metadata": {},
   "outputs": [],
   "source": [
    "master.to_csv('./bonsai_mock_data/output/bonsai_master.csv', index = False)\n",
    "master_nonull.to_csv('./bonsai_mock_data/output/bonsai_product_analysis.csv', index = False)\n",
    "customer_retention.to_csv('./bonsai_mock_data/output/bonsai_customer_analysis.csv', index = False)"
   ]
  }
 ],
 "metadata": {
  "kernelspec": {
   "display_name": "Python 3",
   "language": "python",
   "name": "python3"
  },
  "language_info": {
   "codemirror_mode": {
    "name": "ipython",
    "version": 3
   },
   "file_extension": ".py",
   "mimetype": "text/x-python",
   "name": "python",
   "nbconvert_exporter": "python",
   "pygments_lexer": "ipython3",
   "version": "3.7.2"
  }
 },
 "nbformat": 4,
 "nbformat_minor": 2
}
